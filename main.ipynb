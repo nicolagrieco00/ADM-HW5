{
 "cells": [
  {
   "cell_type": "markdown",
   "id": "b5a19c2e",
   "metadata": {},
   "source": [
    "# HOMEWORK 5 ADM "
   ]
  },
  {
   "cell_type": "markdown",
   "id": "9db891cd",
   "metadata": {},
   "source": [
    "**Authors:**"
   ]
  },
  {
   "cell_type": "code",
   "execution_count": 165,
   "id": "b61ce1b2",
   "metadata": {},
   "outputs": [],
   "source": [
    "data = {'Name': ['Ramona Tarantino', 'Nicola', 'MIchela', 'Gianmarco'],\n",
    "        'Matricula': [2082006, 347842, 2343838, 338748],\n",
    "        'Email': ['ramonatarantino00@gmail.com', 'email', 'email', 'email']}"
   ]
  },
  {
   "cell_type": "code",
   "execution_count": 166,
   "id": "bce5cf11",
   "metadata": {},
   "outputs": [],
   "source": [
    "data = pd.DataFrame(data)\n"
   ]
  },
  {
   "cell_type": "code",
   "execution_count": 167,
   "id": "7190acd1",
   "metadata": {},
   "outputs": [
    {
     "data": {
      "text/html": [
       "<div>\n",
       "<style scoped>\n",
       "    .dataframe tbody tr th:only-of-type {\n",
       "        vertical-align: middle;\n",
       "    }\n",
       "\n",
       "    .dataframe tbody tr th {\n",
       "        vertical-align: top;\n",
       "    }\n",
       "\n",
       "    .dataframe thead th {\n",
       "        text-align: right;\n",
       "    }\n",
       "</style>\n",
       "<table border=\"1\" class=\"dataframe\">\n",
       "  <thead>\n",
       "    <tr style=\"text-align: right;\">\n",
       "      <th></th>\n",
       "      <th>Name</th>\n",
       "      <th>Matricula</th>\n",
       "      <th>Email</th>\n",
       "    </tr>\n",
       "  </thead>\n",
       "  <tbody>\n",
       "    <tr>\n",
       "      <th>0</th>\n",
       "      <td>Ramona Tarantino</td>\n",
       "      <td>2082006</td>\n",
       "      <td>ramonatarantino00@gmail.com</td>\n",
       "    </tr>\n",
       "    <tr>\n",
       "      <th>1</th>\n",
       "      <td>Nicola</td>\n",
       "      <td>347842</td>\n",
       "      <td>email</td>\n",
       "    </tr>\n",
       "    <tr>\n",
       "      <th>2</th>\n",
       "      <td>MIchela</td>\n",
       "      <td>2343838</td>\n",
       "      <td>email</td>\n",
       "    </tr>\n",
       "    <tr>\n",
       "      <th>3</th>\n",
       "      <td>Gianmarco</td>\n",
       "      <td>338748</td>\n",
       "      <td>email</td>\n",
       "    </tr>\n",
       "  </tbody>\n",
       "</table>\n",
       "</div>"
      ],
      "text/plain": [
       "               Name  Matricula                        Email\n",
       "0  Ramona Tarantino    2082006  ramonatarantino00@gmail.com\n",
       "1            Nicola     347842                        email\n",
       "2           MIchela    2343838                        email\n",
       "3         Gianmarco     338748                        email"
      ]
     },
     "metadata": {},
     "output_type": "display_data"
    }
   ],
   "source": [
    "display(data)"
   ]
  },
  {
   "cell_type": "code",
   "execution_count": 2,
   "id": "5b07df64",
   "metadata": {},
   "outputs": [],
   "source": [
    "import pandas as pd\n",
    "import networkx as nx\n",
    "import numpy as np\n",
    "import pickle"
   ]
  },
  {
   "cell_type": "markdown",
   "id": "3c48bbf9",
   "metadata": {},
   "source": [
    "## Dataset"
   ]
  },
  {
   "cell_type": "code",
   "execution_count": 24,
   "id": "d420e0bb",
   "metadata": {},
   "outputs": [
    {
     "data": {
      "text/html": [
       "<div>\n",
       "<style scoped>\n",
       "    .dataframe tbody tr th:only-of-type {\n",
       "        vertical-align: middle;\n",
       "    }\n",
       "\n",
       "    .dataframe tbody tr th {\n",
       "        vertical-align: top;\n",
       "    }\n",
       "\n",
       "    .dataframe thead th {\n",
       "        text-align: right;\n",
       "    }\n",
       "</style>\n",
       "<table border=\"1\" class=\"dataframe\">\n",
       "  <thead>\n",
       "    <tr style=\"text-align: right;\">\n",
       "      <th></th>\n",
       "      <th>hero</th>\n",
       "      <th>comic</th>\n",
       "    </tr>\n",
       "  </thead>\n",
       "  <tbody>\n",
       "    <tr>\n",
       "      <th>0</th>\n",
       "      <td>24-HOUR MAN/EMMANUEL</td>\n",
       "      <td>AA2 35</td>\n",
       "    </tr>\n",
       "    <tr>\n",
       "      <th>1</th>\n",
       "      <td>3-D MAN/CHARLES CHAN</td>\n",
       "      <td>AVF 4</td>\n",
       "    </tr>\n",
       "    <tr>\n",
       "      <th>2</th>\n",
       "      <td>3-D MAN/CHARLES CHAN</td>\n",
       "      <td>AVF 5</td>\n",
       "    </tr>\n",
       "    <tr>\n",
       "      <th>3</th>\n",
       "      <td>3-D MAN/CHARLES CHAN</td>\n",
       "      <td>COC 1</td>\n",
       "    </tr>\n",
       "    <tr>\n",
       "      <th>4</th>\n",
       "      <td>3-D MAN/CHARLES CHAN</td>\n",
       "      <td>H2 251</td>\n",
       "    </tr>\n",
       "    <tr>\n",
       "      <th>...</th>\n",
       "      <td>...</td>\n",
       "      <td>...</td>\n",
       "    </tr>\n",
       "    <tr>\n",
       "      <th>96099</th>\n",
       "      <td>ZZZAX</td>\n",
       "      <td>H2 326</td>\n",
       "    </tr>\n",
       "    <tr>\n",
       "      <th>96100</th>\n",
       "      <td>ZZZAX</td>\n",
       "      <td>H2 327</td>\n",
       "    </tr>\n",
       "    <tr>\n",
       "      <th>96101</th>\n",
       "      <td>ZZZAX</td>\n",
       "      <td>M/CP 8/4</td>\n",
       "    </tr>\n",
       "    <tr>\n",
       "      <th>96102</th>\n",
       "      <td>ZZZAX</td>\n",
       "      <td>PM 47</td>\n",
       "    </tr>\n",
       "    <tr>\n",
       "      <th>96103</th>\n",
       "      <td>ZZZAX</td>\n",
       "      <td>WCA2 12</td>\n",
       "    </tr>\n",
       "  </tbody>\n",
       "</table>\n",
       "<p>96104 rows × 2 columns</p>\n",
       "</div>"
      ],
      "text/plain": [
       "                       hero     comic\n",
       "0      24-HOUR MAN/EMMANUEL    AA2 35\n",
       "1      3-D MAN/CHARLES CHAN     AVF 4\n",
       "2      3-D MAN/CHARLES CHAN     AVF 5\n",
       "3      3-D MAN/CHARLES CHAN     COC 1\n",
       "4      3-D MAN/CHARLES CHAN    H2 251\n",
       "...                     ...       ...\n",
       "96099                 ZZZAX    H2 326\n",
       "96100                 ZZZAX    H2 327\n",
       "96101                 ZZZAX  M/CP 8/4\n",
       "96102                 ZZZAX     PM 47\n",
       "96103                 ZZZAX   WCA2 12\n",
       "\n",
       "[96104 rows x 2 columns]"
      ]
     },
     "execution_count": 24,
     "metadata": {},
     "output_type": "execute_result"
    }
   ],
   "source": [
    "edges = pd.read_csv(\"edges.csv\")\n",
    "edges"
   ]
  },
  {
   "cell_type": "code",
   "execution_count": 4,
   "id": "daab7720",
   "metadata": {},
   "outputs": [
    {
     "data": {
      "text/html": [
       "<div>\n",
       "<style scoped>\n",
       "    .dataframe tbody tr th:only-of-type {\n",
       "        vertical-align: middle;\n",
       "    }\n",
       "\n",
       "    .dataframe tbody tr th {\n",
       "        vertical-align: top;\n",
       "    }\n",
       "\n",
       "    .dataframe thead th {\n",
       "        text-align: right;\n",
       "    }\n",
       "</style>\n",
       "<table border=\"1\" class=\"dataframe\">\n",
       "  <thead>\n",
       "    <tr style=\"text-align: right;\">\n",
       "      <th></th>\n",
       "      <th>hero1</th>\n",
       "      <th>hero2</th>\n",
       "    </tr>\n",
       "  </thead>\n",
       "  <tbody>\n",
       "    <tr>\n",
       "      <th>0</th>\n",
       "      <td>LITTLE, ABNER</td>\n",
       "      <td>PRINCESS ZANDA</td>\n",
       "    </tr>\n",
       "    <tr>\n",
       "      <th>1</th>\n",
       "      <td>LITTLE, ABNER</td>\n",
       "      <td>BLACK PANTHER/T'CHAL</td>\n",
       "    </tr>\n",
       "    <tr>\n",
       "      <th>2</th>\n",
       "      <td>BLACK PANTHER/T'CHAL</td>\n",
       "      <td>PRINCESS ZANDA</td>\n",
       "    </tr>\n",
       "    <tr>\n",
       "      <th>3</th>\n",
       "      <td>LITTLE, ABNER</td>\n",
       "      <td>PRINCESS ZANDA</td>\n",
       "    </tr>\n",
       "    <tr>\n",
       "      <th>4</th>\n",
       "      <td>LITTLE, ABNER</td>\n",
       "      <td>BLACK PANTHER/T'CHAL</td>\n",
       "    </tr>\n",
       "    <tr>\n",
       "      <th>...</th>\n",
       "      <td>...</td>\n",
       "      <td>...</td>\n",
       "    </tr>\n",
       "    <tr>\n",
       "      <th>574462</th>\n",
       "      <td>COLOSSUS II/PETER RA</td>\n",
       "      <td>CALLISTO</td>\n",
       "    </tr>\n",
       "    <tr>\n",
       "      <th>574463</th>\n",
       "      <td>CALLISTO</td>\n",
       "      <td>ROGUE /</td>\n",
       "    </tr>\n",
       "    <tr>\n",
       "      <th>574464</th>\n",
       "      <td>CALLISTO</td>\n",
       "      <td>CALIBAN/</td>\n",
       "    </tr>\n",
       "    <tr>\n",
       "      <th>574465</th>\n",
       "      <td>CALIBAN/</td>\n",
       "      <td>ROGUE /</td>\n",
       "    </tr>\n",
       "    <tr>\n",
       "      <th>574466</th>\n",
       "      <td>HULK/DR. ROBERT BRUC</td>\n",
       "      <td>MARKS, DR. SHIELA</td>\n",
       "    </tr>\n",
       "  </tbody>\n",
       "</table>\n",
       "<p>574467 rows × 2 columns</p>\n",
       "</div>"
      ],
      "text/plain": [
       "                       hero1                 hero2\n",
       "0              LITTLE, ABNER        PRINCESS ZANDA\n",
       "1              LITTLE, ABNER  BLACK PANTHER/T'CHAL\n",
       "2       BLACK PANTHER/T'CHAL        PRINCESS ZANDA\n",
       "3              LITTLE, ABNER        PRINCESS ZANDA\n",
       "4              LITTLE, ABNER  BLACK PANTHER/T'CHAL\n",
       "...                      ...                   ...\n",
       "574462  COLOSSUS II/PETER RA              CALLISTO\n",
       "574463              CALLISTO               ROGUE /\n",
       "574464              CALLISTO              CALIBAN/\n",
       "574465              CALIBAN/               ROGUE /\n",
       "574466  HULK/DR. ROBERT BRUC     MARKS, DR. SHIELA\n",
       "\n",
       "[574467 rows x 2 columns]"
      ]
     },
     "execution_count": 4,
     "metadata": {},
     "output_type": "execute_result"
    }
   ],
   "source": [
    "hero_network = pd.read_csv('hero-network.csv')\n",
    "hero_network "
   ]
  },
  {
   "cell_type": "code",
   "execution_count": 5,
   "id": "e0aa1fb7",
   "metadata": {},
   "outputs": [
    {
     "data": {
      "text/html": [
       "<div>\n",
       "<style scoped>\n",
       "    .dataframe tbody tr th:only-of-type {\n",
       "        vertical-align: middle;\n",
       "    }\n",
       "\n",
       "    .dataframe tbody tr th {\n",
       "        vertical-align: top;\n",
       "    }\n",
       "\n",
       "    .dataframe thead th {\n",
       "        text-align: right;\n",
       "    }\n",
       "</style>\n",
       "<table border=\"1\" class=\"dataframe\">\n",
       "  <thead>\n",
       "    <tr style=\"text-align: right;\">\n",
       "      <th></th>\n",
       "      <th>node</th>\n",
       "      <th>type</th>\n",
       "    </tr>\n",
       "  </thead>\n",
       "  <tbody>\n",
       "    <tr>\n",
       "      <th>0</th>\n",
       "      <td>2001 10</td>\n",
       "      <td>comic</td>\n",
       "    </tr>\n",
       "    <tr>\n",
       "      <th>1</th>\n",
       "      <td>2001 8</td>\n",
       "      <td>comic</td>\n",
       "    </tr>\n",
       "    <tr>\n",
       "      <th>2</th>\n",
       "      <td>2001 9</td>\n",
       "      <td>comic</td>\n",
       "    </tr>\n",
       "    <tr>\n",
       "      <th>3</th>\n",
       "      <td>24-HOUR MAN/EMMANUEL</td>\n",
       "      <td>hero</td>\n",
       "    </tr>\n",
       "    <tr>\n",
       "      <th>4</th>\n",
       "      <td>3-D MAN/CHARLES CHAN</td>\n",
       "      <td>hero</td>\n",
       "    </tr>\n",
       "    <tr>\n",
       "      <th>...</th>\n",
       "      <td>...</td>\n",
       "      <td>...</td>\n",
       "    </tr>\n",
       "    <tr>\n",
       "      <th>19085</th>\n",
       "      <td>ZOTA, CARLO</td>\n",
       "      <td>hero</td>\n",
       "    </tr>\n",
       "    <tr>\n",
       "      <th>19086</th>\n",
       "      <td>ZOTA</td>\n",
       "      <td>hero</td>\n",
       "    </tr>\n",
       "    <tr>\n",
       "      <th>19087</th>\n",
       "      <td>ZURAS</td>\n",
       "      <td>hero</td>\n",
       "    </tr>\n",
       "    <tr>\n",
       "      <th>19088</th>\n",
       "      <td>ZURI</td>\n",
       "      <td>hero</td>\n",
       "    </tr>\n",
       "    <tr>\n",
       "      <th>19089</th>\n",
       "      <td>ZZZAX</td>\n",
       "      <td>hero</td>\n",
       "    </tr>\n",
       "  </tbody>\n",
       "</table>\n",
       "<p>19090 rows × 2 columns</p>\n",
       "</div>"
      ],
      "text/plain": [
       "                       node   type\n",
       "0                   2001 10  comic\n",
       "1                    2001 8  comic\n",
       "2                    2001 9  comic\n",
       "3      24-HOUR MAN/EMMANUEL   hero\n",
       "4      3-D MAN/CHARLES CHAN   hero\n",
       "...                     ...    ...\n",
       "19085           ZOTA, CARLO   hero\n",
       "19086                  ZOTA   hero\n",
       "19087                 ZURAS   hero\n",
       "19088                  ZURI   hero\n",
       "19089                 ZZZAX   hero\n",
       "\n",
       "[19090 rows x 2 columns]"
      ]
     },
     "execution_count": 5,
     "metadata": {},
     "output_type": "execute_result"
    }
   ],
   "source": [
    "nodes = pd.read_csv('nodes.csv')\n",
    "nodes"
   ]
  },
  {
   "cell_type": "markdown",
   "id": "907ffd46",
   "metadata": {},
   "source": [
    "# 1. Data"
   ]
  },
  {
   "cell_type": "markdown",
   "id": "2af5e0c7",
   "metadata": {},
   "source": [
    "### DATA PREPROCESSING\n",
    "- Some heroes' names in 'hero-netowrk.csv' have extra spaces at the end of their names compared to their names in 'edges.csv'.\n",
    "- Some heroes' names in 'hero-netowrk.csv' have an extra '/' at the end of their names compared to their names in 'edges.csv'.\n",
    "- The hero name 'SPIDER-MAN/PETER PARKER' in 'edges.csv' has been changed to 'SPIDER-MAN/PETER PAR' in 'hero-network.csv' due to a string length limit in 'hero-network.csv'.\n"
   ]
  },
  {
   "cell_type": "code",
   "execution_count": null,
   "id": "d5690867",
   "metadata": {},
   "outputs": [],
   "source": [
    "import csv\n",
    "import re\n",
    "\n",
    "# Read the hero-network.csv file\n",
    "with open('hero-network.csv', 'r') as f:\n",
    "    reader = csv.reader(f)\n",
    "    \n",
    "    # Create a new list to hold the cleaned data\n",
    "    cleaned_data = []\n",
    "    for row in reader:\n",
    "        # Use a regular expression to remove the extra spaces from the names\n",
    "        # in the row\n",
    "        cleaned_row = [re.sub(r' +', '', name) for name in row]\n",
    "        \n",
    "        \n",
    "        # Add the cleaned row to the list\n",
    "        cleaned_data.append(cleaned_row)\n",
    "\n",
    "# Write the cleaned data to a new CSV file\n",
    "with open('hero-network-cleaned.csv', 'w') as f:\n",
    "    writer = csv.writer(f)\n",
    "    writer.writerows(cleaned_data)"
   ]
  },
  {
   "cell_type": "code",
   "execution_count": null,
   "id": "d7486c8d",
   "metadata": {},
   "outputs": [],
   "source": [
    "# find the names that appear in both sets of names\n",
    "import pandas as pd\n",
    "df1 = pd.read_csv('hero-network-cleaned.csv')\n",
    "\n",
    "# read the second dataset into a dataframe\n",
    "df2 = pd.read_csv('edges.csv')\n",
    "\n",
    "# create a set of hero names from the hero1 and hero2 columns in the first dataset\n",
    "hero_names1 = set(df1['hero1']) | set(df1['hero2'])\n",
    "\n",
    "# create a set of hero names from the hero column in the second dataset\n",
    "hero_names2 = set(df2['hero'])\n",
    "\n",
    "common_names = df1[df1['hero1'].isin(hero_names2) | df1['hero2'].isin(hero_names2)]\n",
    "\n",
    "# print the common names\n",
    "print(common_names)\n",
    "\n",
    "common_names.count()\n"
   ]
  },
  {
   "cell_type": "code",
   "execution_count": null,
   "id": "828aa66b",
   "metadata": {},
   "outputs": [],
   "source": [
    "# read the hero-network.csv file into a dataframe\n",
    "import pandas as pd\n",
    "hero_network_df = pd.read_csv('hero-network.csv')\n",
    "\n",
    "# read the edges.csv file into a dataframe\n",
    "edges_df = pd.read_csv('edges.csv')\n",
    "\n",
    "# create a set of hero names from the hero1 and hero2 columns in hero-network.csv\n",
    "hero_network_names = set(hero_network_df['hero1']) | set(hero_network_df['hero2'])\n",
    "\n",
    "# create a set of hero names from the hero column in edges.csv\n",
    "edges_names = set(edges_df['hero'])\n",
    "\n",
    "# find the names that appear in hero-network.csv but not in edges.csv\n",
    "# and remove any extra spaces and the extra '/' from the end of the names\n",
    "missing_names = [name.strip()[:-1] for name in hero_network_names - edges_names if name[-1] == '/']\n",
    "\n",
    "# update the names in hero-network.csv to match the names in edges.csv\n",
    "hero_network_df.loc[hero_network_df['hero1'].isin(missing_names), 'hero1'] = missing_names\n",
    "hero_network_df.loc[hero_network_df['hero2'].isin(missing_names), 'hero2'] = missing_names\n",
    "\n",
    "# write the updated dataframe to a new csv file\n",
    "hero_network_df.to_csv('hero-network-corrected.csv', index=False)\n"
   ]
  },
  {
   "cell_type": "code",
   "execution_count": null,
   "id": "6b766ca3",
   "metadata": {},
   "outputs": [],
   "source": [
    "print(missing_names)"
   ]
  },
  {
   "cell_type": "code",
   "execution_count": null,
   "id": "72b798aa",
   "metadata": {},
   "outputs": [],
   "source": [
    "hero_network_df_corrected = pd.read_csv('hero-network-corrected.csv')\n",
    "hero_network_df_corrected "
   ]
  },
  {
   "cell_type": "code",
   "execution_count": null,
   "id": "fdeb4144",
   "metadata": {},
   "outputs": [],
   "source": [
    "# load the dataset into a pandas DataFrame\n",
    "hero_network_df_corrected = pd.read_csv('hero-network.csv')\n",
    "\n",
    "# replace the string 'SPIDER-MAN/PETER PAR' with 'SPIDER-MAN/PETER PARKER' in columns 'hero1' and 'hero2'\n",
    "hero_network_df_corrected['hero1'] = hero_network_df_corrected['hero1'].replace('SPIDER-MAN/PETER PAR', 'SPIDER-MAN/PETER PARKER')\n",
    "hero_network_df_corrected['hero2'] = hero_network_df_corrected['hero2'].replace('SPIDER-MAN/PETER PAR', 'SPIDER-MAN/PETER PARKER')\n",
    "\n",
    "# save the modified DataFrame to a new CSV file\n",
    "hero_network_df_corrected.to_csv('modified-hero-network.csv', index=False)\n"
   ]
  },
  {
   "cell_type": "code",
   "execution_count": 7,
   "id": "5681659e",
   "metadata": {},
   "outputs": [
    {
     "data": {
      "text/html": [
       "<div>\n",
       "<style scoped>\n",
       "    .dataframe tbody tr th:only-of-type {\n",
       "        vertical-align: middle;\n",
       "    }\n",
       "\n",
       "    .dataframe tbody tr th {\n",
       "        vertical-align: top;\n",
       "    }\n",
       "\n",
       "    .dataframe thead th {\n",
       "        text-align: right;\n",
       "    }\n",
       "</style>\n",
       "<table border=\"1\" class=\"dataframe\">\n",
       "  <thead>\n",
       "    <tr style=\"text-align: right;\">\n",
       "      <th></th>\n",
       "      <th>hero1</th>\n",
       "      <th>hero2</th>\n",
       "    </tr>\n",
       "  </thead>\n",
       "  <tbody>\n",
       "    <tr>\n",
       "      <th>0</th>\n",
       "      <td>LITTLE, ABNER</td>\n",
       "      <td>PRINCESS ZANDA</td>\n",
       "    </tr>\n",
       "    <tr>\n",
       "      <th>1</th>\n",
       "      <td>LITTLE, ABNER</td>\n",
       "      <td>BLACK PANTHER/T'CHAL</td>\n",
       "    </tr>\n",
       "    <tr>\n",
       "      <th>2</th>\n",
       "      <td>BLACK PANTHER/T'CHAL</td>\n",
       "      <td>PRINCESS ZANDA</td>\n",
       "    </tr>\n",
       "    <tr>\n",
       "      <th>3</th>\n",
       "      <td>LITTLE, ABNER</td>\n",
       "      <td>PRINCESS ZANDA</td>\n",
       "    </tr>\n",
       "    <tr>\n",
       "      <th>4</th>\n",
       "      <td>LITTLE, ABNER</td>\n",
       "      <td>BLACK PANTHER/T'CHAL</td>\n",
       "    </tr>\n",
       "    <tr>\n",
       "      <th>...</th>\n",
       "      <td>...</td>\n",
       "      <td>...</td>\n",
       "    </tr>\n",
       "    <tr>\n",
       "      <th>574462</th>\n",
       "      <td>COLOSSUS II/PETER RA</td>\n",
       "      <td>CALLISTO</td>\n",
       "    </tr>\n",
       "    <tr>\n",
       "      <th>574463</th>\n",
       "      <td>CALLISTO</td>\n",
       "      <td>ROGUE /</td>\n",
       "    </tr>\n",
       "    <tr>\n",
       "      <th>574464</th>\n",
       "      <td>CALLISTO</td>\n",
       "      <td>CALIBAN/</td>\n",
       "    </tr>\n",
       "    <tr>\n",
       "      <th>574465</th>\n",
       "      <td>CALIBAN/</td>\n",
       "      <td>ROGUE /</td>\n",
       "    </tr>\n",
       "    <tr>\n",
       "      <th>574466</th>\n",
       "      <td>HULK/DR. ROBERT BRUC</td>\n",
       "      <td>MARKS, DR. SHIELA</td>\n",
       "    </tr>\n",
       "  </tbody>\n",
       "</table>\n",
       "<p>574467 rows × 2 columns</p>\n",
       "</div>"
      ],
      "text/plain": [
       "                       hero1                 hero2\n",
       "0              LITTLE, ABNER        PRINCESS ZANDA\n",
       "1              LITTLE, ABNER  BLACK PANTHER/T'CHAL\n",
       "2       BLACK PANTHER/T'CHAL        PRINCESS ZANDA\n",
       "3              LITTLE, ABNER        PRINCESS ZANDA\n",
       "4              LITTLE, ABNER  BLACK PANTHER/T'CHAL\n",
       "...                      ...                   ...\n",
       "574462  COLOSSUS II/PETER RA              CALLISTO\n",
       "574463              CALLISTO               ROGUE /\n",
       "574464              CALLISTO              CALIBAN/\n",
       "574465              CALIBAN/               ROGUE /\n",
       "574466  HULK/DR. ROBERT BRUC     MARKS, DR. SHIELA\n",
       "\n",
       "[574467 rows x 2 columns]"
      ]
     },
     "execution_count": 7,
     "metadata": {},
     "output_type": "execute_result"
    }
   ],
   "source": [
    "df = pd.read_csv('modified-hero-network.csv')\n",
    "df"
   ]
  },
  {
   "cell_type": "markdown",
   "id": "61d9c88c",
   "metadata": {},
   "source": [
    "- Some entries in the 'hero-network.csv' have the same hero in both columns. In the graph, these entries form a self-loop. Because a self-loop makes no sense in this network, you can safely remove those from the dataset."
   ]
  },
  {
   "cell_type": "code",
   "execution_count": null,
   "id": "5371b5f8",
   "metadata": {},
   "outputs": [],
   "source": [
    "df_subset = df[df['hero1'] != df['hero2']]\n",
    "# save the new DataFrame to a new CSV file\n",
    "df_subset.to_csv('final-hero-network.csv', index=False)"
   ]
  },
  {
   "cell_type": "code",
   "execution_count": null,
   "id": "a08a0dc9",
   "metadata": {},
   "outputs": [],
   "source": [
    "df = pd.read_csv('final-hero-network.csv')\n",
    "df"
   ]
  },
  {
   "cell_type": "code",
   "execution_count": 9,
   "id": "3ed549f6",
   "metadata": {},
   "outputs": [
    {
     "name": "stdout",
     "output_type": "stream",
     "text": [
      "0\n"
     ]
    }
   ],
   "source": [
    "count = df[df['hero1'] == df['hero2']].shape[0]\n",
    "\n",
    "# print the count\n",
    "print(count)\n",
    "\n",
    "#OK IT WORKS, there's not the duplicate rows"
   ]
  },
  {
   "cell_type": "code",
   "execution_count": 17,
   "id": "eaf9ba9d",
   "metadata": {},
   "outputs": [],
   "source": [
    "df = df[df['hero1'] != df['hero2']]"
   ]
  },
  {
   "cell_type": "code",
   "execution_count": 19,
   "id": "2d525d5f",
   "metadata": {},
   "outputs": [],
   "source": [
    "df.to_csv('final-hero-network2.csv', index=False)"
   ]
  },
  {
   "cell_type": "code",
   "execution_count": 78,
   "id": "11f6fcee",
   "metadata": {
    "scrolled": true
   },
   "outputs": [
    {
     "data": {
      "text/html": [
       "<div>\n",
       "<style scoped>\n",
       "    .dataframe tbody tr th:only-of-type {\n",
       "        vertical-align: middle;\n",
       "    }\n",
       "\n",
       "    .dataframe tbody tr th {\n",
       "        vertical-align: top;\n",
       "    }\n",
       "\n",
       "    .dataframe thead th {\n",
       "        text-align: right;\n",
       "    }\n",
       "</style>\n",
       "<table border=\"1\" class=\"dataframe\">\n",
       "  <thead>\n",
       "    <tr style=\"text-align: right;\">\n",
       "      <th></th>\n",
       "      <th>hero1</th>\n",
       "      <th>hero2</th>\n",
       "    </tr>\n",
       "  </thead>\n",
       "  <tbody>\n",
       "    <tr>\n",
       "      <th>0</th>\n",
       "      <td>LITTLE, ABNER</td>\n",
       "      <td>PRINCESS ZANDA</td>\n",
       "    </tr>\n",
       "    <tr>\n",
       "      <th>1</th>\n",
       "      <td>LITTLE, ABNER</td>\n",
       "      <td>BLACK PANTHER/T'CHAL</td>\n",
       "    </tr>\n",
       "    <tr>\n",
       "      <th>2</th>\n",
       "      <td>BLACK PANTHER/T'CHAL</td>\n",
       "      <td>PRINCESS ZANDA</td>\n",
       "    </tr>\n",
       "    <tr>\n",
       "      <th>3</th>\n",
       "      <td>LITTLE, ABNER</td>\n",
       "      <td>PRINCESS ZANDA</td>\n",
       "    </tr>\n",
       "    <tr>\n",
       "      <th>4</th>\n",
       "      <td>LITTLE, ABNER</td>\n",
       "      <td>BLACK PANTHER/T'CHAL</td>\n",
       "    </tr>\n",
       "    <tr>\n",
       "      <th>...</th>\n",
       "      <td>...</td>\n",
       "      <td>...</td>\n",
       "    </tr>\n",
       "    <tr>\n",
       "      <th>572230</th>\n",
       "      <td>COLOSSUS II/PETER RA</td>\n",
       "      <td>CALLISTO</td>\n",
       "    </tr>\n",
       "    <tr>\n",
       "      <th>572231</th>\n",
       "      <td>CALLISTO</td>\n",
       "      <td>ROGUE /</td>\n",
       "    </tr>\n",
       "    <tr>\n",
       "      <th>572232</th>\n",
       "      <td>CALLISTO</td>\n",
       "      <td>CALIBAN/</td>\n",
       "    </tr>\n",
       "    <tr>\n",
       "      <th>572233</th>\n",
       "      <td>CALIBAN/</td>\n",
       "      <td>ROGUE /</td>\n",
       "    </tr>\n",
       "    <tr>\n",
       "      <th>572234</th>\n",
       "      <td>HULK/DR. ROBERT BRUC</td>\n",
       "      <td>MARKS, DR. SHIELA</td>\n",
       "    </tr>\n",
       "  </tbody>\n",
       "</table>\n",
       "<p>572235 rows × 2 columns</p>\n",
       "</div>"
      ],
      "text/plain": [
       "                       hero1                 hero2\n",
       "0              LITTLE, ABNER        PRINCESS ZANDA\n",
       "1              LITTLE, ABNER  BLACK PANTHER/T'CHAL\n",
       "2       BLACK PANTHER/T'CHAL        PRINCESS ZANDA\n",
       "3              LITTLE, ABNER        PRINCESS ZANDA\n",
       "4              LITTLE, ABNER  BLACK PANTHER/T'CHAL\n",
       "...                      ...                   ...\n",
       "572230  COLOSSUS II/PETER RA              CALLISTO\n",
       "572231              CALLISTO               ROGUE /\n",
       "572232              CALLISTO              CALIBAN/\n",
       "572233              CALIBAN/               ROGUE /\n",
       "572234  HULK/DR. ROBERT BRUC     MARKS, DR. SHIELA\n",
       "\n",
       "[572235 rows x 2 columns]"
      ]
     },
     "execution_count": 78,
     "metadata": {},
     "output_type": "execute_result"
    }
   ],
   "source": [
    "df = pd.read_csv('final-hero-network2.csv')\n",
    "df"
   ]
  },
  {
   "cell_type": "markdown",
   "id": "7a55622a",
   "metadata": {},
   "source": [
    "#### 'final-hero-network2.csv' is the final dataset preprocessed"
   ]
  },
  {
   "cell_type": "markdown",
   "id": "0d082697",
   "metadata": {},
   "source": [
    "### Graphs setup"
   ]
  },
  {
   "cell_type": "markdown",
   "id": "50fa540a",
   "metadata": {},
   "source": [
    "**First graph** : Will be constructed using the data stored in the 'hero-network.csv' file, in which an edge between two heroes can be found if they have appeared in the same comic together. The number of edges between two heroes represents the number of times they have collaborated in different comics. The graph should be considered weighted and undirected. It is up to you to decide which metric to use to calculate the weights, but we anticipate that the cost will be lower for heroes with more collaborations. Please specify which metric you used to select the weights in the report.\n",
    "\n"
   ]
  },
  {
   "cell_type": "code",
   "execution_count": 3,
   "id": "a09ab2e7",
   "metadata": {},
   "outputs": [],
   "source": [
    "data_df = pd.read_csv('final-hero-network2.csv')\n",
    "\n",
    "# Group the data by hero1 and hero2, and calculate the total number of collaborations between each pair\n",
    "edge_df = data_df.groupby(['hero1', 'hero2']).size().reset_index(name='collaborations')\n",
    "\n",
    "# Create an empty graph object\n",
    "G = nx.Graph(weighted=True, directed=False)\n",
    "\n",
    "# Add edges to the graph\n",
    "for i, row in edge_df.iterrows():\n",
    "    hero1 = row['hero1']\n",
    "    hero2 = row['hero2']\n",
    "    collaborations = row['collaborations']\n",
    "    \n",
    "    # Calculate the weight of the edge using the inverse of the total number of collaborations\n",
    "    weight = 1 / collaborations\n",
    "    \n",
    "    # Add the edge to the graph\n",
    "    G.add_edge(hero1, hero2, weight=weight)\n",
    "\n",
    "\n"
   ]
  },
  {
   "cell_type": "code",
   "execution_count": 308,
   "id": "846d237b",
   "metadata": {},
   "outputs": [
    {
     "data": {
      "text/plain": [
       "'Graph with 6426 nodes and 167207 edges'"
      ]
     },
     "execution_count": 308,
     "metadata": {},
     "output_type": "execute_result"
    }
   ],
   "source": [
    "nx.info(G)"
   ]
  },
  {
   "cell_type": "code",
   "execution_count": 317,
   "id": "261b4d2a",
   "metadata": {},
   "outputs": [
    {
     "name": "stdout",
     "output_type": "stream",
     "text": [
      "Number of nodes: 6426\n",
      "Number of edges: 167207\n"
     ]
    }
   ],
   "source": [
    "print(f'Number of nodes: {G.number_of_nodes()}')\n",
    "print(f'Number of edges: {G.number_of_edges()}')"
   ]
  },
  {
   "cell_type": "code",
   "execution_count": 16,
   "id": "b24176ea",
   "metadata": {},
   "outputs": [],
   "source": [
    "for u, v, weight in G.edges(data='weight'):\n",
    "    if 'weight' not in G.nodes[u]:\n",
    "        G.nodes[u]['weight'] = weight\n",
    "    else:\n",
    "        G.nodes[u]['weight'] += weight\n",
    "    if 'weight' not in G.nodes[v]:\n",
    "        G.nodes[v]['weight'] = weight\n",
    "    else:\n",
    "        G.nodes[v]['weight'] += weight\n"
   ]
  },
  {
   "cell_type": "markdown",
   "id": "7b67d19c",
   "metadata": {},
   "source": [
    "### SECOND GRAPH"
   ]
  },
  {
   "cell_type": "code",
   "execution_count": 22,
   "id": "74f38cde",
   "metadata": {},
   "outputs": [],
   "source": [
    "import pandas as pd\n",
    "import networkx as nx\n",
    "\n",
    "# Read the nodes data from nodes.csv into a DataFrame\n",
    "nodes_df = pd.read_csv('nodes.csv')\n",
    "\n",
    "# Read the edges data from edges.csv into a DataFrame\n",
    "edges_df = pd.read_csv('edges.csv')\n",
    "\n",
    "# Create a graph from the edges DataFrame\n",
    "G2 = nx.from_pandas_edgelist(edges_df, 'hero', 'comic')\n",
    "\n",
    "# Set the node type as an attribute of the nodes in the graph\n",
    "nodes_df = nodes_df.set_index('node')\n",
    "node_types = nodes_df['type']\n",
    "nx.set_node_attributes(G2, node_types, 'type')\n"
   ]
  },
  {
   "cell_type": "code",
   "execution_count": 91,
   "id": "7a9fa076",
   "metadata": {},
   "outputs": [
    {
     "data": {
      "text/plain": [
       "'Graph with 19090 nodes and 96104 edges'"
      ]
     },
     "execution_count": 91,
     "metadata": {},
     "output_type": "execute_result"
    }
   ],
   "source": [
    "nx.info(G2)"
   ]
  },
  {
   "cell_type": "markdown",
   "id": "7ef3c9e5",
   "metadata": {},
   "source": [
    "This code will create an undirected, unweighted graph with nodes for each hero and comic in the data, and edges between heroes and comics indicating which heroes appear in which comics. The node type (hero or comic) will be stored as an attribute of the node."
   ]
  },
  {
   "cell_type": "markdown",
   "id": "6b81ab8a",
   "metadata": {},
   "source": [
    "### Save the two graphs in a pickle files "
   ]
  },
  {
   "cell_type": "code",
   "execution_count": 318,
   "id": "f637ca6e",
   "metadata": {},
   "outputs": [],
   "source": [
    "# Save the graph to a file using pickle\n",
    "with open('graph1.pickle', 'wb') as f:\n",
    "    pickle.dump(G, f)\n",
    "    \n",
    "with open('graph2.pickle', 'wb') as f:\n",
    "    pickle.dump(G2, f)\n",
    "    "
   ]
  },
  {
   "cell_type": "code",
   "execution_count": 34,
   "id": "6d27eae8",
   "metadata": {},
   "outputs": [],
   "source": [
    "with open('graph1.pickle', 'rb') as f:\n",
    "    G1 = pickle.load(f)\n"
   ]
  },
  {
   "cell_type": "code",
   "execution_count": 35,
   "id": "c8db42e1",
   "metadata": {},
   "outputs": [
    {
     "data": {
      "text/plain": [
       "'Graph with 6426 nodes and 167207 edges'"
      ]
     },
     "execution_count": 35,
     "metadata": {},
     "output_type": "execute_result"
    }
   ],
   "source": [
    "nx.info(G1)"
   ]
  },
  {
   "cell_type": "code",
   "execution_count": 157,
   "id": "75ff3d64",
   "metadata": {},
   "outputs": [],
   "source": [
    "with open('graph2.pickle', 'rb') as f:\n",
    "    G2 = pickle.load(f)"
   ]
  },
  {
   "cell_type": "code",
   "execution_count": 37,
   "id": "e7e7ec69",
   "metadata": {},
   "outputs": [
    {
     "data": {
      "text/plain": [
       "'Graph with 19090 nodes and 96104 edges'"
      ]
     },
     "execution_count": 37,
     "metadata": {},
     "output_type": "execute_result"
    }
   ],
   "source": [
    "nx.info(G2)"
   ]
  },
  {
   "cell_type": "markdown",
   "id": "f0d26f63",
   "metadata": {},
   "source": [
    "## 2. Backend Implementation"
   ]
  },
  {
   "cell_type": "markdown",
   "id": "ab2c592a",
   "metadata": {},
   "source": [
    "Definition: As the number of nodes and edges grows, we may request to work on a subset of the data to reduce computation time and improve network visualization. In this case, we will ask you only to consider the data for top N heros. We define the top N heroes as follows:\n",
    "- **Top N heroes**: The **top N heroes who have appeared in the most number of comics**. The 'edges.csv' file, which represents the comics in which each hero has appeared, can be used to filter these N heroes."
   ]
  },
  {
   "cell_type": "markdown",
   "id": "2200f116",
   "metadata": {},
   "source": [
    "The goal of this part is the implementation of a controller system that has different functionalities. The controller should take as input an identifier \"i\" and run the associated function_i applied to the graph you create from the downloaded data."
   ]
  },
  {
   "cell_type": "markdown",
   "id": "e06be493",
   "metadata": {},
   "source": [
    "### **This code take as input an identifier \"i\" and run the associated function_i applied to the graph you create from the downloaded data**\n",
    "\n",
    "\n",
    "**There's an example with i = 1 -> Run the functionality 1**"
   ]
  },
  {
   "cell_type": "code",
   "execution_count": 161,
   "id": "931e6385",
   "metadata": {},
   "outputs": [],
   "source": [
    "# Create a dictionary mapping the identifier i to the function function_i\n",
    "functions = {\n",
    "    1: functionality_1 \n",
    "    3: functionality_3\n",
    "}"
   ]
  },
  {
   "cell_type": "code",
   "execution_count": 93,
   "id": "1dcc6100",
   "metadata": {},
   "outputs": [
    {
     "name": "stdout",
     "output_type": "stream",
     "text": [
      "Enter an identifier: 1\n"
     ]
    },
    {
     "data": {
      "text/plain": [
       "{'BEAST/HENRY &HANK& P': {'collaborations': 473.0},\n",
       " 'CAPTAIN AMERICA': {'collaborations': 883.0},\n",
       " 'CYCLOPS/SCOTT SUMMER': {'collaborations': 419.0},\n",
       " 'DAREDEVIL/MATT MURDO': {'collaborations': 284.0},\n",
       " 'HAWK': {'collaborations': 516.0},\n",
       " 'HULK/DR. ROBERT BRUC': {'collaborations': 389.0},\n",
       " 'HUMAN TORCH/JOHNNY S': {'collaborations': 1138.0},\n",
       " 'JAMESON, J. JONAH': {'collaborations': 407.0},\n",
       " 'MR. FANTASTIC/REED R': {'collaborations': 1112.0},\n",
       " 'SPIDER-MAN/PETER PARKER': {'collaborations': 738.0},\n",
       " 'THING/BENJAMIN J. GR': {'collaborations': 1175.0},\n",
       " 'THOR/DR. DONALD BLAK': {'collaborations': 678.0},\n",
       " 'number_of_nodes': 12,\n",
       " 'density': 1.0,\n",
       " 'degree_distribution': [0, 0, 0, 0, 0, 0, 0, 0, 0, 0, 0, 12],\n",
       " 'avg_degree': 11.0,\n",
       " 'hubs': ['BEAST/HENRY &HANK& P',\n",
       "  'DAREDEVIL/MATT MURDO',\n",
       "  'THOR/DR. DONALD BLAK',\n",
       "  'CAPTAIN AMERICA',\n",
       "  'SPIDER-MAN/PETER PARKER',\n",
       "  'HAWK',\n",
       "  'CYCLOPS/SCOTT SUMMER',\n",
       "  'HUMAN TORCH/JOHNNY S',\n",
       "  'HULK/DR. ROBERT BRUC',\n",
       "  'THING/BENJAMIN J. GR',\n",
       "  'JAMESON, J. JONAH',\n",
       "  'MR. FANTASTIC/REED R'],\n",
       " 'network_type': 'dense'}"
      ]
     },
     "execution_count": 93,
     "metadata": {},
     "output_type": "execute_result"
    }
   ],
   "source": [
    "# Read the identifier i from the user\n",
    "i = int(input('Enter an identifier: '))\n",
    "# Look up the function corresponding to the identifier i\n",
    "func = functions[i]\n",
    "# Execute the function on the graph\n",
    "func(G1, 1, N= 20)\n"
   ]
  },
  {
   "cell_type": "markdown",
   "id": "d960ad99",
   "metadata": {},
   "source": [
    "## Functionality 1 - extract the graph's features\n",
    "Input:\n",
    "\n",
    "- The graph data\n",
    "- The graph type (ex., number 1 or number 2)\n",
    "- N: denoting the top N heroes that their data should be considered\n",
    "\n",
    "Output:\n",
    "\n",
    "- The number of nodes in the network (if type 2, report for both node types)\n",
    "- The number of collaborations of each superhero with the others (only if type 1)\n",
    "- The number of heroes that have appeared in each comic (only if type 2)\n",
    "- The network's density\n",
    "- The network's degree distribution\n",
    "- The average degree of the network\n",
    "- The network's Hubs (hubs are nodes having degrees more extensive than the 95th percentile of the degree distribution) Whether the Network is sparse or dense"
   ]
  },
  {
   "cell_type": "code",
   "execution_count": 158,
   "id": "c99fe2fe",
   "metadata": {},
   "outputs": [],
   "source": [
    "def my_number_of_nodes(G):\n",
    "    return len(G.nodes)\n",
    "def adjacent_edges(G, node):\n",
    "    # Initialize an empty list to store the adjacent edges\n",
    "    adjacent_edges = []\n",
    "    # Iterate over all the edges in the graph\n",
    "    for u, v in G.edges():\n",
    "        # If the node is the source or target of the edge, add it to the list of adjacent edges\n",
    "        if u == node or v == node:\n",
    "            adjacent_edges.append((u, v))\n",
    "    # Return an iterator over the adjacent edges\n",
    "    return iter(adjacent_edges)\n",
    "def my_neighbors(G, node):\n",
    "    # Initialize a set to store the neighbors\n",
    "    neighbors = set()\n",
    "    # Iterate over the edges adjacent to the node\n",
    "    for n1, n2 in adjacent_edges(G,node):\n",
    "        # If the node is the source of the edge, add the target to the set of neighbors\n",
    "        if n1 == node:\n",
    "            neighbors.add(n2)\n",
    "        # If the node is the target of the edge, add the source to the set of neighbors\n",
    "        elif n2 == node:\n",
    "            neighbors.add(n1)\n",
    "    # Convert the set to a list and return it\n",
    "    return list(neighbors)\n",
    "def my_density(G):\n",
    "    num_nodes = len(G.nodes)\n",
    "    num_edges = len(G.edges)\n",
    "    if num_nodes == 0 or num_nodes == 1:\n",
    "        return 0\n",
    "    return num_edges / (num_nodes * (num_nodes - 1) / 2)\n",
    "def my_degree_histogram(G):\n",
    "    degrees = [len(G[node]) for node in G.nodes]\n",
    "    max_degree = max(degrees)\n",
    "    histogram = [0] * (max_degree+1)\n",
    "    for d in degrees:\n",
    "        histogram[d] += 1\n",
    "    return histogram\n",
    "def my_degree(G):\n",
    "    # Initialize a dictionary to store the degrees of the nodes\n",
    "    degrees = {}\n",
    "    # Iterate over all the nodes in the graph\n",
    "    for node in G.nodes():\n",
    "        # Find the neighbors of the node\n",
    "        neighbors = list(my_neighbors(G, node))\n",
    "        # Store the degree of the node in the dictionary\n",
    "        degrees[node] = len(neighbors)\n",
    "    # Return the dictionary of degrees\n",
    "    return degrees"
   ]
  },
  {
   "cell_type": "code",
   "execution_count": 159,
   "id": "400c151d",
   "metadata": {},
   "outputs": [],
   "source": [
    "edges_df =  pd.read_csv(\"edges.csv\")"
   ]
  },
  {
   "cell_type": "code",
   "execution_count": 160,
   "id": "e9d49aab",
   "metadata": {},
   "outputs": [],
   "source": [
    "def functionality_1(G, graph_type, N=None):\n",
    "    features={}\n",
    "  # graph_type should be either 1 or 2\n",
    "  # N is the top N heroes that should be considered (if not provided, consider all heroes)\n",
    "\n",
    "  # if N is not provided, consider all heroes in the graph\n",
    "    if N is None:\n",
    "        G_sub = G\n",
    "    else:\n",
    "        G_sub = nx.subgraph(G, list(edges_df['hero'].value_counts().head(N).index) +     # we are taking a subgraph with only nodes of the top N heroes\n",
    "                         list(edges_df[edges_df['hero'].isin(list(edges_df['hero'].value_counts().head(N).index))]['comic'].unique()))    # we are also considering the nodes of the comics where top N heroes appeared \n",
    "\n",
    "  # now we can use the G_sub graph to compute the desired statistics\n",
    "\n",
    "    if graph_type == 1:\n",
    "    \n",
    "        # Iterate over the edges in the graph\n",
    "        for source, target, weight in G_sub.edges(data='weight'):\n",
    "            # Calculate the number of collaborations as the reciprocal of the weight\n",
    "            collaborations = 1 / weight\n",
    "\n",
    "            # Update the collaborations count for the source node\n",
    "            if source in features:\n",
    "                features[source]['collaborations'] += collaborations\n",
    "            else:\n",
    "                features[source] = {'collaborations': collaborations}\n",
    "\n",
    "            # Update the collaborations count for the target node\n",
    "            if target in features:\n",
    "                features[target]['collaborations'] += collaborations\n",
    "            else:\n",
    "                features[target] = {'collaborations': collaborations}\n",
    "#source and target are variables that are being used to represent the nodes at the endpoints of an edge in a graph.      \n",
    "# for loop iterates over the edges in the graph and assigns the source node to the variable source, the target node to the variable target, and the weight of the edge to the variable weight.      \n",
    "    \n",
    "        num_nodes = G_sub.number_of_nodes()\n",
    "        features['number_of_nodes'] = num_nodes\n",
    "\n",
    "\n",
    "    elif graph_type == 2:\n",
    "        # Get the node types (hero or comic) of all the nodes in the graph\n",
    "        node_types = nx.get_node_attributes(G_sub, 'type')\n",
    "\n",
    "        # Initialize dictionaries to track the number of heroes that have appeared in each comic\n",
    "        hero_appearances = {}\n",
    "        comic_appearances_total = {}\n",
    "\n",
    "        # Iterate over the nodes in the graph\n",
    "        for node, node_type in node_types.items():\n",
    "            # Count the number of neighbors of the node\n",
    "            num_neighbors = len(list(G_sub.neighbors(node)))\n",
    "            if node_type == 'hero':  # If the node is a hero node\n",
    "                # Add the count of its neighbors to the dictionary that tracks the number of heroes that have appeared in each comic\n",
    "                hero_appearances[node] = num_neighbors\n",
    "            else:  # If the node is a comic node\n",
    "                # Add the count of its neighbors to the dictionary that tracks the number of heroes that have appeared in each comic\n",
    "                comic_appearances_total[node] = num_neighbors\n",
    "\n",
    "        features['hero_appearances'] = hero_appearances\n",
    "        features['comic_appearances_total'] = comic_appearances_total\n",
    "        \n",
    "        \n",
    "        # Get the node types (hero or comic) of all the nodes in the graph\n",
    "        node_types = nx.get_node_attributes(G_sub, 'type')\n",
    "\n",
    "        # Initialize counters for the number of hero and comic nodes\n",
    "        num_hero_nodes = 0\n",
    "        num_comic_nodes = 0\n",
    "\n",
    "        # Iterate over the nodes in the graph\n",
    "        for node, node_type in node_types.items():\n",
    "            if node_type == 'hero':  # If the node is a hero node\n",
    "                num_hero_nodes += 1  # Increment the counter for hero nodes\n",
    "            else:  # If the node is a comic node\n",
    "                num_comic_nodes += 1  # Increment the counter for comic nodes\n",
    "\n",
    "        \n",
    "        features['Number of hero nodes'] = num_hero_nodes\n",
    "        features['Number of comic nodes'] = num_comic_nodes\n",
    "\n",
    "\n",
    "    # compute the network's density\n",
    "    density = nx.density(G_sub)\n",
    "    features['density'] = density \n",
    "    \n",
    "    #The network's degree distribution\n",
    "    degree_distribution = nx.degree_histogram(G_sub)\n",
    "    features['degree_distribution'] = degree_distribution\n",
    "    \n",
    "    # Get the average degree of the network\n",
    "    degrees = dict(G_sub.degree())\n",
    "    avg_degree = sum(degrees.values()) / len(degrees)\n",
    "    features['avg_degree'] = avg_degree\n",
    "\n",
    "    # Get the network's Hubs (nodes with degree greater than 95th percentile of degree distribution)\n",
    "    # Sort the degrees in descending order\n",
    "    sorted_degrees = sorted(degrees.values(), reverse=True)\n",
    "\n",
    "    # Compute the 95th percentile of the degree distribution\n",
    "    pctile = np.percentile(sorted_degrees, 95)\n",
    "\n",
    "    # Identify the hubs as the nodes with degrees greater than or equal to the 95th percentile\n",
    "    hubs = [node for node, degree in degrees.items() if degree >= pctile]\n",
    "    features['hubs'] = hubs\n",
    "    \n",
    "    # Determine if the network is sparse or dense\n",
    "    if density < 0.1:\n",
    "        sparsity = \"sparse\"\n",
    "    else:\n",
    "        sparsity = \"dense\"\n",
    "    features['network_type'] = sparsity\n",
    "    \n",
    " \n",
    "    return(features)\n"
   ]
  },
  {
   "cell_type": "markdown",
   "id": "455e7faa",
   "metadata": {},
   "source": [
    "## Functionality 3 - Shortest ordered Route\n",
    "Input:\n",
    "- The graph data\n",
    "- A sequence of superheroes h = [h_2, ..., h_n-1]\n",
    "- Initial node h_1 and an end node h_n\n",
    "- N: denoting the top N heroes that their data should be considered\n",
    "\n",
    "Output:\n",
    "- The shortest walk of comics that you need to read to get from hero_1 to hero_n"
   ]
  },
  {
   "cell_type": "code",
   "execution_count": 4,
   "id": "2cd6549f",
   "metadata": {},
   "outputs": [],
   "source": [
    "# create 2 lists of all the heros and all the comics from the second graph\n",
    "G2_type = list(G2.nodes(data='type'))\n",
    "G2_h = []\n",
    "G2_c = []\n",
    "for x in G2_type:\n",
    "    if x[1] == 'hero':\n",
    "        G2_h.append(x[0])\n",
    "    else:\n",
    "        G2_c.append(x[0])"
   ]
  },
  {
   "cell_type": "code",
   "execution_count": 5,
   "id": "8d54ff58",
   "metadata": {},
   "outputs": [
    {
     "name": "stdout",
     "output_type": "stream",
     "text": [
      "['FREDERICKS, GENERAL', 'REISZ, RAY', 'BYRD, NATHANIEL ALEX', 'JOHNNY APPLESEED/JON', 'STORM 2013'] SINTARIIS FUJIKAWA, KENJIRO\n"
     ]
    }
   ],
   "source": [
    "# create a random list of n heros from G2_h(the list of all \n",
    "# heroes of the second graph) for run the Functionality 3\n",
    "# and create h_1 and h_n random too \n",
    "import random \n",
    "random.seed(114) #reproducibitily\n",
    "n = 5 # length of the list \n",
    "i = 0 \n",
    "h = []\n",
    "while i < n+2:\n",
    "    x = random.choice(G2_h)\n",
    "    if x not in h:\n",
    "        h.append(x)\n",
    "        i += 1\n",
    "\n",
    "\n",
    "h_1 = h[len(h)-1]\n",
    "h_n = h[len(h)-2]\n",
    "h.pop()\n",
    "h.pop()\n",
    "print(h,h_1,h_n)"
   ]
  },
  {
   "cell_type": "code",
   "execution_count": 9,
   "id": "09f56ddb",
   "metadata": {},
   "outputs": [],
   "source": [
    "# function to merge a list of lists into a single list\n",
    "def flatten(l):\n",
    "    return [i for sublist in l for i in sublist]\n",
    "\n",
    "\n",
    "# Dijkstra metod, to find the shortest path between two nodes: s, g\n",
    "def dijkstra(G, s, g):\n",
    "    S_P= {s: (None, 0)}\n",
    "    current = s\n",
    "    visited = set()\n",
    "\n",
    "    while current != g:\n",
    "        visited.add(current)\n",
    "        destinations = list(G[current])\n",
    "        dist_to_current = S_P[current][1] \n",
    "\n",
    "        for next in destinations:\n",
    "            dist = 1 + dist_to_current  \n",
    "            if next not in S_P:\n",
    "                S_P[next] = (current, dist)\n",
    "            else:\n",
    "                S_dist_current = S_P[next][1]\n",
    "                if S_dist_current > dist:\n",
    "                    S_P[next] = (current, dist)\n",
    "\n",
    "        next_destinations = {node: S_P[node] for node in S_P if node not in visited}\n",
    "        if not next_destinations: return None\n",
    "        current = min(next_destinations, key=lambda x: next_destinations[x][1])\n",
    "\n",
    "    final_P =[]\n",
    "    while current is not None:\n",
    "        final_P.append(current)\n",
    "        next = S_P[current][0]\n",
    "        current = next\n",
    "    final_P = final_P[::-1]\n",
    "    return final_P\n",
    "\n",
    "\n",
    "# actual funcionality\n",
    "def functionality_3(G, h_1, h_n, h, N = None):\n",
    "    F_P = []\n",
    "    if N is None:\n",
    "        G_sub = G\n",
    "    else:\n",
    "        G_sub = nx.subgraph(G, list(edges_df['hero'].value_counts().head(N).index) +   \n",
    "                         list(edges_df[edges_df['hero'].isin(list(edges_df['hero'].value_counts().head(N).index))]['comic'].unique()))\n",
    "\n",
    "    if h_1 not in G_sub or h_n not in G_sub : return 'there is no such path'\n",
    "    for hero in h: \n",
    "        if hero not in G_sub : return 'there is no such path'\n",
    "    dij_1 = dijkstra(G_sub, h_1, h[0])\n",
    "    if dij_1 is None: return 'there is no such path'\n",
    "    else: F_P.append(dij_1[:-1])\n",
    "\n",
    "    for i in range(len(h)-1):\n",
    "        dij_i = dijkstra(G_sub, h[i], h[i+1])\n",
    "        if dij_i is None: return 'there is no such path'\n",
    "        else: F_P.append(dij_i[:-1])\n",
    "    \n",
    "    dij_n = dijkstra(G_sub, h[-1], h_n)\n",
    "    if dij_n is None: return 'there is no such path'\n",
    "    else: F_P.append(dij_n)\n",
    "    F_P = flatten(F_P)\n",
    "\n",
    "    F_comics_P = [x for x in F_P if x in G2_c]\n",
    "\n",
    "    print(F_comics_P)\n",
    "\n",
    "    G2_sub_plot = nx.subgraph(G2, F_P)\n",
    "    # Draw the graph\n",
    "    plt.figure(figsize=(11, 11))\n",
    "    pos = nx.spring_layout(G2_sub_plot)\n",
    "    nx.draw_networkx_nodes(G2_sub_plot, pos, node_size=600 ,node_color='lightblue')\n",
    "    nx.draw_networkx_edges(G2_sub_plot, pos, width=2, edge_color='lightgray')\n",
    "    nx.draw_networkx_labels(G2_sub_plot, pos, font_size=10, font_color='darkblue')\n",
    "\n",
    "    # Highlight the path by drawing it on top of the other edges from the F_P list\n",
    "    nx.draw_networkx_edges(G2_sub_plot, pos, edgelist=[(F_P[i], F_P[i+1]) for i in range(len(F_P)-1)], width=3, edge_color='black')\n",
    "\n",
    "    # Add labels to the edges in the path\n",
    "    edge_labels = {(F_P[i], F_P[i+1]): (i+1) for i in range(len(F_P)-1)}\n",
    "    nx.draw_networkx_edge_labels(G2_sub_plot, pos, edge_labels=edge_labels, font_size=8, font_color='black')\n",
    "    # Show the plot\n",
    "    plt.show()\n",
    "    return  F_P, F_comics_P\n"
   ]
  },
  {
   "cell_type": "markdown",
   "id": "6a8f2673",
   "metadata": {},
   "source": [
    "## 3. Frontend Implementation"
   ]
  },
  {
   "cell_type": "markdown",
   "id": "c56ba8e5",
   "metadata": {},
   "source": [
    "### Visualization 1 - Visualize some features of the network"
   ]
  },
  {
   "cell_type": "markdown",
   "id": "2af9735d",
   "metadata": {},
   "source": [
    "#### A table containing the following general information about the graph:\n",
    "\n",
    "- Number of nodes in the network\n",
    "- Density of the network\n",
    "- Average degree of the network\n",
    "- Whether the network is sparse or dense"
   ]
  },
  {
   "cell_type": "markdown",
   "id": "c92d2910",
   "metadata": {},
   "source": [
    "#### FIRST GRAPH"
   ]
  },
  {
   "cell_type": "code",
   "execution_count": 324,
   "id": "dfbc8acc",
   "metadata": {},
   "outputs": [],
   "source": [
    "my_dict1 = functionality_1(G1, 1, N=50)"
   ]
  },
  {
   "cell_type": "code",
   "execution_count": 326,
   "id": "96575b2d",
   "metadata": {},
   "outputs": [
    {
     "data": {
      "text/plain": [
       "dict_keys(['collaborations', 'number_of_nodes', 'density', 'degree_distribution', 'avg_degree', 'hubs', 'network_type'])"
      ]
     },
     "execution_count": 326,
     "metadata": {},
     "output_type": "execute_result"
    }
   ],
   "source": [
    "my_dict1.keys()"
   ]
  },
  {
   "cell_type": "code",
   "execution_count": 327,
   "id": "21955cd2",
   "metadata": {},
   "outputs": [],
   "source": [
    "# Create the DataFrame and set the index to the 'Number of nodes' column\n",
    "import pandas as pd\n",
    "\n",
    "# Define the dictionary containing the data about the graph\n",
    "dati = {\n",
    "    'Number of nodes': my_dict1['number_of_nodes'],\n",
    "    'Density': my_dict1['density'],\n",
    "    'Average degree': my_dict1['avg_degree'],\n",
    "    'Sparse/Dense': 'Sparse' if my_dict1['network_type'] == 'sparse' else 'Dense'\n",
    "}\n",
    "\n",
    "# Create the DataFrame and set the index to the 'Number of nodes' column\n",
    "\n",
    "df = pd.DataFrame(dati,index=[''])\n",
    "\n",
    "\n",
    "\n",
    "\n"
   ]
  },
  {
   "cell_type": "markdown",
   "id": "c8166097",
   "metadata": {},
   "source": [
    "### Table of the first graph\n"
   ]
  },
  {
   "cell_type": "code",
   "execution_count": 328,
   "id": "34337d30",
   "metadata": {},
   "outputs": [
    {
     "name": "stdout",
     "output_type": "stream",
     "text": [
      "  Number of nodes   Density  Average degree Sparse/Dense\n",
      "               35  0.971429       33.028571        Dense\n"
     ]
    }
   ],
   "source": [
    "print(df)"
   ]
  },
  {
   "cell_type": "markdown",
   "id": "e34d02fe",
   "metadata": {},
   "source": [
    "#### SECOND GRAPH"
   ]
  },
  {
   "cell_type": "code",
   "execution_count": 329,
   "id": "e06d80d5",
   "metadata": {},
   "outputs": [],
   "source": [
    "my_dict2 = functionality_1(G2, 2, N=50)"
   ]
  },
  {
   "cell_type": "code",
   "execution_count": 231,
   "id": "52ca1020",
   "metadata": {},
   "outputs": [
    {
     "data": {
      "text/plain": [
       "dict_keys(['hero_appearances', 'comic_appearances_total', 'Number of hero nodes', 'Number of comic nodes', 'density', 'degree_distribution', 'avg_degree', 'hubs', 'network_type'])"
      ]
     },
     "execution_count": 231,
     "metadata": {},
     "output_type": "execute_result"
    }
   ],
   "source": [
    "my_dict2.keys()"
   ]
  },
  {
   "cell_type": "code",
   "execution_count": 251,
   "id": "441fb4bf",
   "metadata": {},
   "outputs": [],
   "source": [
    "import pandas as pd\n",
    "\n",
    "# Define the dictionary containing the data about the graph\n",
    "dati = {\n",
    "    'Number of hero nodes': my_dict2['Number of hero nodes'],\n",
    "    'Number of comic nodes': my_dict2['Number of comic nodes'],\n",
    "    'Density': my_dict2['density'],\n",
    "    'Average degree': my_dict2['avg_degree'],\n",
    "    'Sparse/Dense': 'Sparse' if my_dict2['network_type'] == 'sparse' else 'Dense'\n",
    "}\n",
    "\n",
    "# Create the DataFrame and set the index to the 'Number of nodes' column\n",
    "\n",
    "df2 = pd.DataFrame(dati,index=[''])\n"
   ]
  },
  {
   "cell_type": "markdown",
   "id": "e4109535",
   "metadata": {},
   "source": [
    "### Table of the second graph"
   ]
  },
  {
   "cell_type": "code",
   "execution_count": 252,
   "id": "34480ae8",
   "metadata": {},
   "outputs": [
    {
     "name": "stdout",
     "output_type": "stream",
     "text": [
      "  Number of hero nodes  Number of comic nodes   Density  Average degree  \\\n",
      "                    49                   9236  0.000643        5.968986   \n",
      "\n",
      " Sparse/Dense  \n",
      "       Sparse  \n"
     ]
    }
   ],
   "source": [
    "print(df2)"
   ]
  },
  {
   "cell_type": "markdown",
   "id": "ceaa2eeb",
   "metadata": {},
   "source": [
    "### A table that lists the network's hubs"
   ]
  },
  {
   "cell_type": "code",
   "execution_count": 330,
   "id": "cfc36e29",
   "metadata": {},
   "outputs": [
    {
     "name": "stdout",
     "output_type": "stream",
     "text": [
      "                       Hubs\n",
      "0      SHE-HULK/JENNIFER WA\n",
      "1      COLOSSUS II/PETER RA\n",
      "2      THING/BENJAMIN J. GR\n",
      "3      CYCLOPS/SCOTT SUMMER\n",
      "4   SPIDER-MAN/PETER PARKER\n",
      "5      BEAST/HENRY &HANK& P\n",
      "6         JAMESON, J. JONAH\n",
      "7      HUMAN TORCH/JOHNNY S\n",
      "8      MARVEL GIRL/JEAN GRE\n",
      "9      THOR/DR. DONALD BLAK\n",
      "10     SUB-MARINER/NAMOR MA\n",
      "11     MR. FANTASTIC/REED R\n",
      "12          CAPTAIN AMERICA\n",
      "13     HULK/DR. ROBERT BRUC\n",
      "14     SILVER SURFER/NORRIN\n",
      "15     ANGEL/WARREN KENNETH\n",
      "16     WONDER MAN/SIMON WIL\n",
      "17     ANT-MAN/DR. HENRY J.\n",
      "18     STORM/ORORO MUNROE S\n"
     ]
    }
   ],
   "source": [
    "import pandas as pd\n",
    "\n",
    "# Define the data to include in the table\n",
    "data = {'Hubs': my_dict1['hubs']}\n",
    "\n",
    "# Create the DataFrame\n",
    "df = pd.DataFrame(data)\n",
    "\n",
    "# Print the resulting table\n",
    "print(df)\n"
   ]
  },
  {
   "cell_type": "code",
   "execution_count": 331,
   "id": "1aa058a0",
   "metadata": {},
   "outputs": [
    {
     "name": "stdout",
     "output_type": "stream",
     "text": [
      "                    Hubs\n",
      "0                  A 206\n",
      "1                  A 175\n",
      "2    ICEMAN/ROBERT BOBBY\n",
      "3                    X 3\n",
      "4    SHADOWCAT/KATHERINE\n",
      "..                   ...\n",
      "494               UX 376\n",
      "495                AWC 4\n",
      "496               UX 138\n",
      "497                  A 8\n",
      "498                 A 82\n",
      "\n",
      "[499 rows x 1 columns]\n"
     ]
    }
   ],
   "source": [
    "import pandas as pd\n",
    "\n",
    "# Define the data to include in the table\n",
    "data = {'Hubs': my_dict2['hubs']}\n",
    "\n",
    "# Create the DataFrame\n",
    "df2 = pd.DataFrame(data)\n",
    "\n",
    "# Print the resulting table\n",
    "print(df2)\n"
   ]
  },
  {
   "cell_type": "markdown",
   "id": "9bf8c8f7",
   "metadata": {},
   "source": [
    "### A plot depicting the number of collaborations of each hero in descending order (if the graph is type 1)"
   ]
  },
  {
   "cell_type": "code",
   "execution_count": 245,
   "id": "d7dc5c7d",
   "metadata": {},
   "outputs": [],
   "source": [
    "import matplotlib.pyplot as plt"
   ]
  },
  {
   "cell_type": "code",
   "execution_count": 332,
   "id": "937e4380",
   "metadata": {},
   "outputs": [],
   "source": [
    "collab = my_dict1['collaborations'] "
   ]
  },
  {
   "cell_type": "code",
   "execution_count": 333,
   "id": "c29c8c5f",
   "metadata": {},
   "outputs": [
    {
     "data": {
      "image/png": "[encoded data removed]",
      "text/plain": [
       "<Figure size 432x288 with 1 Axes>"
      ]
     },
     "metadata": {
      "needs_background": "light"
     },
     "output_type": "display_data"
    }
   ],
   "source": [
    "# Sort the dictionary in descending order by the collaboration count\n",
    "sorted_collaboration_counts = {k: v for k, v in sorted(collab.items(), key=lambda item: item[1], reverse=True)}\n",
    "\n",
    "# Get the hero names and collaboration counts from the sorted dictionary\n",
    "heroes = list(sorted_collaboration_counts.keys())\n",
    "counts = list(sorted_collaboration_counts.values())\n",
    "\n",
    "# Plot the collaboration counts of the heroes\n",
    "plt.bar(heroes, counts)\n",
    "plt.xlabel('Hero')\n",
    "plt.ylabel('Number of collaborations')\n",
    "plt.title('Number of collaborations of each hero')\n",
    "\n",
    "\n",
    "# Rotate the x-axis labels by 90 degrees\n",
    "plt.xticks(rotation=90, fontsize=8)\n",
    "\n",
    "# Show the plot\n",
    "plt.show()"
   ]
  },
  {
   "cell_type": "markdown",
   "id": "4ffd73fc",
   "metadata": {},
   "source": [
    "### A plot depicting the number of heroes who appeared in each comic, sorted in descending order (if the graph is type 2)"
   ]
  },
  {
   "cell_type": "code",
   "execution_count": 260,
   "id": "83877c6d",
   "metadata": {},
   "outputs": [],
   "source": [
    "appearances = my_dict2['comic_appearances_total'] "
   ]
  },
  {
   "cell_type": "code",
   "execution_count": 261,
   "id": "1e89ef34",
   "metadata": {},
   "outputs": [],
   "source": [
    "sorted_comic_appearances = {k: v for k, v in sorted(appearances.items(), key=lambda item: item[1], reverse=True)}"
   ]
  },
  {
   "cell_type": "code",
   "execution_count": 270,
   "id": "84b35348",
   "metadata": {},
   "outputs": [],
   "source": [
    "# Get the comic names and hero appearances from the sorted dictionary\n",
    "comics = list(sorted_comic_appearances.keys())[:30]\n",
    "counts = list(sorted_comic_appearances.values())[:30]"
   ]
  },
  {
   "cell_type": "code",
   "execution_count": 271,
   "id": "e3ccad8b",
   "metadata": {},
   "outputs": [
    {
     "data": {
      "image/png": "[encoded data removed]",
      "text/plain": [
       "<Figure size 432x288 with 1 Axes>"
      ]
     },
     "metadata": {
      "needs_background": "light"
     },
     "output_type": "display_data"
    }
   ],
   "source": [
    "plt.bar(comics, counts)\n",
    "plt.xlabel('Comic')\n",
    "plt.ylabel('Number of heroes')\n",
    "plt.title('Number of heroes who appeared in each comic')\n",
    "# Rotate the x-axis labels by 90 degrees\n",
    "plt.xticks(rotation=90, fontsize=8)\n",
    "\n",
    "# Show the plot\n",
    "plt.show()"
   ]
  },
  {
   "cell_type": "markdown",
   "id": "da82a2f4",
   "metadata": {},
   "source": [
    "### A plot depicting the degree distribution of the network"
   ]
  },
  {
   "cell_type": "code",
   "execution_count": 334,
   "id": "92677061",
   "metadata": {},
   "outputs": [],
   "source": [
    "degree_distribution1 = my_dict1['degree_distribution'] "
   ]
  },
  {
   "cell_type": "code",
   "execution_count": 335,
   "id": "1f1528fb",
   "metadata": {},
   "outputs": [
    {
     "data": {
      "image/png": "[encoded data removed]",
      "text/plain": [
       "<Figure size 432x288 with 1 Axes>"
      ]
     },
     "metadata": {
      "needs_background": "light"
     },
     "output_type": "display_data"
    }
   ],
   "source": [
    "# Plot the degree distribution of the graph\n",
    "plt.hist(degree_distribution1, bins=range(min(degree_distribution1), max(degree_distribution1)+1), edgecolor='white')\n",
    "plt.xlabel('Degree')\n",
    "plt.ylabel('Number of nodes')\n",
    "plt.title('Degree distribution of the network')\n",
    "\n",
    "# Show the plot\n",
    "plt.show()"
   ]
  },
  {
   "cell_type": "code",
   "execution_count": 287,
   "id": "26bee0ee",
   "metadata": {},
   "outputs": [
    {
     "data": {
      "image/png": "[encoded data removed]",
      "text/plain": [
       "<Figure size 432x288 with 1 Axes>"
      ]
     },
     "metadata": {
      "needs_background": "light"
     },
     "output_type": "display_data"
    }
   ],
   "source": [
    "degree_distribution2 = my_dict2['degree_distribution']\n",
    "# Plot the degree distribution of the graph\n",
    "plt.hist(degree_distribution2[:50], edgecolor='white')\n",
    "plt.xlabel('Degree')\n",
    "plt.ylabel('Number of nodes')\n",
    "plt.title('Degree distribution of the network')\n",
    "\n",
    "# Show the plot\n",
    "plt.show()"
   ]
  },
  {
   "cell_type": "markdown",
   "id": "9e624e40",
   "metadata": {},
   "source": [
    "## Visualization 3 - Visualize the shortest-ordered route\n",
    "- Print the comics in the shortest walk in order\n",
    "- Plot the graph and identify the nodes and edges that appear in the shortest walk (please put an identifier on each edge in the shortest walk to determine the order that we should have the walk)"
   ]
  },
  {
   "cell_type": "code",
   "execution_count": 10,
   "id": "98ec8a3f",
   "metadata": {},
   "outputs": [
    {
     "name": "stdout",
     "output_type": "stream",
     "text": [
      "['MAXSEC:DP', 'UX 17', 'FF 72', 'FF3 4', 'FF3 4', 'ASM 1', 'DHKF 22/2', 'DHKF 16/3', 'FF3 37', 'CA 383', 'CA 383', 'A 10', 'UX 141', 'PHOENIX 1', 'A 101', 'IM3 4']\n"
     ]
    },
    {
     "data": {
      "image/png": "[encoded data removed]",
      "text/plain": [
       "<Figure size 1100x1100 with 1 Axes>"
      ]
     },
     "metadata": {},
     "output_type": "display_data"
    },
    {
     "data": {
      "text/plain": [
       "(['SINTARIIS',\n",
       "  'MAXSEC:DP',\n",
       "  'PROFESSOR X/CHARLES',\n",
       "  'UX 17',\n",
       "  'FREDERICKS, GENERAL',\n",
       "  'FF 72',\n",
       "  'HUMAN TORCH/JOHNNY S',\n",
       "  'FF3 4',\n",
       "  'REISZ, RAY',\n",
       "  'FF3 4',\n",
       "  'HUMAN TORCH/JOHNNY S',\n",
       "  'ASM 1',\n",
       "  'JAMESON, J. JONAH',\n",
       "  'DHKF 22/2',\n",
       "  'BYRD, NATHANIEL ALEX',\n",
       "  'DHKF 16/3',\n",
       "  'DIAMOND, BOB',\n",
       "  'FF3 37',\n",
       "  'HAWK',\n",
       "  'CA 383',\n",
       "  'JOHNNY APPLESEED/JON',\n",
       "  'CA 383',\n",
       "  'ANT-MAN/DR. HENRY J.',\n",
       "  'A 10',\n",
       "  'AVALANCHE/DOMINIC PE',\n",
       "  'UX 141',\n",
       "  'STORM 2013',\n",
       "  'PHOENIX 1',\n",
       "  'UATU',\n",
       "  'A 101',\n",
       "  'IRON MAN/TONY STARK',\n",
       "  'IM3 4',\n",
       "  'FUJIKAWA, KENJIRO'],\n",
       " ['MAXSEC:DP',\n",
       "  'UX 17',\n",
       "  'FF 72',\n",
       "  'FF3 4',\n",
       "  'FF3 4',\n",
       "  'ASM 1',\n",
       "  'DHKF 22/2',\n",
       "  'DHKF 16/3',\n",
       "  'FF3 37',\n",
       "  'CA 383',\n",
       "  'CA 383',\n",
       "  'A 10',\n",
       "  'UX 141',\n",
       "  'PHOENIX 1',\n",
       "  'A 101',\n",
       "  'IM3 4'])"
      ]
     },
     "execution_count": 10,
     "metadata": {},
     "output_type": "execute_result"
    }
   ],
   "source": [
    "functionality_3(G2, h_1, h_n, h)"
   ]
  },
  {
   "cell_type": "markdown",
   "id": "7cdad640",
   "metadata": {},
   "source": [
    "## Bonus - PageRank on MapReduce\n",
    "PageRank and MapReduce go well together, and this synergy was essential for Google's growth and the MapReduce paradigm's proliferation. Therefore, for the bonus section of this homework, we ask that you implement the PageRank algorithm using the MapReduce paradigm"
   ]
  },
  {
   "cell_type": "markdown",
   "id": "d968713e",
   "metadata": {},
   "source": [
    "We implement this function with pyspark "
   ]
  },
  {
   "cell_type": "code",
   "execution_count": null,
   "id": "cba84b55",
   "metadata": {},
   "outputs": [],
   "source": [
    "!pip install pyspark\n",
    "import pyspark\n",
    "from pyspark.sql import SparkSession\n",
    "from pyspark import SparkContext"
   ]
  },
  {
   "cell_type": "markdown",
   "id": "883c482c",
   "metadata": {},
   "source": [
    "Parameters:\n",
    "- G: a NetworkX graph object\n",
    "- n_iterations: the number of iterations to run the algorithm (default: 10)\n",
    "- damping_factor: the damping factor to use in the algorithm (default: 0.85)\n",
    "    \n",
    "Returns:\n",
    "- ranks: a dictionary of the PageRank values for each node in the graph\n"
   ]
  },
  {
   "cell_type": "markdown",
   "id": "0eeea10a",
   "metadata": {},
   "source": [
    "The damping factor is a parameter used in the PageRank algorithm to represent the probability that a user will continue to follow the links on a page, rather than randomly jumping to any page on the internet. It is usually set to a value between 0 and 1, with a value closer to 1 indicating that users are more likely to continue following the links on a page, and a value closer to 0 indicating that users are more likely to randomly jump to other pages. Itis used to prevent the PageRank values from becoming too large or too small, as well as to prevent the algorithm from getting stuck in an infinite loop. It allows the PageRank values to converge to a stable value over time, rather than oscillating between large and small values.\n",
    "\n",
    "It's typically set to a value of 0.85, which has been found to work well in practice. "
   ]
  },
  {
   "cell_type": "code",
   "execution_count": null,
   "id": "b4a1024f",
   "metadata": {},
   "outputs": [],
   "source": [
    "def pagerank(G, n_iterations=10, damping_factor=0.85):\n",
    "\n",
    "    # Create a SparkContext object\n",
    "    sc = SparkContext.getOrCreate()\n",
    "    \n",
    "    # Convert the graph to an RDD of edges\n",
    "    edges = sc.parallelize(G.edges())\n",
    "    \n",
    "    # Initialize the PageRank values for each node to 1.0\n",
    "    ranks = sc.parallelize(G.nodes()).map(lambda x: (x, 1.0))\n",
    "    \n",
    "    # Iterate over the RDD and update the PageRank values\n",
    "    for i in range(n_iterations):\n",
    "        # Compute the contributions of each node to the PageRank of its neighbors\n",
    "        contributions = edges.join(ranks).flatMap(\n",
    "            lambda x: [(x[1][0], x[1][1] / len(x[1][0])), (x[0], 0)]\n",
    "        )\n",
    "        \n",
    "        # Compute the new PageRank values\n",
    "        ranks = contributions.reduceByKey(lambda x, y: x + y).map(\n",
    "            lambda x: (x[0], (1 - damping_factor) + damping_factor * x[1])\n",
    "        )\n",
    "    \n",
    "    # Convert the RDD to a list and return it\n",
    "    ranks = ranks.collect()\n",
    "    return ranks\n"
   ]
  },
  {
   "cell_type": "code",
   "execution_count": null,
   "id": "9a89e2f8",
   "metadata": {},
   "outputs": [],
   "source": [
    "ranks2 = pagerank2(G2, n_iterations=10, damping_factor=0.85)\n"
   ]
  },
  {
   "cell_type": "code",
   "execution_count": 156,
   "id": "5790d668",
   "metadata": {},
   "outputs": [
    {
     "data": {
      "text/plain": [
       "[('H2 252', 0.17125),\n",
       " ('SLOAN, FRED', 1.1274623747750443),\n",
       " ('ARCANNA/ARCANNA JONE', 0.3026084269987689),\n",
       " ('Q 16', 0.181875),\n",
       " ('SWII 7', 0.17125),\n",
       " ('ETERNITY/ADAM QADMON', 0.7914741783322882),\n",
       " ('PHOENIX III/RACHEL S', 1.8716183551782977),\n",
       " ('ABOMINATION | MUTANT', 0.15000000000000002),\n",
       " ('XFOR 53', 0.16821428571428573),\n",
       " ('ASM 283', 0.16909805803571432),\n",
       " ('DAREDEVIL/MATT MURDO', 5.960875070271507),\n",
       " ('DD 1', 0.18342160156250004),\n",
       " ('BULLDOZER/HENRY CAMP', 0.40399151382797155),\n",
       " ('M/SHSW 2', 0.16671080078125003),\n",
       " ('MR. FANTASTIC/REED R', 27.528032714187233),\n",
       " ('ULTRON', 4.5551354658751215),\n",
       " ('T2 14', 0.17673728125000002),\n",
       " ('FANDRAL [ASGARDIAN]', 2.16527524663037),\n",
       " ('ULIK', 5.313439048551903),\n",
       " ('T 8', 0.19250000000000003),\n",
       " ('ROM 63', 0.17125),\n",
       " ('ROM, SPACEKNIGHT', 1.2385678021704334),\n",
       " ('BP3 27', 0.17682089861717998),\n",
       " (\"T'CHAKA\", 0.264751643689254),\n",
       " ('T2 10', 0.17550000000000002),\n",
       " ('ADVA', 0.15000000000000002),\n",
       " ('UX 187', 0.17125),\n",
       " ('DRSTR3 49', 0.16416666666666668),\n",
       " ('DRSTR2 10', 0.16416666666666668),\n",
       " ('DRSTR2 12', 0.16416666666666668),\n",
       " ('DRSTR2 57', 0.16416666666666668),\n",
       " ('INV 28', 0.17125),\n",
       " ('AGINAR', 0.15000000000000002),\n",
       " ('INH2 1', 0.17125),\n",
       " ('LOCKJAW [INHUMAN]', 1.7225708293652513),\n",
       " ('MARISTA', 0.17079464285714288),\n",
       " ('MAXIMUS [INHUMAN]', 0.739409088873615),\n",
       " ('UX 199', 0.17125),\n",
       " ('E2 2', 0.181875),\n",
       " ('AIREO/AEOLUS [INHUMA', 0.15000000000000002),\n",
       " ('SS3 107', 0.16821428571428573),\n",
       " ('E 2', 0.19883993750000004),\n",
       " ('AJAX', 0.5527313404224539),\n",
       " ('XCAL 58', 0.16821428571428573),\n",
       " ('XF 40', 0.17550000000000002),\n",
       " ('N 57', 0.20740289062500003),\n",
       " ('FF 15', 0.17550000000000002),\n",
       " ('INVISIBLE WOMAN/SUE', 24.5198208365206),\n",
       " ('HMAG 17/2', 0.16505384096702025),\n",
       " ('MK3 15', 0.17258076145053036),\n",
       " ('MK3 32', 0.17258076145053036),\n",
       " ('MK 6', 0.18387114217579553),\n",
       " ('IM 238', 0.17125),\n",
       " ('FFOR 8', 0.17125),\n",
       " ('AWC 4/5', 0.16821428571428573),\n",
       " ('CA 309', 0.17125),\n",
       " ('DEATH ADDER', 0.3312660287635216),\n",
       " ('CA 390', 0.17125),\n",
       " ('DIAMONDBACK II/RACHE', 1.6117838617684703),\n",
       " ('KNOCKOUT', 0.24431530156668751),\n",
       " ('T 156', 0.18195508593750004),\n",
       " ('UX 137', 0.17662923828125002),\n",
       " ('ST 137/2', 0.1768303457284903),\n",
       " ('ANDERSON, CHET', 0.15000000000000002),\n",
       " ('FF 22', 0.1811461693523849),\n",
       " ('WONDER MAN/SIMON WIL', 8.003014936934395),\n",
       " ('XF 4', 0.18893271169048112),\n",
       " ('ANELLE', 0.15000000000000002),\n",
       " ('IF 1', 0.1849465816069336),\n",
       " ('SCARFE, RAFAEL', 0.951875392254412),\n",
       " ('A 214', 0.2399586996908279),\n",
       " ('ASTONX2 1', 0.1999770553837933),\n",
       " ('CX 1', 0.2624483746135349),\n",
       " ('DEF 139', 0.2142562140648771),\n",
       " ('GAM3 19', 0.2142562140648771),\n",
       " ('UX 140', 0.22496558307568992),\n",
       " ('UX 144', 0.22496558307568992),\n",
       " ('UX 18', 0.2399586996908279),\n",
       " ('UX 19', 0.2399586996908279),\n",
       " ('ZELDA', 0.7530190390899529),\n",
       " ('UX 285', 0.22496558307568992),\n",
       " ('UX 29', 0.2399586996908279),\n",
       " ('UX 318', 0.22496558307568992),\n",
       " ('UX 333', 0.22496558307568992),\n",
       " ('UX 348', 0.22496558307568992),\n",
       " ('UX 394', 0.22496558307568992),\n",
       " ('WARP SAVANT', 0.1673837042058577),\n",
       " ('UX 55/2', 0.2142562140648771),\n",
       " ('XF 52', 0.2399586996908279),\n",
       " ('XF 6', 0.2624483746135349),\n",
       " ('XF 69', 0.2399586996908279),\n",
       " ('WM2 11', 0.17125),\n",
       " ('FLORES, JAMIE', 0.3713564450064165),\n",
       " ('Q 33', 0.181875),\n",
       " ('FF 108', 0.1736834201388889),\n",
       " ('WLOCK2 4', 0.1677625651041667),\n",
       " ('XCAL 50', 0.16821428571428573),\n",
       " (\"GAM '00/2\", 0.16416666666666668),\n",
       " ('LEBEAU, JEAN-LUC', 0.22587076004365916),\n",
       " ('A 140', 0.2584194769138942)]"
      ]
     },
     "execution_count": 156,
     "metadata": {},
     "output_type": "execute_result"
    }
   ],
   "source": [
    "ranks2[:100]"
   ]
  },
  {
   "cell_type": "markdown",
   "id": "aace8df4",
   "metadata": {},
   "source": [
    "From the file we know that M is sparse, so we apply pagerank on G2, because it's sparse"
   ]
  },
  {
   "cell_type": "code",
   "execution_count": null,
   "id": "b8845183",
   "metadata": {},
   "outputs": [],
   "source": [
    "### Functionality 3 - Shortest ordered Route"
   ]
  },
  {
   "cell_type": "markdown",
   "id": "44f97712",
   "metadata": {},
   "source": [
    "Functions for the 3° functionality:"
   ]
  },
  {
   "cell_type": "code",
   "execution_count": null,
   "id": "4cf1712c",
   "metadata": {},
   "outputs": [],
   "source": []
  }
 ],
 "metadata": {
  "kernelspec": {
   "display_name": "Python 3 (ipykernel)",
   "language": "python",
   "name": "python3"
  },
  "language_info": {
   "codemirror_mode": {
    "name": "ipython",
    "version": 3
   },
   "file_extension": ".py",
   "mimetype": "text/x-python",
   "name": "python",
   "nbconvert_exporter": "python",
   "pygments_lexer": "ipython3",
   "version": "3.9.12"
  },
  "vscode": {
   "interpreter": {
    "hash": "0bd8366dd61484efe1154bbb10985feda2c8968ffd0237d4875eaa94b84ddc32"
   }
  }
 },
 "nbformat": 4,
 "nbformat_minor": 5
}
