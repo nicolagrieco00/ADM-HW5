{
 "cells": [
  {
   "cell_type": "markdown",
   "id": "b5a19c2e",
   "metadata": {},
   "source": [
    "# HOMEWORK 5 ADM "
   ]
  },
  {
   "cell_type": "markdown",
   "id": "9db891cd",
   "metadata": {},
   "source": [
    "**Authors:**"
   ]
  },
  {
   "cell_type": "code",
   "execution_count": 143,
   "id": "b61ce1b2",
   "metadata": {},
   "outputs": [],
   "source": [
    "data = {'Name': ['Ramona Tarantino', 'Nicola Grieco', 'Michela Lombardi', 'Gianmarco Fiorenza'],\n",
    "        'Matricula': [2082006, 2081607 , 2095974 , 2086296],\n",
    "        'Email': ['ramonatarantino00@gmail.com', 'grieco.2081607@studenti.uniroma1.it', 'lombardi.2095974@studenti.uniroma1.it', 'giammafiore@gmail.com']}"
   ]
  },
  {
   "cell_type": "code",
   "execution_count": 144,
   "id": "bce5cf11",
   "metadata": {},
   "outputs": [],
   "source": [
    "data = pd.DataFrame(data)\n"
   ]
  },
  {
   "cell_type": "code",
   "execution_count": 145,
   "id": "7190acd1",
   "metadata": {},
   "outputs": [
    {
     "data": {
      "text/html": [
       "<div>\n",
       "<style scoped>\n",
       "    .dataframe tbody tr th:only-of-type {\n",
       "        vertical-align: middle;\n",
       "    }\n",
       "\n",
       "    .dataframe tbody tr th {\n",
       "        vertical-align: top;\n",
       "    }\n",
       "\n",
       "    .dataframe thead th {\n",
       "        text-align: right;\n",
       "    }\n",
       "</style>\n",
       "<table border=\"1\" class=\"dataframe\">\n",
       "  <thead>\n",
       "    <tr style=\"text-align: right;\">\n",
       "      <th></th>\n",
       "      <th>Name</th>\n",
       "      <th>Matricula</th>\n",
       "      <th>Email</th>\n",
       "    </tr>\n",
       "  </thead>\n",
       "  <tbody>\n",
       "    <tr>\n",
       "      <th>0</th>\n",
       "      <td>Ramona Tarantino</td>\n",
       "      <td>2082006</td>\n",
       "      <td>ramonatarantino00@gmail.com</td>\n",
       "    </tr>\n",
       "    <tr>\n",
       "      <th>1</th>\n",
       "      <td>Nicola Grieco</td>\n",
       "      <td>2081607</td>\n",
       "      <td>grieco.2081607@studenti.uniroma1.it</td>\n",
       "    </tr>\n",
       "    <tr>\n",
       "      <th>2</th>\n",
       "      <td>Michela Lombardi</td>\n",
       "      <td>2095974</td>\n",
       "      <td>lombardi.2095974@studenti.uniroma1.it</td>\n",
       "    </tr>\n",
       "    <tr>\n",
       "      <th>3</th>\n",
       "      <td>Gianmarco Fiorenza</td>\n",
       "      <td>2086296</td>\n",
       "      <td>giammafiore@gmail.com</td>\n",
       "    </tr>\n",
       "  </tbody>\n",
       "</table>\n",
       "</div>"
      ],
      "text/plain": [
       "                 Name  Matricula                                  Email\n",
       "0    Ramona Tarantino    2082006            ramonatarantino00@gmail.com\n",
       "1       Nicola Grieco    2081607    grieco.2081607@studenti.uniroma1.it\n",
       "2    Michela Lombardi    2095974  lombardi.2095974@studenti.uniroma1.it\n",
       "3  Gianmarco Fiorenza    2086296                  giammafiore@gmail.com"
      ]
     },
     "metadata": {},
     "output_type": "display_data"
    }
   ],
   "source": [
    "display(data)"
   ]
  },
  {
   "cell_type": "markdown",
   "id": "312ed116",
   "metadata": {},
   "source": [
    "#### The libraries we used:"
   ]
  },
  {
   "cell_type": "code",
   "execution_count": 9,
   "id": "5b07df64",
   "metadata": {},
   "outputs": [],
   "source": [
    "import networkx as nx\n",
    "import pickle\n",
    "import pandas as pd\n",
    "from networkx import NetworkXError\n",
    "import matplotlib.pyplot as plt\n",
    "from collections import defaultdict\n",
    "import community as com\n",
    "import matplotlib.patches as patches\n",
    "from secrets import token_hex\n",
    "from matplotlib.patches import Patch\n"
   ]
  },
  {
   "cell_type": "markdown",
   "id": "3c48bbf9",
   "metadata": {},
   "source": [
    "## Dataset"
   ]
  },
  {
   "cell_type": "code",
   "execution_count": 21,
   "id": "d420e0bb",
   "metadata": {},
   "outputs": [
    {
     "data": {
      "text/html": [
       "<div>\n",
       "<style scoped>\n",
       "    .dataframe tbody tr th:only-of-type {\n",
       "        vertical-align: middle;\n",
       "    }\n",
       "\n",
       "    .dataframe tbody tr th {\n",
       "        vertical-align: top;\n",
       "    }\n",
       "\n",
       "    .dataframe thead th {\n",
       "        text-align: right;\n",
       "    }\n",
       "</style>\n",
       "<table border=\"1\" class=\"dataframe\">\n",
       "  <thead>\n",
       "    <tr style=\"text-align: right;\">\n",
       "      <th></th>\n",
       "      <th>hero</th>\n",
       "      <th>comic</th>\n",
       "    </tr>\n",
       "  </thead>\n",
       "  <tbody>\n",
       "    <tr>\n",
       "      <th>0</th>\n",
       "      <td>24-HOUR MAN/EMMANUEL</td>\n",
       "      <td>AA2 35</td>\n",
       "    </tr>\n",
       "    <tr>\n",
       "      <th>1</th>\n",
       "      <td>3-D MAN/CHARLES CHAN</td>\n",
       "      <td>AVF 4</td>\n",
       "    </tr>\n",
       "    <tr>\n",
       "      <th>2</th>\n",
       "      <td>3-D MAN/CHARLES CHAN</td>\n",
       "      <td>AVF 5</td>\n",
       "    </tr>\n",
       "    <tr>\n",
       "      <th>3</th>\n",
       "      <td>3-D MAN/CHARLES CHAN</td>\n",
       "      <td>COC 1</td>\n",
       "    </tr>\n",
       "    <tr>\n",
       "      <th>4</th>\n",
       "      <td>3-D MAN/CHARLES CHAN</td>\n",
       "      <td>H2 251</td>\n",
       "    </tr>\n",
       "    <tr>\n",
       "      <th>...</th>\n",
       "      <td>...</td>\n",
       "      <td>...</td>\n",
       "    </tr>\n",
       "    <tr>\n",
       "      <th>96099</th>\n",
       "      <td>ZZZAX</td>\n",
       "      <td>H2 326</td>\n",
       "    </tr>\n",
       "    <tr>\n",
       "      <th>96100</th>\n",
       "      <td>ZZZAX</td>\n",
       "      <td>H2 327</td>\n",
       "    </tr>\n",
       "    <tr>\n",
       "      <th>96101</th>\n",
       "      <td>ZZZAX</td>\n",
       "      <td>M/CP 8/4</td>\n",
       "    </tr>\n",
       "    <tr>\n",
       "      <th>96102</th>\n",
       "      <td>ZZZAX</td>\n",
       "      <td>PM 47</td>\n",
       "    </tr>\n",
       "    <tr>\n",
       "      <th>96103</th>\n",
       "      <td>ZZZAX</td>\n",
       "      <td>WCA2 12</td>\n",
       "    </tr>\n",
       "  </tbody>\n",
       "</table>\n",
       "<p>96104 rows × 2 columns</p>\n",
       "</div>"
      ],
      "text/plain": [
       "                       hero     comic\n",
       "0      24-HOUR MAN/EMMANUEL    AA2 35\n",
       "1      3-D MAN/CHARLES CHAN     AVF 4\n",
       "2      3-D MAN/CHARLES CHAN     AVF 5\n",
       "3      3-D MAN/CHARLES CHAN     COC 1\n",
       "4      3-D MAN/CHARLES CHAN    H2 251\n",
       "...                     ...       ...\n",
       "96099                 ZZZAX    H2 326\n",
       "96100                 ZZZAX    H2 327\n",
       "96101                 ZZZAX  M/CP 8/4\n",
       "96102                 ZZZAX     PM 47\n",
       "96103                 ZZZAX   WCA2 12\n",
       "\n",
       "[96104 rows x 2 columns]"
      ]
     },
     "execution_count": 21,
     "metadata": {},
     "output_type": "execute_result"
    }
   ],
   "source": [
    "edges_df = pd.read_csv(\"edges.csv\")\n",
    "edges_df"
   ]
  },
  {
   "cell_type": "code",
   "execution_count": 4,
   "id": "daab7720",
   "metadata": {},
   "outputs": [
    {
     "data": {
      "text/html": [
       "<div>\n",
       "<style scoped>\n",
       "    .dataframe tbody tr th:only-of-type {\n",
       "        vertical-align: middle;\n",
       "    }\n",
       "\n",
       "    .dataframe tbody tr th {\n",
       "        vertical-align: top;\n",
       "    }\n",
       "\n",
       "    .dataframe thead th {\n",
       "        text-align: right;\n",
       "    }\n",
       "</style>\n",
       "<table border=\"1\" class=\"dataframe\">\n",
       "  <thead>\n",
       "    <tr style=\"text-align: right;\">\n",
       "      <th></th>\n",
       "      <th>hero1</th>\n",
       "      <th>hero2</th>\n",
       "    </tr>\n",
       "  </thead>\n",
       "  <tbody>\n",
       "    <tr>\n",
       "      <th>0</th>\n",
       "      <td>LITTLE, ABNER</td>\n",
       "      <td>PRINCESS ZANDA</td>\n",
       "    </tr>\n",
       "    <tr>\n",
       "      <th>1</th>\n",
       "      <td>LITTLE, ABNER</td>\n",
       "      <td>BLACK PANTHER/T'CHAL</td>\n",
       "    </tr>\n",
       "    <tr>\n",
       "      <th>2</th>\n",
       "      <td>BLACK PANTHER/T'CHAL</td>\n",
       "      <td>PRINCESS ZANDA</td>\n",
       "    </tr>\n",
       "    <tr>\n",
       "      <th>3</th>\n",
       "      <td>LITTLE, ABNER</td>\n",
       "      <td>PRINCESS ZANDA</td>\n",
       "    </tr>\n",
       "    <tr>\n",
       "      <th>4</th>\n",
       "      <td>LITTLE, ABNER</td>\n",
       "      <td>BLACK PANTHER/T'CHAL</td>\n",
       "    </tr>\n",
       "    <tr>\n",
       "      <th>...</th>\n",
       "      <td>...</td>\n",
       "      <td>...</td>\n",
       "    </tr>\n",
       "    <tr>\n",
       "      <th>574462</th>\n",
       "      <td>COLOSSUS II/PETER RA</td>\n",
       "      <td>CALLISTO</td>\n",
       "    </tr>\n",
       "    <tr>\n",
       "      <th>574463</th>\n",
       "      <td>CALLISTO</td>\n",
       "      <td>ROGUE /</td>\n",
       "    </tr>\n",
       "    <tr>\n",
       "      <th>574464</th>\n",
       "      <td>CALLISTO</td>\n",
       "      <td>CALIBAN/</td>\n",
       "    </tr>\n",
       "    <tr>\n",
       "      <th>574465</th>\n",
       "      <td>CALIBAN/</td>\n",
       "      <td>ROGUE /</td>\n",
       "    </tr>\n",
       "    <tr>\n",
       "      <th>574466</th>\n",
       "      <td>HULK/DR. ROBERT BRUC</td>\n",
       "      <td>MARKS, DR. SHIELA</td>\n",
       "    </tr>\n",
       "  </tbody>\n",
       "</table>\n",
       "<p>574467 rows × 2 columns</p>\n",
       "</div>"
      ],
      "text/plain": [
       "                       hero1                 hero2\n",
       "0              LITTLE, ABNER        PRINCESS ZANDA\n",
       "1              LITTLE, ABNER  BLACK PANTHER/T'CHAL\n",
       "2       BLACK PANTHER/T'CHAL        PRINCESS ZANDA\n",
       "3              LITTLE, ABNER        PRINCESS ZANDA\n",
       "4              LITTLE, ABNER  BLACK PANTHER/T'CHAL\n",
       "...                      ...                   ...\n",
       "574462  COLOSSUS II/PETER RA              CALLISTO\n",
       "574463              CALLISTO               ROGUE /\n",
       "574464              CALLISTO              CALIBAN/\n",
       "574465              CALIBAN/               ROGUE /\n",
       "574466  HULK/DR. ROBERT BRUC     MARKS, DR. SHIELA\n",
       "\n",
       "[574467 rows x 2 columns]"
      ]
     },
     "execution_count": 4,
     "metadata": {},
     "output_type": "execute_result"
    }
   ],
   "source": [
    "hero_network = pd.read_csv('hero-network.csv')\n",
    "hero_network "
   ]
  },
  {
   "cell_type": "code",
   "execution_count": 5,
   "id": "e0aa1fb7",
   "metadata": {},
   "outputs": [
    {
     "data": {
      "text/html": [
       "<div>\n",
       "<style scoped>\n",
       "    .dataframe tbody tr th:only-of-type {\n",
       "        vertical-align: middle;\n",
       "    }\n",
       "\n",
       "    .dataframe tbody tr th {\n",
       "        vertical-align: top;\n",
       "    }\n",
       "\n",
       "    .dataframe thead th {\n",
       "        text-align: right;\n",
       "    }\n",
       "</style>\n",
       "<table border=\"1\" class=\"dataframe\">\n",
       "  <thead>\n",
       "    <tr style=\"text-align: right;\">\n",
       "      <th></th>\n",
       "      <th>node</th>\n",
       "      <th>type</th>\n",
       "    </tr>\n",
       "  </thead>\n",
       "  <tbody>\n",
       "    <tr>\n",
       "      <th>0</th>\n",
       "      <td>2001 10</td>\n",
       "      <td>comic</td>\n",
       "    </tr>\n",
       "    <tr>\n",
       "      <th>1</th>\n",
       "      <td>2001 8</td>\n",
       "      <td>comic</td>\n",
       "    </tr>\n",
       "    <tr>\n",
       "      <th>2</th>\n",
       "      <td>2001 9</td>\n",
       "      <td>comic</td>\n",
       "    </tr>\n",
       "    <tr>\n",
       "      <th>3</th>\n",
       "      <td>24-HOUR MAN/EMMANUEL</td>\n",
       "      <td>hero</td>\n",
       "    </tr>\n",
       "    <tr>\n",
       "      <th>4</th>\n",
       "      <td>3-D MAN/CHARLES CHAN</td>\n",
       "      <td>hero</td>\n",
       "    </tr>\n",
       "    <tr>\n",
       "      <th>...</th>\n",
       "      <td>...</td>\n",
       "      <td>...</td>\n",
       "    </tr>\n",
       "    <tr>\n",
       "      <th>19085</th>\n",
       "      <td>ZOTA, CARLO</td>\n",
       "      <td>hero</td>\n",
       "    </tr>\n",
       "    <tr>\n",
       "      <th>19086</th>\n",
       "      <td>ZOTA</td>\n",
       "      <td>hero</td>\n",
       "    </tr>\n",
       "    <tr>\n",
       "      <th>19087</th>\n",
       "      <td>ZURAS</td>\n",
       "      <td>hero</td>\n",
       "    </tr>\n",
       "    <tr>\n",
       "      <th>19088</th>\n",
       "      <td>ZURI</td>\n",
       "      <td>hero</td>\n",
       "    </tr>\n",
       "    <tr>\n",
       "      <th>19089</th>\n",
       "      <td>ZZZAX</td>\n",
       "      <td>hero</td>\n",
       "    </tr>\n",
       "  </tbody>\n",
       "</table>\n",
       "<p>19090 rows × 2 columns</p>\n",
       "</div>"
      ],
      "text/plain": [
       "                       node   type\n",
       "0                   2001 10  comic\n",
       "1                    2001 8  comic\n",
       "2                    2001 9  comic\n",
       "3      24-HOUR MAN/EMMANUEL   hero\n",
       "4      3-D MAN/CHARLES CHAN   hero\n",
       "...                     ...    ...\n",
       "19085           ZOTA, CARLO   hero\n",
       "19086                  ZOTA   hero\n",
       "19087                 ZURAS   hero\n",
       "19088                  ZURI   hero\n",
       "19089                 ZZZAX   hero\n",
       "\n",
       "[19090 rows x 2 columns]"
      ]
     },
     "execution_count": 5,
     "metadata": {},
     "output_type": "execute_result"
    }
   ],
   "source": [
    "nodes = pd.read_csv('nodes.csv')\n",
    "nodes"
   ]
  },
  {
   "cell_type": "markdown",
   "id": "907ffd46",
   "metadata": {},
   "source": [
    "# 1. Data"
   ]
  },
  {
   "cell_type": "markdown",
   "id": "2af5e0c7",
   "metadata": {},
   "source": [
    "### DATA PREPROCESSING\n",
    "- Some heroes' names in 'hero-netowrk.csv' have extra spaces at the end of their names compared to their names in 'edges.csv'.\n",
    "- Some heroes' names in 'hero-netowrk.csv' have an extra '/' at the end of their names compared to their names in 'edges.csv'.\n",
    "- The hero name 'SPIDER-MAN/PETER PARKER' in 'edges.csv' has been changed to 'SPIDER-MAN/PETER PAR' in 'hero-network.csv' due to a string length limit in 'hero-network.csv'.\n"
   ]
  },
  {
   "cell_type": "code",
   "execution_count": null,
   "id": "d5690867",
   "metadata": {},
   "outputs": [],
   "source": [
    "import csv\n",
    "import re\n",
    "\n",
    "# Read the hero-network.csv file\n",
    "with open('hero-network.csv', 'r') as f:\n",
    "    reader = csv.reader(f)\n",
    "    \n",
    "    # Create a new list to hold the cleaned data\n",
    "    cleaned_data = []\n",
    "    for row in reader:\n",
    "        # Use a regular expression to remove the extra spaces from the names\n",
    "        # in the row\n",
    "        cleaned_row = [re.sub(r' +', '', name) for name in row]\n",
    "        \n",
    "        \n",
    "        # Add the cleaned row to the list\n",
    "        cleaned_data.append(cleaned_row)\n",
    "\n",
    "# Write the cleaned data to a new CSV file\n",
    "with open('hero-network-cleaned.csv', 'w') as f:\n",
    "    writer = csv.writer(f)\n",
    "    writer.writerows(cleaned_data)"
   ]
  },
  {
   "cell_type": "code",
   "execution_count": null,
   "id": "d7486c8d",
   "metadata": {},
   "outputs": [],
   "source": [
    "# find the names that appear in both sets of names\n",
    "import pandas as pd\n",
    "df1 = pd.read_csv('hero-network-cleaned.csv')\n",
    "\n",
    "# read the second dataset into a dataframe\n",
    "df2 = pd.read_csv('edges.csv')\n",
    "\n",
    "# create a set of hero names from the hero1 and hero2 columns in the first dataset\n",
    "hero_names1 = set(df1['hero1']) | set(df1['hero2'])\n",
    "\n",
    "# create a set of hero names from the hero column in the second dataset\n",
    "hero_names2 = set(df2['hero'])\n",
    "\n",
    "common_names = df1[df1['hero1'].isin(hero_names2) | df1['hero2'].isin(hero_names2)]\n",
    "\n",
    "# print the common names\n",
    "print(common_names)\n",
    "\n",
    "common_names.count()\n"
   ]
  },
  {
   "cell_type": "code",
   "execution_count": null,
   "id": "828aa66b",
   "metadata": {},
   "outputs": [],
   "source": [
    "# read the hero-network.csv file into a dataframe\n",
    "import pandas as pd\n",
    "hero_network_df = pd.read_csv('hero-network.csv')\n",
    "\n",
    "# read the edges.csv file into a dataframe\n",
    "edges_df = pd.read_csv('edges.csv')\n",
    "\n",
    "# create a set of hero names from the hero1 and hero2 columns in hero-network.csv\n",
    "hero_network_names = set(hero_network_df['hero1']) | set(hero_network_df['hero2'])\n",
    "\n",
    "# create a set of hero names from the hero column in edges.csv\n",
    "edges_names = set(edges_df['hero'])\n",
    "\n",
    "# find the names that appear in hero-network.csv but not in edges.csv\n",
    "# and remove any extra spaces and the extra '/' from the end of the names\n",
    "missing_names = [name.strip()[:-1] for name in hero_network_names - edges_names if name[-1] == '/']\n",
    "\n",
    "# update the names in hero-network.csv to match the names in edges.csv\n",
    "hero_network_df.loc[hero_network_df['hero1'].isin(missing_names), 'hero1'] = missing_names\n",
    "hero_network_df.loc[hero_network_df['hero2'].isin(missing_names), 'hero2'] = missing_names\n",
    "\n",
    "# write the updated dataframe to a new csv file\n",
    "hero_network_df.to_csv('hero-network-corrected.csv', index=False)\n"
   ]
  },
  {
   "cell_type": "code",
   "execution_count": null,
   "id": "6b766ca3",
   "metadata": {},
   "outputs": [],
   "source": [
    "print(missing_names)"
   ]
  },
  {
   "cell_type": "code",
   "execution_count": null,
   "id": "72b798aa",
   "metadata": {},
   "outputs": [],
   "source": [
    "hero_network_df_corrected = pd.read_csv('hero-network-corrected.csv')\n",
    "hero_network_df_corrected "
   ]
  },
  {
   "cell_type": "code",
   "execution_count": null,
   "id": "fdeb4144",
   "metadata": {},
   "outputs": [],
   "source": [
    "# load the dataset into a pandas DataFrame\n",
    "hero_network_df_corrected = pd.read_csv('hero-network.csv')\n",
    "\n",
    "# replace the string 'SPIDER-MAN/PETER PAR' with 'SPIDER-MAN/PETER PARKER' in columns 'hero1' and 'hero2'\n",
    "hero_network_df_corrected['hero1'] = hero_network_df_corrected['hero1'].replace('SPIDER-MAN/PETER PAR', 'SPIDER-MAN/PETER PARKER')\n",
    "hero_network_df_corrected['hero2'] = hero_network_df_corrected['hero2'].replace('SPIDER-MAN/PETER PAR', 'SPIDER-MAN/PETER PARKER')\n",
    "\n",
    "# save the modified DataFrame to a new CSV file\n",
    "hero_network_df_corrected.to_csv('modified-hero-network.csv', index=False)\n"
   ]
  },
  {
   "cell_type": "code",
   "execution_count": 7,
   "id": "5681659e",
   "metadata": {},
   "outputs": [
    {
     "data": {
      "text/html": [
       "<div>\n",
       "<style scoped>\n",
       "    .dataframe tbody tr th:only-of-type {\n",
       "        vertical-align: middle;\n",
       "    }\n",
       "\n",
       "    .dataframe tbody tr th {\n",
       "        vertical-align: top;\n",
       "    }\n",
       "\n",
       "    .dataframe thead th {\n",
       "        text-align: right;\n",
       "    }\n",
       "</style>\n",
       "<table border=\"1\" class=\"dataframe\">\n",
       "  <thead>\n",
       "    <tr style=\"text-align: right;\">\n",
       "      <th></th>\n",
       "      <th>hero1</th>\n",
       "      <th>hero2</th>\n",
       "    </tr>\n",
       "  </thead>\n",
       "  <tbody>\n",
       "    <tr>\n",
       "      <th>0</th>\n",
       "      <td>LITTLE, ABNER</td>\n",
       "      <td>PRINCESS ZANDA</td>\n",
       "    </tr>\n",
       "    <tr>\n",
       "      <th>1</th>\n",
       "      <td>LITTLE, ABNER</td>\n",
       "      <td>BLACK PANTHER/T'CHAL</td>\n",
       "    </tr>\n",
       "    <tr>\n",
       "      <th>2</th>\n",
       "      <td>BLACK PANTHER/T'CHAL</td>\n",
       "      <td>PRINCESS ZANDA</td>\n",
       "    </tr>\n",
       "    <tr>\n",
       "      <th>3</th>\n",
       "      <td>LITTLE, ABNER</td>\n",
       "      <td>PRINCESS ZANDA</td>\n",
       "    </tr>\n",
       "    <tr>\n",
       "      <th>4</th>\n",
       "      <td>LITTLE, ABNER</td>\n",
       "      <td>BLACK PANTHER/T'CHAL</td>\n",
       "    </tr>\n",
       "    <tr>\n",
       "      <th>...</th>\n",
       "      <td>...</td>\n",
       "      <td>...</td>\n",
       "    </tr>\n",
       "    <tr>\n",
       "      <th>574462</th>\n",
       "      <td>COLOSSUS II/PETER RA</td>\n",
       "      <td>CALLISTO</td>\n",
       "    </tr>\n",
       "    <tr>\n",
       "      <th>574463</th>\n",
       "      <td>CALLISTO</td>\n",
       "      <td>ROGUE /</td>\n",
       "    </tr>\n",
       "    <tr>\n",
       "      <th>574464</th>\n",
       "      <td>CALLISTO</td>\n",
       "      <td>CALIBAN/</td>\n",
       "    </tr>\n",
       "    <tr>\n",
       "      <th>574465</th>\n",
       "      <td>CALIBAN/</td>\n",
       "      <td>ROGUE /</td>\n",
       "    </tr>\n",
       "    <tr>\n",
       "      <th>574466</th>\n",
       "      <td>HULK/DR. ROBERT BRUC</td>\n",
       "      <td>MARKS, DR. SHIELA</td>\n",
       "    </tr>\n",
       "  </tbody>\n",
       "</table>\n",
       "<p>574467 rows × 2 columns</p>\n",
       "</div>"
      ],
      "text/plain": [
       "                       hero1                 hero2\n",
       "0              LITTLE, ABNER        PRINCESS ZANDA\n",
       "1              LITTLE, ABNER  BLACK PANTHER/T'CHAL\n",
       "2       BLACK PANTHER/T'CHAL        PRINCESS ZANDA\n",
       "3              LITTLE, ABNER        PRINCESS ZANDA\n",
       "4              LITTLE, ABNER  BLACK PANTHER/T'CHAL\n",
       "...                      ...                   ...\n",
       "574462  COLOSSUS II/PETER RA              CALLISTO\n",
       "574463              CALLISTO               ROGUE /\n",
       "574464              CALLISTO              CALIBAN/\n",
       "574465              CALIBAN/               ROGUE /\n",
       "574466  HULK/DR. ROBERT BRUC     MARKS, DR. SHIELA\n",
       "\n",
       "[574467 rows x 2 columns]"
      ]
     },
     "execution_count": 7,
     "metadata": {},
     "output_type": "execute_result"
    }
   ],
   "source": [
    "df = pd.read_csv('modified-hero-network.csv')\n",
    "df"
   ]
  },
  {
   "cell_type": "markdown",
   "id": "61d9c88c",
   "metadata": {},
   "source": [
    "- Some entries in the 'hero-network.csv' have the same hero in both columns. In the graph, these entries form a self-loop. Because a self-loop makes no sense in this network, you can safely remove those from the dataset."
   ]
  },
  {
   "cell_type": "code",
   "execution_count": null,
   "id": "5371b5f8",
   "metadata": {},
   "outputs": [],
   "source": [
    "df_subset = df[df['hero1'] != df['hero2']]\n",
    "# save the new DataFrame to a new CSV file\n",
    "df_subset.to_csv('final-hero-network.csv', index=False)"
   ]
  },
  {
   "cell_type": "code",
   "execution_count": null,
   "id": "a08a0dc9",
   "metadata": {},
   "outputs": [],
   "source": [
    "df = pd.read_csv('final-hero-network.csv')\n",
    "df"
   ]
  },
  {
   "cell_type": "code",
   "execution_count": 9,
   "id": "3ed549f6",
   "metadata": {},
   "outputs": [
    {
     "name": "stdout",
     "output_type": "stream",
     "text": [
      "0\n"
     ]
    }
   ],
   "source": [
    "count = df[df['hero1'] == df['hero2']].shape[0]\n",
    "\n",
    "# print the count\n",
    "print(count)\n",
    "\n",
    "#OK IT WORKS, there's not the duplicate rows"
   ]
  },
  {
   "cell_type": "code",
   "execution_count": 17,
   "id": "eaf9ba9d",
   "metadata": {},
   "outputs": [],
   "source": [
    "df = df[df['hero1'] != df['hero2']]"
   ]
  },
  {
   "cell_type": "code",
   "execution_count": 19,
   "id": "2d525d5f",
   "metadata": {},
   "outputs": [],
   "source": [
    "df.to_csv('final-hero-network2.csv', index=False)"
   ]
  },
  {
   "cell_type": "code",
   "execution_count": 10,
   "id": "11f6fcee",
   "metadata": {
    "scrolled": true
   },
   "outputs": [
    {
     "data": {
      "text/html": [
       "<div>\n",
       "<style scoped>\n",
       "    .dataframe tbody tr th:only-of-type {\n",
       "        vertical-align: middle;\n",
       "    }\n",
       "\n",
       "    .dataframe tbody tr th {\n",
       "        vertical-align: top;\n",
       "    }\n",
       "\n",
       "    .dataframe thead th {\n",
       "        text-align: right;\n",
       "    }\n",
       "</style>\n",
       "<table border=\"1\" class=\"dataframe\">\n",
       "  <thead>\n",
       "    <tr style=\"text-align: right;\">\n",
       "      <th></th>\n",
       "      <th>hero1</th>\n",
       "      <th>hero2</th>\n",
       "    </tr>\n",
       "  </thead>\n",
       "  <tbody>\n",
       "    <tr>\n",
       "      <th>0</th>\n",
       "      <td>LITTLE, ABNER</td>\n",
       "      <td>PRINCESS ZANDA</td>\n",
       "    </tr>\n",
       "    <tr>\n",
       "      <th>1</th>\n",
       "      <td>LITTLE, ABNER</td>\n",
       "      <td>BLACK PANTHER/T'CHAL</td>\n",
       "    </tr>\n",
       "    <tr>\n",
       "      <th>2</th>\n",
       "      <td>BLACK PANTHER/T'CHAL</td>\n",
       "      <td>PRINCESS ZANDA</td>\n",
       "    </tr>\n",
       "    <tr>\n",
       "      <th>3</th>\n",
       "      <td>LITTLE, ABNER</td>\n",
       "      <td>PRINCESS ZANDA</td>\n",
       "    </tr>\n",
       "    <tr>\n",
       "      <th>4</th>\n",
       "      <td>LITTLE, ABNER</td>\n",
       "      <td>BLACK PANTHER/T'CHAL</td>\n",
       "    </tr>\n",
       "    <tr>\n",
       "      <th>...</th>\n",
       "      <td>...</td>\n",
       "      <td>...</td>\n",
       "    </tr>\n",
       "    <tr>\n",
       "      <th>572230</th>\n",
       "      <td>COLOSSUS II/PETER RA</td>\n",
       "      <td>CALLISTO</td>\n",
       "    </tr>\n",
       "    <tr>\n",
       "      <th>572231</th>\n",
       "      <td>CALLISTO</td>\n",
       "      <td>ROGUE /</td>\n",
       "    </tr>\n",
       "    <tr>\n",
       "      <th>572232</th>\n",
       "      <td>CALLISTO</td>\n",
       "      <td>CALIBAN/</td>\n",
       "    </tr>\n",
       "    <tr>\n",
       "      <th>572233</th>\n",
       "      <td>CALIBAN/</td>\n",
       "      <td>ROGUE /</td>\n",
       "    </tr>\n",
       "    <tr>\n",
       "      <th>572234</th>\n",
       "      <td>HULK/DR. ROBERT BRUC</td>\n",
       "      <td>MARKS, DR. SHIELA</td>\n",
       "    </tr>\n",
       "  </tbody>\n",
       "</table>\n",
       "<p>572235 rows × 2 columns</p>\n",
       "</div>"
      ],
      "text/plain": [
       "                       hero1                 hero2\n",
       "0              LITTLE, ABNER        PRINCESS ZANDA\n",
       "1              LITTLE, ABNER  BLACK PANTHER/T'CHAL\n",
       "2       BLACK PANTHER/T'CHAL        PRINCESS ZANDA\n",
       "3              LITTLE, ABNER        PRINCESS ZANDA\n",
       "4              LITTLE, ABNER  BLACK PANTHER/T'CHAL\n",
       "...                      ...                   ...\n",
       "572230  COLOSSUS II/PETER RA              CALLISTO\n",
       "572231              CALLISTO               ROGUE /\n",
       "572232              CALLISTO              CALIBAN/\n",
       "572233              CALIBAN/               ROGUE /\n",
       "572234  HULK/DR. ROBERT BRUC     MARKS, DR. SHIELA\n",
       "\n",
       "[572235 rows x 2 columns]"
      ]
     },
     "execution_count": 10,
     "metadata": {},
     "output_type": "execute_result"
    }
   ],
   "source": [
    "df = pd.read_csv('final-hero-network2.csv')\n",
    "df"
   ]
  },
  {
   "cell_type": "markdown",
   "id": "7a55622a",
   "metadata": {},
   "source": [
    "#### 'final-hero-network2.csv' is the final dataset preprocessed"
   ]
  },
  {
   "cell_type": "markdown",
   "id": "0d082697",
   "metadata": {},
   "source": [
    "### Graphs setup"
   ]
  },
  {
   "cell_type": "markdown",
   "id": "50fa540a",
   "metadata": {},
   "source": [
    "**First graph** : Will be constructed using the data stored in the 'hero-network.csv' file, in which an edge between two heroes can be found if they have appeared in the same comic together. The number of edges between two heroes represents the number of times they have collaborated in different comics. The graph should be considered weighted and undirected. It is up to you to decide which metric to use to calculate the weights, but we anticipate that the cost will be lower for heroes with more collaborations. Please specify which metric you used to select the weights in the report.\n",
    "\n"
   ]
  },
  {
   "cell_type": "code",
   "execution_count": 3,
   "id": "a09ab2e7",
   "metadata": {},
   "outputs": [],
   "source": [
    "data_df = pd.read_csv('final-hero-network2.csv')\n",
    "\n",
    "# Group the data by hero1 and hero2, and calculate the total number of collaborations between each pair\n",
    "edge_df = data_df.groupby(['hero1', 'hero2']).size().reset_index(name='collaborations')\n",
    "\n",
    "# Create an empty graph object\n",
    "G = nx.Graph(weighted=True, directed=False)\n",
    "\n",
    "# Add edges to the graph\n",
    "for i, row in edge_df.iterrows():\n",
    "    hero1 = row['hero1']\n",
    "    hero2 = row['hero2']\n",
    "    collaborations = row['collaborations']\n",
    "    \n",
    "    # Calculate the weight of the edge using the inverse of the total number of collaborations\n",
    "    weight = 1 / collaborations\n",
    "    \n",
    "    # Add the edge to the graph\n",
    "    G.add_edge(hero1, hero2, weight=weight)\n",
    "\n",
    "\n"
   ]
  },
  {
   "cell_type": "code",
   "execution_count": 308,
   "id": "846d237b",
   "metadata": {},
   "outputs": [
    {
     "data": {
      "text/plain": [
       "'Graph with 6426 nodes and 167207 edges'"
      ]
     },
     "execution_count": 308,
     "metadata": {},
     "output_type": "execute_result"
    }
   ],
   "source": [
    "nx.info(G)"
   ]
  },
  {
   "cell_type": "code",
   "execution_count": 317,
   "id": "261b4d2a",
   "metadata": {},
   "outputs": [
    {
     "name": "stdout",
     "output_type": "stream",
     "text": [
      "Number of nodes: 6426\n",
      "Number of edges: 167207\n"
     ]
    }
   ],
   "source": [
    "print(f'Number of nodes: {G.number_of_nodes()}')\n",
    "print(f'Number of edges: {G.number_of_edges()}')"
   ]
  },
  {
   "cell_type": "code",
   "execution_count": 16,
   "id": "b24176ea",
   "metadata": {},
   "outputs": [],
   "source": [
    "for u, v, weight in G.edges(data='weight'):\n",
    "    if 'weight' not in G.nodes[u]:\n",
    "        G.nodes[u]['weight'] = weight\n",
    "    else:\n",
    "        G.nodes[u]['weight'] += weight\n",
    "    if 'weight' not in G.nodes[v]:\n",
    "        G.nodes[v]['weight'] = weight\n",
    "    else:\n",
    "        G.nodes[v]['weight'] += weight\n"
   ]
  },
  {
   "cell_type": "markdown",
   "id": "7b67d19c",
   "metadata": {},
   "source": [
    "### SECOND GRAPH"
   ]
  },
  {
   "cell_type": "code",
   "execution_count": 22,
   "id": "74f38cde",
   "metadata": {},
   "outputs": [],
   "source": [
    "import pandas as pd\n",
    "import networkx as nx\n",
    "\n",
    "# Read the nodes data from nodes.csv into a DataFrame\n",
    "nodes_df = pd.read_csv('nodes.csv')\n",
    "\n",
    "# Read the edges data from edges.csv into a DataFrame\n",
    "edges_df = pd.read_csv('edges.csv')\n",
    "\n",
    "# Create a graph from the edges DataFrame\n",
    "G2 = nx.from_pandas_edgelist(edges_df, 'hero', 'comic')\n",
    "\n",
    "# Set the node type as an attribute of the nodes in the graph\n",
    "nodes_df = nodes_df.set_index('node')\n",
    "node_types = nodes_df['type']\n",
    "nx.set_node_attributes(G2, node_types, 'type')\n"
   ]
  },
  {
   "cell_type": "code",
   "execution_count": 91,
   "id": "7a9fa076",
   "metadata": {},
   "outputs": [
    {
     "data": {
      "text/plain": [
       "'Graph with 19090 nodes and 96104 edges'"
      ]
     },
     "execution_count": 91,
     "metadata": {},
     "output_type": "execute_result"
    }
   ],
   "source": [
    "nx.info(G2)"
   ]
  },
  {
   "cell_type": "markdown",
   "id": "7ef3c9e5",
   "metadata": {},
   "source": [
    "This code will create an undirected, unweighted graph with nodes for each hero and comic in the data, and edges between heroes and comics indicating which heroes appear in which comics. The node type (hero or comic) will be stored as an attribute of the node."
   ]
  },
  {
   "cell_type": "markdown",
   "id": "6b81ab8a",
   "metadata": {},
   "source": [
    "### Save the two graphs in a pickle files "
   ]
  },
  {
   "cell_type": "code",
   "execution_count": 318,
   "id": "f637ca6e",
   "metadata": {},
   "outputs": [],
   "source": [
    "# Save the graph to a file using pickle\n",
    "with open('graph1.pickle', 'wb') as f:\n",
    "    pickle.dump(G, f)\n",
    "    \n",
    "with open('graph2.pickle', 'wb') as f:\n",
    "    pickle.dump(G2, f)\n",
    "    "
   ]
  },
  {
   "cell_type": "code",
   "execution_count": 11,
   "id": "6d27eae8",
   "metadata": {},
   "outputs": [],
   "source": [
    "with open('graph1.pickle', 'rb') as f:\n",
    "    G1 = pickle.load(f)\n"
   ]
  },
  {
   "cell_type": "code",
   "execution_count": 35,
   "id": "c8db42e1",
   "metadata": {},
   "outputs": [
    {
     "data": {
      "text/plain": [
       "'Graph with 6426 nodes and 167207 edges'"
      ]
     },
     "execution_count": 35,
     "metadata": {},
     "output_type": "execute_result"
    }
   ],
   "source": [
    "nx.info(G1)"
   ]
  },
  {
   "cell_type": "code",
   "execution_count": 12,
   "id": "75ff3d64",
   "metadata": {},
   "outputs": [],
   "source": [
    "with open('graph2.pickle', 'rb') as f:\n",
    "    G2 = pickle.load(f)"
   ]
  },
  {
   "cell_type": "code",
   "execution_count": 37,
   "id": "e7e7ec69",
   "metadata": {},
   "outputs": [
    {
     "data": {
      "text/plain": [
       "'Graph with 19090 nodes and 96104 edges'"
      ]
     },
     "execution_count": 37,
     "metadata": {},
     "output_type": "execute_result"
    }
   ],
   "source": [
    "nx.info(G2)"
   ]
  },
  {
   "cell_type": "markdown",
   "id": "f0d26f63",
   "metadata": {},
   "source": [
    "## 2. Backend Implementation"
   ]
  },
  {
   "cell_type": "markdown",
   "id": "ab2c592a",
   "metadata": {},
   "source": [
    "Definition: As the number of nodes and edges grows, we may request to work on a subset of the data to reduce computation time and improve network visualization. In this case, we will ask you only to consider the data for top N heros. We define the top N heroes as follows:\n",
    "- **Top N heroes**: The **top N heroes who have appeared in the most number of comics**. The 'edges.csv' file, which represents the comics in which each hero has appeared, can be used to filter these N heroes."
   ]
  },
  {
   "cell_type": "markdown",
   "id": "2200f116",
   "metadata": {},
   "source": [
    "The goal of this part is the implementation of a controller system that has different functionalities. The controller should take as input an identifier \"i\" and run the associated function_i applied to the graph you create from the downloaded data."
   ]
  },
  {
   "cell_type": "markdown",
   "id": "fae35b5e",
   "metadata": {},
   "source": [
    "### **This code take as input an identifier \"i\" and run the associated function_i applied to the graph you create from the downloaded data**\n",
    "\n",
    "\n",
    "**There's an example with i = 1 -> Run the functionality 1**"
   ]
  },
  {
   "cell_type": "code",
   "execution_count": 141,
   "id": "931e6385",
   "metadata": {},
   "outputs": [],
   "source": [
    "# Create a dictionary mapping the identifier i to the function function_i\n",
    "functions = {\n",
    "    1: functionality_1,\n",
    "    2: functionality_2,\n",
    "    3: functionality_3,\n",
    "    4: functionality_4,\n",
    "    5: functionality_5\n",
    "}"
   ]
  },
  {
   "cell_type": "code",
   "execution_count": 93,
   "id": "1dcc6100",
   "metadata": {},
   "outputs": [
    {
     "name": "stdout",
     "output_type": "stream",
     "text": [
      "Enter an identifier: 1\n"
     ]
    },
    {
     "data": {
      "text/plain": [
       "{'BEAST/HENRY &HANK& P': {'collaborations': 473.0},\n",
       " 'CAPTAIN AMERICA': {'collaborations': 883.0},\n",
       " 'CYCLOPS/SCOTT SUMMER': {'collaborations': 419.0},\n",
       " 'DAREDEVIL/MATT MURDO': {'collaborations': 284.0},\n",
       " 'HAWK': {'collaborations': 516.0},\n",
       " 'HULK/DR. ROBERT BRUC': {'collaborations': 389.0},\n",
       " 'HUMAN TORCH/JOHNNY S': {'collaborations': 1138.0},\n",
       " 'JAMESON, J. JONAH': {'collaborations': 407.0},\n",
       " 'MR. FANTASTIC/REED R': {'collaborations': 1112.0},\n",
       " 'SPIDER-MAN/PETER PARKER': {'collaborations': 738.0},\n",
       " 'THING/BENJAMIN J. GR': {'collaborations': 1175.0},\n",
       " 'THOR/DR. DONALD BLAK': {'collaborations': 678.0},\n",
       " 'number_of_nodes': 12,\n",
       " 'density': 1.0,\n",
       " 'degree_distribution': [0, 0, 0, 0, 0, 0, 0, 0, 0, 0, 0, 12],\n",
       " 'avg_degree': 11.0,\n",
       " 'hubs': ['BEAST/HENRY &HANK& P',\n",
       "  'DAREDEVIL/MATT MURDO',\n",
       "  'THOR/DR. DONALD BLAK',\n",
       "  'CAPTAIN AMERICA',\n",
       "  'SPIDER-MAN/PETER PARKER',\n",
       "  'HAWK',\n",
       "  'CYCLOPS/SCOTT SUMMER',\n",
       "  'HUMAN TORCH/JOHNNY S',\n",
       "  'HULK/DR. ROBERT BRUC',\n",
       "  'THING/BENJAMIN J. GR',\n",
       "  'JAMESON, J. JONAH',\n",
       "  'MR. FANTASTIC/REED R'],\n",
       " 'network_type': 'dense'}"
      ]
     },
     "execution_count": 93,
     "metadata": {},
     "output_type": "execute_result"
    }
   ],
   "source": [
    "# Read the identifier i from the user\n",
    "i = int(input('Enter an identifier: '))\n",
    "# Look up the function corresponding to the identifier i\n",
    "func = functions[i]\n",
    "# Execute the function on the graph\n",
    "func(G1, 1, N= 20)\n"
   ]
  },
  {
   "cell_type": "markdown",
   "id": "2d99e21e",
   "metadata": {},
   "source": [
    "### Another trial with the controll applying functionality_5"
   ]
  },
  {
   "cell_type": "code",
   "execution_count": 142,
   "id": "28622306",
   "metadata": {},
   "outputs": [
    {
     "name": "stdout",
     "output_type": "stream",
     "text": [
      "Enter an identifier: 5\n",
      "Hero_1 and Hero_2 do not belong to the same community\n"
     ]
    },
    {
     "data": {
      "text/plain": [
       "(1816,\n",
       " defaultdict(list,\n",
       "             {4: ['NORRISS, SISTER BARB',\n",
       "               'HUMAN TORCH/JOHNNY S',\n",
       "               'CANNONBALL II/SAM GU',\n",
       "               'SUNSPOT/ROBERTO DACO',\n",
       "               'HAWK',\n",
       "               'ROBERTSON, JOE',\n",
       "               'VOLSTAGG',\n",
       "               'SUB-MARINER/NAMOR MA',\n",
       "               'SHE-HULK/JENNIFER WA',\n",
       "               'HERCULES [GREEK GOD]',\n",
       "               'SUMMERS, NATHAN CHRI'],\n",
       "              3: ['SPIDER-MAN/PETER PARKER',\n",
       "               'WONDER MAN/SIMON WIL',\n",
       "               'MR. FANTASTIC/REED R',\n",
       "               'CRYSTAL [INHUMAN]',\n",
       "               'BANNER, BETTY ROSS T',\n",
       "               'IRON MAN IV/JAMES R.',\n",
       "               'SIF',\n",
       "               'MARVEL GIRL/JEAN GRE',\n",
       "               'ODIN [ASGARDIAN]',\n",
       "               'DUGAN, TIMOTHY ALOYI',\n",
       "               'CAGE, LUKE/CARL LUCA',\n",
       "               'IRON FIST/DANIEL RAN',\n",
       "               'NELSON, FRANKLIN FOG',\n",
       "               'QUICKSILVER/PIETRO M',\n",
       "               'RICHARDS, FRANKLIN B',\n",
       "               'HOGUN [ASGARDIAN]',\n",
       "               'MASTERS, ALICIA REIS',\n",
       "               'STORM/ORORO MUNROE S',\n",
       "               'JONES, RICHARD MILHO',\n",
       "               'WONG',\n",
       "               'NIGHTCRAWLER/KURT WA',\n",
       "               'PARKER, MAY',\n",
       "               'CYCLOPS/SCOTT SUMMER',\n",
       "               'ANT-MAN/DR. HENRY J.',\n",
       "               'ANGEL/WARREN KENNETH',\n",
       "               'JAMESON, J. JONAH',\n",
       "               'BEAST/HENRY &HANK& P',\n",
       "               'WOLFSBANE/RAHNE SINC',\n",
       "               'CLEA',\n",
       "               'CAPTAIN BRITAIN/BRIA',\n",
       "               'COLOSSUS II/PETER RA',\n",
       "               'BALDER [ASGARDIAN]',\n",
       "               'FANDRAL [ASGARDIAN]',\n",
       "               'THING/BENJAMIN J. GR'],\n",
       "              2: ['LEEDS, BETTY BRANT', 'FALCON/SAM WILSON'],\n",
       "              5: ['CAPTAIN AMERICA',\n",
       "               'BANSHEE/SEAN CASSIDY',\n",
       "               \"BLACK PANTHER/T'CHAL\",\n",
       "               'PUNISHER II/FRANK CA',\n",
       "               'PSYLOCKE/ELISABETH B',\n",
       "               'SILVER SURFER/NORRIN'],\n",
       "              1: ['LOKI [ASGARDIAN]',\n",
       "               'ROGUE /',\n",
       "               'DAREDEVIL/MATT MURDO',\n",
       "               'THOMPSON, EUGENE FLA'],\n",
       "              0: ['THOR/DR. DONALD BLAK',\n",
       "               'KINGPIN/WILSON FISK',\n",
       "               'HULK/DR. ROBERT BRUC']}))"
      ]
     },
     "execution_count": 142,
     "metadata": {},
     "output_type": "execute_result"
    }
   ],
   "source": [
    "# Read the identifier i from the user\n",
    "i = int(input('Enter an identifier: '))\n",
    "# Execute the function on the graph\n",
    "func(G1, 80, 'THING/BENJAMIN J. GR','HUMAN TORCH/JOHNNY S' )\n"
   ]
  },
  {
   "cell_type": "markdown",
   "id": "8a2c771e",
   "metadata": {},
   "source": [
    "## Functionality 1 - extract the graph's features\n",
    "Input:\n",
    "\n",
    "- The graph data\n",
    "- The graph type (ex., number 1 or number 2)\n",
    "- N: denoting the top N heroes that their data should be considered\n",
    "\n",
    "Output:\n",
    "\n",
    "- The number of nodes in the network (if type 2, report for both node types)\n",
    "- The number of collaborations of each superhero with the others (only if type 1)\n",
    "- The number of heroes that have appeared in each comic (only if type 2)\n",
    "- The network's density\n",
    "- The network's degree distribution\n",
    "- The average degree of the network\n",
    "- The network's Hubs (hubs are nodes having degrees more extensive than the 95th percentile of the degree distribution) Whether the Network is sparse or dense"
   ]
  },
  {
   "cell_type": "code",
   "execution_count": 139,
   "id": "c99fe2fe",
   "metadata": {},
   "outputs": [],
   "source": [
    "def my_number_of_nodes(G):\n",
    "    return len(G.nodes)\n",
    "def adjacent_edges(G, node):\n",
    "    # Initialize an empty list to store the adjacent edges\n",
    "    adjacent_edges = []\n",
    "    # Iterate over all the edges in the graph\n",
    "    for u, v in G.edges():\n",
    "        # If the node is the source or target of the edge, add it to the list of adjacent edges\n",
    "        if u == node or v == node:\n",
    "            adjacent_edges.append((u, v))\n",
    "    # Return an iterator over the adjacent edges\n",
    "    return iter(adjacent_edges)\n",
    "def my_neighbors(G, node):\n",
    "    # Initialize a set to store the neighbors\n",
    "    neighbors = set()\n",
    "    # Iterate over the edges adjacent to the node\n",
    "    for n1, n2 in adjacent_edges(G,node):\n",
    "        # If the node is the source of the edge, add the target to the set of neighbors\n",
    "        if n1 == node:\n",
    "            neighbors.add(n2)\n",
    "        # If the node is the target of the edge, add the source to the set of neighbors\n",
    "        elif n2 == node:\n",
    "            neighbors.add(n1)\n",
    "    # Convert the set to a list and return it\n",
    "    return list(neighbors)\n",
    "def my_density(G):\n",
    "    num_nodes = len(G.nodes)\n",
    "    num_edges = len(G.edges)\n",
    "    if num_nodes == 0 or num_nodes == 1:\n",
    "        return 0\n",
    "    return num_edges / (num_nodes * (num_nodes - 1) / 2)\n",
    "def my_degree_histogram(G):\n",
    "    degrees = [len(G[node]) for node in G.nodes]\n",
    "    max_degree = max(degrees)\n",
    "    histogram = [0] * (max_degree+1)\n",
    "    for d in degrees:\n",
    "        histogram[d] += 1\n",
    "    return histogram\n",
    "def my_degree(G):\n",
    "    # Initialize a dictionary to store the degrees of the nodes\n",
    "    degrees = {}\n",
    "    # Iterate over all the nodes in the graph\n",
    "    for node in G.nodes():\n",
    "        # Find the neighbors of the node\n",
    "        neighbors = list(my_neighbors(G, node))\n",
    "        # Store the degree of the node in the dictionary\n",
    "        degrees[node] = len(neighbors)\n",
    "    # Return the dictionary of degrees\n",
    "    return degrees"
   ]
  },
  {
   "cell_type": "code",
   "execution_count": 159,
   "id": "400c151d",
   "metadata": {},
   "outputs": [],
   "source": [
    "edges_df =  pd.read_csv(\"edges.csv\")"
   ]
  },
  {
   "cell_type": "code",
   "execution_count": 140,
   "id": "e9d49aab",
   "metadata": {},
   "outputs": [],
   "source": [
    "def functionality_1(G, graph_type, N=None):\n",
    "    features={}\n",
    "  # graph_type should be either 1 or 2\n",
    "  # N is the top N heroes that should be considered (if not provided, consider all heroes)\n",
    "\n",
    "  # if N is not provided, consider all heroes in the graph\n",
    "    if N is None:\n",
    "        G_sub = G\n",
    "    else:\n",
    "        G_sub = nx.subgraph(G, list(edges_df['hero'].value_counts().head(N).index) +     # we are taking a subgraph with only nodes of the top N heroes\n",
    "                         list(edges_df[edges_df['hero'].isin(list(edges_df['hero'].value_counts().head(N).index))]['comic'].unique()))    # we are also considering the nodes of the comics where top N heroes appeared \n",
    "\n",
    "  # now we can use the G_sub graph to compute the desired statistics\n",
    "\n",
    "    if graph_type == 1:\n",
    "    \n",
    "        # Iterate over the edges in the graph\n",
    "        for source, target, weight in G_sub.edges(data='weight'):\n",
    "            # Calculate the number of collaborations as the reciprocal of the weight\n",
    "            collaborations = 1 / weight\n",
    "\n",
    "            # Update the collaborations count for the source node\n",
    "            if source in features:\n",
    "                features[source]['collaborations'] += collaborations\n",
    "            else:\n",
    "                features[source] = {'collaborations': collaborations}\n",
    "\n",
    "            # Update the collaborations count for the target node\n",
    "            if target in features:\n",
    "                features[target]['collaborations'] += collaborations\n",
    "            else:\n",
    "                features[target] = {'collaborations': collaborations}\n",
    "#source and target are variables that are being used to represent the nodes at the endpoints of an edge in a graph.      \n",
    "# for loop iterates over the edges in the graph and assigns the source node to the variable source, the target node to the variable target, and the weight of the edge to the variable weight.      \n",
    "    \n",
    "        num_nodes = G_sub.number_of_nodes()\n",
    "        features['number_of_nodes'] = num_nodes\n",
    "\n",
    "\n",
    "    elif graph_type == 2:\n",
    "        # Get the node types (hero or comic) of all the nodes in the graph\n",
    "        node_types = nx.get_node_attributes(G_sub, 'type')\n",
    "\n",
    "        # Initialize dictionaries to track the number of heroes that have appeared in each comic\n",
    "        hero_appearances = {}\n",
    "        comic_appearances_total = {}\n",
    "\n",
    "        # Iterate over the nodes in the graph\n",
    "        for node, node_type in node_types.items():\n",
    "            # Count the number of neighbors of the node\n",
    "            num_neighbors = len(list(G_sub.neighbors(node)))\n",
    "            if node_type == 'hero':  # If the node is a hero node\n",
    "                # Add the count of its neighbors to the dictionary that tracks the number of heroes that have appeared in each comic\n",
    "                hero_appearances[node] = num_neighbors\n",
    "            else:  # If the node is a comic node\n",
    "                # Add the count of its neighbors to the dictionary that tracks the number of heroes that have appeared in each comic\n",
    "                comic_appearances_total[node] = num_neighbors\n",
    "\n",
    "        features['hero_appearances'] = hero_appearances\n",
    "        features['comic_appearances_total'] = comic_appearances_total\n",
    "        \n",
    "        \n",
    "        # Get the node types (hero or comic) of all the nodes in the graph\n",
    "        node_types = nx.get_node_attributes(G_sub, 'type')\n",
    "\n",
    "        # Initialize counters for the number of hero and comic nodes\n",
    "        num_hero_nodes = 0\n",
    "        num_comic_nodes = 0\n",
    "\n",
    "        # Iterate over the nodes in the graph\n",
    "        for node, node_type in node_types.items():\n",
    "            if node_type == 'hero':  # If the node is a hero node\n",
    "                num_hero_nodes += 1  # Increment the counter for hero nodes\n",
    "            else:  # If the node is a comic node\n",
    "                num_comic_nodes += 1  # Increment the counter for comic nodes\n",
    "\n",
    "        \n",
    "        features['Number of hero nodes'] = num_hero_nodes\n",
    "        features['Number of comic nodes'] = num_comic_nodes\n",
    "\n",
    "\n",
    "    # compute the network's density\n",
    "    density = nx.density(G_sub)\n",
    "    features['density'] = density \n",
    "    \n",
    "    #The network's degree distribution\n",
    "    degree_distribution = nx.degree_histogram(G_sub)\n",
    "    features['degree_distribution'] = degree_distribution\n",
    "    \n",
    "    # Get the average degree of the network\n",
    "    degrees = dict(G_sub.degree())\n",
    "    avg_degree = sum(degrees.values()) / len(degrees)\n",
    "    features['avg_degree'] = avg_degree\n",
    "\n",
    "    # Get the network's Hubs (nodes with degree greater than 95th percentile of degree distribution)\n",
    "    # Sort the degrees in descending order\n",
    "    sorted_degrees = sorted(degrees.values(), reverse=True)\n",
    "\n",
    "    # Compute the 95th percentile of the degree distribution\n",
    "    pctile = np.percentile(sorted_degrees, 95)\n",
    "\n",
    "    # Identify the hubs as the nodes with degrees greater than or equal to the 95th percentile\n",
    "    hubs = [node for node, degree in degrees.items() if degree >= pctile]\n",
    "    features['hubs'] = hubs\n",
    "    \n",
    "    # Determine if the network is sparse or dense\n",
    "    if density < 0.1:\n",
    "        sparsity = \"sparse\"\n",
    "    else:\n",
    "        sparsity = \"dense\"\n",
    "    features['network_type'] = sparsity\n",
    "    \n",
    " \n",
    "    return(features)\n"
   ]
  },
  {
   "cell_type": "markdown",
   "id": "af34c3f5",
   "metadata": {},
   "source": [
    "## Functionality 2 - Find top superheroes!"
   ]
  },
  {
   "cell_type": "markdown",
   "id": "a9886459",
   "metadata": {},
   "source": [
    "Input:\n",
    "\n",
    "- The graph data\n",
    "- A node (hero or comic)\n",
    "- One of the given metrics : Betweeness 1, PageRank, ClosenessCentrality 3, DegreeCentrality\n",
    "- N: denoting the top N heroes that their data should be considered\n",
    "\n",
    "Output:\n",
    "\n",
    "- The metric's value over the considered graph\n",
    "- The given node's value\n",
    "**Note**: Give an explanation regarding the features of the user based on all of the metrics (e.g. if the betweenness metric is high, what does this mean in practice, what if the betweenness is low but has a high PageRank value, etc.)."
   ]
  },
  {
   "cell_type": "markdown",
   "id": "01735731",
   "metadata": {},
   "source": [
    "In graph analytics, **Centrality** is a very important concept in identifying important nodes in a graph. It is used to measure the importance (or “centrality” as in how **“central”** a node is in the graph) of various nodes in a graph. Now, each node could be **important** from an angle depending on **how “importance”** is defined. Centrality comes in different flavors and each flavor or a metric defines importance of a node from a different perspective and further provides relevant analytical information about the graph and its nodes.\n",
    "\n",
    "### **measures of centrality :**\n",
    "\n",
    "\n",
    "- **Betweeness Centrality :** measures the number of times a node lies on the shortest path between other nodes. It shows which nodes are ‘bridges’ between nodes in a network. It does this by identifying all the shortest paths and then counting how many times each node falls on one and it is used for finding the individuals who influence the flow around a system.\n",
    "\n",
    "- **PageRank :** PageRank is a variant of EigenCentrality, also assigning nodes a score based on their connections, and their connections’ connections. The difference is that PageRank also takes link direction and weight into account – so links can only pass influence in one direction, and pass different amounts of influence. This measure uncovers nodes whose influence extends beyond their direct connections into the wider network.\n",
    "\n",
    "- **Closeness Centrality :** Closeness centrality scores each node based on their ‘closeness’ to all other nodes in the network. This measure calculates the shortest paths between all nodes, then assigns each node a score based on its sum of shortest paths. It is used for finding the individuals who are best placed to influence the entire network most quickly. Closeness Centrality can help find good ‘broadcasters’, but in a highly-connected network, you will often find all nodes have a similar score. \n",
    "\n",
    "- **Degree centrality :** Degree centrality assigns an importance score based simply on the number of links held by each node. It tells us how many direct, ‘one hop’ connections each node has to other nodes in the network. It is used for finding very connected individuals, popular individuals, individuals who are likely to hold most information or individuals who can quickly connect with the wider network.\n"
   ]
  },
  {
   "cell_type": "code",
   "execution_count": 100,
   "id": "9500850e",
   "metadata": {},
   "outputs": [],
   "source": [
    "# Define the functions for the different functionalities\n",
    "def functionality_2(G, node, metric, N = None):\n",
    "    '''\n",
    "    Input:\n",
    "\n",
    "    - The graph data\n",
    "    - A node (hero or comic)\n",
    "    - One of the given metrics : Betweeness 1, PageRank, ClosenessCentrality 3, DegreeCentrality\n",
    "    - N: denoting the top N heroes that their data should be considered\n",
    "\n",
    "\n",
    "    Output:\n",
    "        A tuple cointaining:\n",
    "        \n",
    "        - The metric's value over the considered graph (first element)\n",
    "        - The given node's value                       (second element)\n",
    "    '''\n",
    "    \n",
    "\n",
    "    flag = True\n",
    "    \n",
    "    if not N:\n",
    "        sub_G = G\n",
    "    else:\n",
    "        sub_G = nx.subgraph(G, list(edges_df['hero'].value_counts().head(N).index) +     # we are taking a subgraph with only nodes of the top N heroes\n",
    "                         list(edges_df[edges_df['hero'].isin(list(edges_df['hero'].value_counts().head(N).index))]['comic'].unique()))    # we are also considering the nodes of the comics where top N heroes appeared \n",
    "\n",
    "    if node not in sub_G.nodes():\n",
    "        flag = False\n",
    "    \n",
    "    if metric.lower() == \"betweeness\":   # check of betweeness metric\n",
    "        df = pd.DataFrame.from_dict(nx.betweenness_centrality(sub_G, weight = \"weight\"), orient='index',                 # compute and store betweeness for all node in descending order\n",
    "                           columns=['betweenness']).sort_values(by='betweenness', ascending=False)  # to visualize first the most relevant in terms of betweeness \n",
    "    \n",
    "    elif metric.lower() == \"pagerank\":   # check of pagerank metric\n",
    "        df = pd.DataFrame.from_dict(nx.pagerank(sub_G, weight = \"weight\"), orient='index',                            # compute and store betweeness for all node in descending order\n",
    "                           columns=['pagerank']).sort_values(by='pagerank', ascending=False)   # to visualize first the most relevant in terms of pagerank \n",
    "        \n",
    "    \n",
    "    elif metric.lower() == \"closenesscentrality\":    # check of closenesscentrality metric     # compute and store betweeness for all node in descending order\n",
    "        df = pd.DataFrame.from_dict(nx.closeness_centrality(sub_G), orient='index',                # to visualize first the most relevant in terms of closenesscentrality\n",
    "                           columns=['closeness_centrality']).sort_values(by='closeness_centrality', ascending=False)\n",
    "    \n",
    "    \n",
    "    elif metric.lower() == \"degreecentrality\":        # check of degreecentrality metric\n",
    "        df = pd.DataFrame.from_dict(nx.degree_centrality(sub_G), orient='index',                                    # compute and store betweeness for all node in descending order\n",
    "                           columns=['degree_centrality']).sort_values(by='degree_centrality', ascending=False)   # to visualize first the most relevant in terms of degreecentrality\n",
    "    else:\n",
    "        raise Exception(\"Sorry, this metric is no valid\")\n",
    "    \n",
    "    return (df, df[df.index == node] if flag else 'NA')\n",
    "    \n"
   ]
  },
  {
   "cell_type": "markdown",
   "id": "623bc704",
   "metadata": {},
   "source": [
    "#### Let's try function2 on the first graph, node of CAPTAIN AMERICAN, all metrics and N = 100"
   ]
  },
  {
   "cell_type": "code",
   "execution_count": 101,
   "id": "53272113",
   "metadata": {},
   "outputs": [
    {
     "data": {
      "text/html": [
       "<div>\n",
       "<style scoped>\n",
       "    .dataframe tbody tr th:only-of-type {\n",
       "        vertical-align: middle;\n",
       "    }\n",
       "\n",
       "    .dataframe tbody tr th {\n",
       "        vertical-align: top;\n",
       "    }\n",
       "\n",
       "    .dataframe thead th {\n",
       "        text-align: right;\n",
       "    }\n",
       "</style>\n",
       "<table border=\"1\" class=\"dataframe\">\n",
       "  <thead>\n",
       "    <tr style=\"text-align: right;\">\n",
       "      <th></th>\n",
       "      <th>betweenness</th>\n",
       "    </tr>\n",
       "  </thead>\n",
       "  <tbody>\n",
       "    <tr>\n",
       "      <th>CAPTAIN AMERICA</th>\n",
       "      <td>0.564103</td>\n",
       "    </tr>\n",
       "    <tr>\n",
       "      <th>BEAST/HENRY &amp;HANK&amp; P</th>\n",
       "      <td>0.295034</td>\n",
       "    </tr>\n",
       "    <tr>\n",
       "      <th>SPIDER-MAN/PETER PARKER</th>\n",
       "      <td>0.221681</td>\n",
       "    </tr>\n",
       "    <tr>\n",
       "      <th>CYCLOPS/SCOTT SUMMER</th>\n",
       "      <td>0.183382</td>\n",
       "    </tr>\n",
       "    <tr>\n",
       "      <th>THOR/DR. DONALD BLAK</th>\n",
       "      <td>0.163908</td>\n",
       "    </tr>\n",
       "  </tbody>\n",
       "</table>\n",
       "</div>"
      ],
      "text/plain": [
       "                         betweenness\n",
       "CAPTAIN AMERICA             0.564103\n",
       "BEAST/HENRY &HANK& P        0.295034\n",
       "SPIDER-MAN/PETER PARKER     0.221681\n",
       "CYCLOPS/SCOTT SUMMER        0.183382\n",
       "THOR/DR. DONALD BLAK        0.163908"
      ]
     },
     "execution_count": 101,
     "metadata": {},
     "output_type": "execute_result"
    }
   ],
   "source": [
    "functionality_2(G1, 'CAPTAIN AMERICA', \"betweeness\", 100)[0].head(5)"
   ]
  },
  {
   "cell_type": "markdown",
   "id": "192bb741",
   "metadata": {},
   "source": [
    "These are the five nodes with highest betweenness centrality, it means that these nodes are interesting because they lie on communication paths and can control information flow. "
   ]
  },
  {
   "cell_type": "code",
   "execution_count": 102,
   "id": "3d959ac2",
   "metadata": {},
   "outputs": [
    {
     "data": {
      "text/html": [
       "<div>\n",
       "<style scoped>\n",
       "    .dataframe tbody tr th:only-of-type {\n",
       "        vertical-align: middle;\n",
       "    }\n",
       "\n",
       "    .dataframe tbody tr th {\n",
       "        vertical-align: top;\n",
       "    }\n",
       "\n",
       "    .dataframe thead th {\n",
       "        text-align: right;\n",
       "    }\n",
       "</style>\n",
       "<table border=\"1\" class=\"dataframe\">\n",
       "  <thead>\n",
       "    <tr style=\"text-align: right;\">\n",
       "      <th></th>\n",
       "      <th>pagerank</th>\n",
       "    </tr>\n",
       "  </thead>\n",
       "  <tbody>\n",
       "    <tr>\n",
       "      <th>CAPTAIN BRITAIN/BRIA</th>\n",
       "      <td>0.018988</td>\n",
       "    </tr>\n",
       "    <tr>\n",
       "      <th>IRON FIST/DANIEL RAN</th>\n",
       "      <td>0.018116</td>\n",
       "    </tr>\n",
       "    <tr>\n",
       "      <th>CAGE, LUKE/CARL LUCA</th>\n",
       "      <td>0.017541</td>\n",
       "    </tr>\n",
       "    <tr>\n",
       "      <th>NELSON, FRANKLIN FOG</th>\n",
       "      <td>0.016655</td>\n",
       "    </tr>\n",
       "    <tr>\n",
       "      <th>WONG</th>\n",
       "      <td>0.016605</td>\n",
       "    </tr>\n",
       "  </tbody>\n",
       "</table>\n",
       "</div>"
      ],
      "text/plain": [
       "                      pagerank\n",
       "CAPTAIN BRITAIN/BRIA  0.018988\n",
       "IRON FIST/DANIEL RAN  0.018116\n",
       "CAGE, LUKE/CARL LUCA  0.017541\n",
       "NELSON, FRANKLIN FOG  0.016655\n",
       "WONG                  0.016605"
      ]
     },
     "execution_count": 102,
     "metadata": {},
     "output_type": "execute_result"
    }
   ],
   "source": [
    "functionality_2(G1, 'CAPTAIN AMERICA', \"pagerank\", 100)[0].head(5)"
   ]
  },
  {
   "cell_type": "markdown",
   "id": "cd80a080",
   "metadata": {},
   "source": [
    "These are the five nodes with highest pagerank centrality. A node is important if it linked from other important and link parsimonious nodes or if it is highly linked, we can say that these nodes are the most important in terms of connections."
   ]
  },
  {
   "cell_type": "code",
   "execution_count": 103,
   "id": "9f6dac01",
   "metadata": {},
   "outputs": [
    {
     "data": {
      "text/html": [
       "<div>\n",
       "<style scoped>\n",
       "    .dataframe tbody tr th:only-of-type {\n",
       "        vertical-align: middle;\n",
       "    }\n",
       "\n",
       "    .dataframe tbody tr th {\n",
       "        vertical-align: top;\n",
       "    }\n",
       "\n",
       "    .dataframe thead th {\n",
       "        text-align: right;\n",
       "    }\n",
       "</style>\n",
       "<table border=\"1\" class=\"dataframe\">\n",
       "  <thead>\n",
       "    <tr style=\"text-align: right;\">\n",
       "      <th></th>\n",
       "      <th>closeness_centrality</th>\n",
       "    </tr>\n",
       "  </thead>\n",
       "  <tbody>\n",
       "    <tr>\n",
       "      <th>CYCLOPS/SCOTT SUMMER</th>\n",
       "      <td>1.0000</td>\n",
       "    </tr>\n",
       "    <tr>\n",
       "      <th>HUMAN TORCH/JOHNNY S</th>\n",
       "      <td>1.0000</td>\n",
       "    </tr>\n",
       "    <tr>\n",
       "      <th>MR. FANTASTIC/REED R</th>\n",
       "      <td>1.0000</td>\n",
       "    </tr>\n",
       "    <tr>\n",
       "      <th>CAPTAIN AMERICA</th>\n",
       "      <td>1.0000</td>\n",
       "    </tr>\n",
       "    <tr>\n",
       "      <th>THING/BENJAMIN J. GR</th>\n",
       "      <td>0.9875</td>\n",
       "    </tr>\n",
       "  </tbody>\n",
       "</table>\n",
       "</div>"
      ],
      "text/plain": [
       "                      closeness_centrality\n",
       "CYCLOPS/SCOTT SUMMER                1.0000\n",
       "HUMAN TORCH/JOHNNY S                1.0000\n",
       "MR. FANTASTIC/REED R                1.0000\n",
       "CAPTAIN AMERICA                     1.0000\n",
       "THING/BENJAMIN J. GR                0.9875"
      ]
     },
     "execution_count": 103,
     "metadata": {},
     "output_type": "execute_result"
    }
   ],
   "source": [
    "functionality_2(G1, 'CAPTAIN AMERICA', \"closenesscentrality\", 100)[0].head(5)"
   ]
  },
  {
   "cell_type": "markdown",
   "id": "0c7915c2",
   "metadata": {},
   "source": [
    "These are the five nodes with highest closeness centrality, that is a useful measure that estimates how fast the flow of information would be through a given node to other nodes. We can say that these nodes are the ones where information passes the fastest."
   ]
  },
  {
   "cell_type": "code",
   "execution_count": 104,
   "id": "97bb1a62",
   "metadata": {},
   "outputs": [
    {
     "data": {
      "text/html": [
       "<div>\n",
       "<style scoped>\n",
       "    .dataframe tbody tr th:only-of-type {\n",
       "        vertical-align: middle;\n",
       "    }\n",
       "\n",
       "    .dataframe tbody tr th {\n",
       "        vertical-align: top;\n",
       "    }\n",
       "\n",
       "    .dataframe thead th {\n",
       "        text-align: right;\n",
       "    }\n",
       "</style>\n",
       "<table border=\"1\" class=\"dataframe\">\n",
       "  <thead>\n",
       "    <tr style=\"text-align: right;\">\n",
       "      <th></th>\n",
       "      <th>degree_centrality</th>\n",
       "    </tr>\n",
       "  </thead>\n",
       "  <tbody>\n",
       "    <tr>\n",
       "      <th>CYCLOPS/SCOTT SUMMER</th>\n",
       "      <td>1.000000</td>\n",
       "    </tr>\n",
       "    <tr>\n",
       "      <th>HUMAN TORCH/JOHNNY S</th>\n",
       "      <td>1.000000</td>\n",
       "    </tr>\n",
       "    <tr>\n",
       "      <th>MR. FANTASTIC/REED R</th>\n",
       "      <td>1.000000</td>\n",
       "    </tr>\n",
       "    <tr>\n",
       "      <th>CAPTAIN AMERICA</th>\n",
       "      <td>1.000000</td>\n",
       "    </tr>\n",
       "    <tr>\n",
       "      <th>THING/BENJAMIN J. GR</th>\n",
       "      <td>0.987342</td>\n",
       "    </tr>\n",
       "  </tbody>\n",
       "</table>\n",
       "</div>"
      ],
      "text/plain": [
       "                      degree_centrality\n",
       "CYCLOPS/SCOTT SUMMER           1.000000\n",
       "HUMAN TORCH/JOHNNY S           1.000000\n",
       "MR. FANTASTIC/REED R           1.000000\n",
       "CAPTAIN AMERICA                1.000000\n",
       "THING/BENJAMIN J. GR           0.987342"
      ]
     },
     "execution_count": 104,
     "metadata": {},
     "output_type": "execute_result"
    }
   ],
   "source": [
    "functionality_2(G1, 'CAPTAIN AMERICA', \"degreecentrality\", 100)[0].head(5)"
   ]
  },
  {
   "cell_type": "markdown",
   "id": "4cb03b26",
   "metadata": {},
   "source": [
    "These are the five nodes with highest degree centrality. It can be thought of as a kind of popularity measure, but a crude one that does not recognize a difference between quantity and quality. These are the nodes that can quickly connect with the wider network."
   ]
  },
  {
   "cell_type": "code",
   "execution_count": 105,
   "id": "313cb6bf",
   "metadata": {},
   "outputs": [],
   "source": [
    "Cap_bet = functionality_2(G1, 'CAPTAIN AMERICA', \"betweeness\", 100)[1]\n",
    "Cap_pag = functionality_2(G1, 'CAPTAIN AMERICA', \"pagerank\", 100)[1]\n",
    "Cap_clo = functionality_2(G1, 'CAPTAIN AMERICA', \"closenesscentrality\", 100)[1]\n",
    "Cap_deg = functionality_2(G1, 'CAPTAIN AMERICA', \"degreecentrality\", 100)[1]"
   ]
  },
  {
   "cell_type": "code",
   "execution_count": 106,
   "id": "3e2ba318",
   "metadata": {},
   "outputs": [],
   "source": [
    "cap_result = pd.DataFrame(data = [[round(Cap_bet.betweenness[0],4), round(Cap_pag.pagerank[0],4), round(Cap_clo.closeness_centrality[0],4), round(Cap_deg.degree_centrality[0],4)]], columns = ['betweeness', 'pagerank','closenesscentrality', 'degreecentrality'])"
   ]
  },
  {
   "cell_type": "code",
   "execution_count": 107,
   "id": "14a0b1b6",
   "metadata": {},
   "outputs": [],
   "source": [
    "cap_result.index = [\"CAPTAIN AMERICA\"]"
   ]
  },
  {
   "cell_type": "code",
   "execution_count": 108,
   "id": "fb442069",
   "metadata": {},
   "outputs": [
    {
     "data": {
      "text/html": [
       "<div>\n",
       "<style scoped>\n",
       "    .dataframe tbody tr th:only-of-type {\n",
       "        vertical-align: middle;\n",
       "    }\n",
       "\n",
       "    .dataframe tbody tr th {\n",
       "        vertical-align: top;\n",
       "    }\n",
       "\n",
       "    .dataframe thead th {\n",
       "        text-align: right;\n",
       "    }\n",
       "</style>\n",
       "<table border=\"1\" class=\"dataframe\">\n",
       "  <thead>\n",
       "    <tr style=\"text-align: right;\">\n",
       "      <th></th>\n",
       "      <th>betweeness</th>\n",
       "      <th>pagerank</th>\n",
       "      <th>closenesscentrality</th>\n",
       "      <th>degreecentrality</th>\n",
       "    </tr>\n",
       "  </thead>\n",
       "  <tbody>\n",
       "    <tr>\n",
       "      <th>CAPTAIN AMERICA</th>\n",
       "      <td>0.5641</td>\n",
       "      <td>0.0069</td>\n",
       "      <td>1.0</td>\n",
       "      <td>1.0</td>\n",
       "    </tr>\n",
       "  </tbody>\n",
       "</table>\n",
       "</div>"
      ],
      "text/plain": [
       "                 betweeness  pagerank  closenesscentrality  degreecentrality\n",
       "CAPTAIN AMERICA      0.5641    0.0069                  1.0               1.0"
      ]
     },
     "execution_count": 108,
     "metadata": {},
     "output_type": "execute_result"
    }
   ],
   "source": [
    "cap_result"
   ]
  },
  {
   "cell_type": "markdown",
   "id": "c9c111e9",
   "metadata": {},
   "source": [
    "We have reported all measures of centrality for the required node, namely the hero captain america, and we can state by also looking at the previous results that it always ranks high in terms of centrality, consequently it is definitely one of the most important nodes within the graph."
   ]
  },
  {
   "cell_type": "markdown",
   "id": "2eaef8e4",
   "metadata": {},
   "source": [
    "## Functionality 3 - Shortest ordered Route\n",
    "Input:\n",
    "- The graph data\n",
    "- A sequence of superheroes h = [h_2, ..., h_n-1]\n",
    "- Initial node h_1 and an end node h_n\n",
    "- N: denoting the top N heroes that their data should be considered\n",
    "\n",
    "Output:\n",
    "- The shortest walk of comics that you need to read to get from hero_1 to hero_n"
   ]
  },
  {
   "cell_type": "code",
   "execution_count": 4,
   "id": "2cd6549f",
   "metadata": {},
   "outputs": [],
   "source": [
    "# create 2 lists of all the heros and all the comics from the second graph\n",
    "G2_type = list(G2.nodes(data='type'))\n",
    "G2_h = []\n",
    "G2_c = []\n",
    "for x in G2_type:\n",
    "    if x[1] == 'hero':\n",
    "        G2_h.append(x[0])\n",
    "    else:\n",
    "        G2_c.append(x[0])"
   ]
  },
  {
   "cell_type": "code",
   "execution_count": 5,
   "id": "8d54ff58",
   "metadata": {},
   "outputs": [
    {
     "name": "stdout",
     "output_type": "stream",
     "text": [
      "['FREDERICKS, GENERAL', 'REISZ, RAY', 'BYRD, NATHANIEL ALEX', 'JOHNNY APPLESEED/JON', 'STORM 2013'] SINTARIIS FUJIKAWA, KENJIRO\n"
     ]
    }
   ],
   "source": [
    "# create a random list of n heros from G2_h(the list of all \n",
    "# heroes of the second graph) for run the Functionality 3\n",
    "# and create h_1 and h_n random too \n",
    "import random \n",
    "random.seed(114) #reproducibitily\n",
    "n = 5 # length of the list \n",
    "i = 0 \n",
    "h = []\n",
    "while i < n+2:\n",
    "    x = random.choice(G2_h)\n",
    "    if x not in h:\n",
    "        h.append(x)\n",
    "        i += 1\n",
    "\n",
    "\n",
    "h_1 = h[len(h)-1]\n",
    "h_n = h[len(h)-2]\n",
    "h.pop()\n",
    "h.pop()\n",
    "print(h,h_1,h_n)"
   ]
  },
  {
   "cell_type": "code",
   "execution_count": 9,
   "id": "09f56ddb",
   "metadata": {},
   "outputs": [],
   "source": [
    "# function to merge a list of lists into a single list\n",
    "def flatten(l):\n",
    "    return [i for sublist in l for i in sublist]\n",
    "\n",
    "\n",
    "# Dijkstra metod, to find the shortest path between two nodes: s, g\n",
    "def dijkstra(G, s, g):\n",
    "    S_P= {s: (None, 0)}\n",
    "    current = s\n",
    "    visited = set()\n",
    "\n",
    "    while current != g:\n",
    "        visited.add(current)\n",
    "        destinations = list(G[current])\n",
    "        dist_to_current = S_P[current][1] \n",
    "\n",
    "        for next in destinations:\n",
    "            dist = 1 + dist_to_current  \n",
    "            if next not in S_P:\n",
    "                S_P[next] = (current, dist)\n",
    "            else:\n",
    "                S_dist_current = S_P[next][1]\n",
    "                if S_dist_current > dist:\n",
    "                    S_P[next] = (current, dist)\n",
    "\n",
    "        next_destinations = {node: S_P[node] for node in S_P if node not in visited}\n",
    "        if not next_destinations: return None\n",
    "        current = min(next_destinations, key=lambda x: next_destinations[x][1])\n",
    "\n",
    "    final_P =[]\n",
    "    while current is not None:\n",
    "        final_P.append(current)\n",
    "        next = S_P[current][0]\n",
    "        current = next\n",
    "    final_P = final_P[::-1]\n",
    "    return final_P\n",
    "\n",
    "\n",
    "# actual funcionality\n",
    "def functionality_3(G, h_1, h_n, h, N = None):\n",
    "    F_P = []\n",
    "    if N is None:\n",
    "        G_sub = G\n",
    "    else:\n",
    "        G_sub = nx.subgraph(G, list(edges_df['hero'].value_counts().head(N).index) +   \n",
    "                         list(edges_df[edges_df['hero'].isin(list(edges_df['hero'].value_counts().head(N).index))]['comic'].unique()))\n",
    "\n",
    "    if h_1 not in G_sub or h_n not in G_sub : return 'there is no such path'\n",
    "    for hero in h: \n",
    "        if hero not in G_sub : return 'there is no such path'\n",
    "    dij_1 = dijkstra(G_sub, h_1, h[0])\n",
    "    if dij_1 is None: return 'there is no such path'\n",
    "    else: F_P.append(dij_1[:-1])\n",
    "\n",
    "    for i in range(len(h)-1):\n",
    "        dij_i = dijkstra(G_sub, h[i], h[i+1])\n",
    "        if dij_i is None: return 'there is no such path'\n",
    "        else: F_P.append(dij_i[:-1])\n",
    "    \n",
    "    dij_n = dijkstra(G_sub, h[-1], h_n)\n",
    "    if dij_n is None: return 'there is no such path'\n",
    "    else: F_P.append(dij_n)\n",
    "    F_P = flatten(F_P)\n",
    "\n",
    "    F_comics_P = [x for x in F_P if x in G2_c]\n",
    "\n",
    "    print(F_comics_P)\n",
    "\n",
    "    G2_sub_plot = nx.subgraph(G2, F_P)\n",
    "    # Draw the graph\n",
    "    plt.figure(figsize=(11, 11))\n",
    "    pos = nx.spring_layout(G2_sub_plot)\n",
    "    nx.draw_networkx_nodes(G2_sub_plot, pos, node_size=600 ,node_color='lightblue')\n",
    "    nx.draw_networkx_edges(G2_sub_plot, pos, width=2, edge_color='lightgray')\n",
    "    nx.draw_networkx_labels(G2_sub_plot, pos, font_size=10, font_color='darkblue')\n",
    "\n",
    "    # Highlight the path by drawing it on top of the other edges from the F_P list\n",
    "    nx.draw_networkx_edges(G2_sub_plot, pos, edgelist=[(F_P[i], F_P[i+1]) for i in range(len(F_P)-1)], width=3, edge_color='black')\n",
    "\n",
    "    # Add labels to the edges in the path\n",
    "    edge_labels = {(F_P[i], F_P[i+1]): (i+1) for i in range(len(F_P)-1)}\n",
    "    nx.draw_networkx_edge_labels(G2_sub_plot, pos, edge_labels=edge_labels, font_size=8, font_color='black')\n",
    "    # Show the plot\n",
    "    plt.show()\n",
    "    return  F_P, F_comics_P\n"
   ]
  },
  {
   "cell_type": "markdown",
   "id": "074e6bcf",
   "metadata": {},
   "source": [
    "## Functionality 4 - Disconnecting Graphs\n",
    "#### Input:\n",
    "\n",
    "- The graph data\n",
    "- heroA: a superhero to which will relate sub-graph G_a\n",
    "- heroB: a superhero to which will relate sub-graph G_b\n",
    "- N: denoting the top N heroes that their data should be considered\n",
    "#### Output:\n",
    "\n",
    "- The minimum number of links (by considering their weights) required to disconnect the original graph in two disconnected subgraphs: G_a and G_b."
   ]
  },
  {
   "cell_type": "markdown",
   "id": "7e76ec80",
   "metadata": {},
   "source": [
    "A graph is disconnected if at least two vertices of the graph are not connected by a path. If a graph G is disconnected, then every maximal connected subgraph of G is called a connected component of the graph G.\n",
    "\n",
    "The functionality 4 after the application of Top N heroes subgraph creation, it checks if heroA and heroB are present in the dataframe of hero pairs, and if they are, it finds their indices in the graph. If either hero is not present in the graph, the function prints an error message and returns None.\n",
    "\n",
    "If both heroes are present in the graph, the function uses the minimum_edge_cut function from NetworkX to find the minimum set of edges that need to be cut in order to disconnect heroA and heroB in the graph. It then removes these edges from the graph and finds the connected components of the resulting graph. Finally, it creates a list of subgraphs for each connected component and returns this list, as well as the number of cut edges."
   ]
  },
  {
   "cell_type": "code",
   "execution_count": 19,
   "id": "efc78395",
   "metadata": {},
   "outputs": [],
   "source": [
    "def functionality_4(G, heroA, heroB, N):\n",
    "    # N is the top N heroes that should be considered (if not provided, consider all heroes)\n",
    "    # if N is not provided, consider all heroes in the graph\n",
    "    if N is None:\n",
    "        G_sub = G\n",
    "    else:\n",
    "        G_sub = nx.subgraph(G, list(edges_df['hero'].value_counts().head(N).index) +     # we are taking a subgraph with only nodes of the top N heroes\n",
    "                            list(edges_df[edges_df['hero'].isin(list(edges_df['hero'].value_counts().head(N).index))]['comic'].unique()))    # we are also considering the nodes of the comics where top N heroes appeared\n",
    "\n",
    "    # Check if heroA and heroB are in the dataframe\n",
    "    if df_hero['hero1'].isin([heroA]).any() or df_hero['hero2'].isin([heroB]).any():\n",
    "    # Find the indices of heroA and heroB in the graph\n",
    "        heroA_index = None\n",
    "        heroB_index = None\n",
    "        for index, node in enumerate(G_sub.nodes()):\n",
    "            if node == heroA:\n",
    "                heroA_index = index\n",
    "            if node == heroB:\n",
    "                heroB_index = index\n",
    "\n",
    "    # Check if heroA and heroB are present in the subgraph\n",
    "    if heroA_index is not None and heroB_index is not None:\n",
    "        G_sub_copy = G_sub.copy()\n",
    "        try:\n",
    "            #nx.minimum_edge_cut function returns the minimum set of edges that, if removed from the graph,taking in consideration edges' weights would make it disconnected.\n",
    "            cut_edges = nx.minimum_edge_cut(G_sub_copy, heroA, heroB)\n",
    "            cut_value = len(cut_edges)\n",
    "\n",
    "            # Remove the cut edges from the graph to obtain the two subgraphs\n",
    "            G_sub_copy.remove_edges_from(cut_edges)\n",
    "            # Find the connected components of the graph\n",
    "            components = nx.connected_components(G_sub_copy)\n",
    "\n",
    "            # Create a list of subgraphs for each connected component\n",
    "            subgraphs = [G_sub_copy.subgraph(component) for component in components]\n",
    "\n",
    "            # You can now access the subgraphs using indices\n",
    "            g_a = subgraphs[0]\n",
    "            g_b = subgraphs[1]\n",
    "\n",
    "        except NetworkXError: #catching the error if heroes are not in the graph\n",
    "            print(\"One of the heroes is not present in the graph\")\n",
    "\n",
    "    else:\n",
    "        print(\"Invalid heroes\")\n",
    "\n",
    "    return cut_value, g_a, g_b"
   ]
  },
  {
   "cell_type": "markdown",
   "id": "df11ccfe",
   "metadata": {},
   "source": [
    "## Functionality 5 - Extracting Communities\n",
    "\n",
    "#### Input:\n",
    "\n",
    "- The graph data\n",
    "- N: denoting the top N heroes that their data should be considered\n",
    "- Hero_1: denoting the name of one of the heroes\n",
    "- Hero_2: denoting the name of one of the heroes\n",
    "#### Output:\n",
    "\n",
    "- The minimum number of edges that should be removed to form communities\n",
    "- A list of communities, each containing a list of heroes that belong to them.\n",
    "- If the Hero_1 and Hero_2 belongs to the same community\n",
    "\n",
    "Important Notes:\n",
    "This functionality should only be run on the first graph."
   ]
  },
  {
   "cell_type": "markdown",
   "id": "17a97864",
   "metadata": {},
   "source": [
    "The main idea behind functionality 5  is to find the communities in the graph and then to find the minimum number of edges that should be removed to form communities.  It uses the Louvain algorithm from the community package to find the communities in the graph, and creates a list of these communities. It calculates the number of edges between communities by summing the number of edges on the boundary of each community. In the end, the function checks if hero_1 and hero_2 belong to the same community and prints a message accordingly. It returns the minimum number of edges that need to be cut to form communities, and the list of communities."
   ]
  },
  {
   "cell_type": "code",
   "execution_count": 82,
   "id": "da06009c",
   "metadata": {
    "scrolled": true
   },
   "outputs": [
    {
     "name": "stdout",
     "output_type": "stream",
     "text": [
      "Hero_1 and Hero_2 belong to the same community\n"
     ]
    },
    {
     "data": {
      "text/plain": [
       "(2452,\n",
       " defaultdict(list,\n",
       "             {6: ['NORRISS, SISTER BARB',\n",
       "               'MR. FANTASTIC/REED R',\n",
       "               'HUMAN TORCH/JOHNNY S',\n",
       "               'SUNSPOT/ROBERTO DACO',\n",
       "               'HAWK',\n",
       "               'HOGUN [ASGARDIAN]',\n",
       "               'KINGPIN/WILSON FISK',\n",
       "               'ANT-MAN/DR. HENRY J.',\n",
       "               'CAPTAIN BRITAIN/BRIA',\n",
       "               'THING/BENJAMIN J. GR'],\n",
       "              3: ['SPIDER-MAN/PETER PARKER',\n",
       "               'MARVEL GIRL/JEAN GRE',\n",
       "               'LOKI [ASGARDIAN]',\n",
       "               'DAREDEVIL/MATT MURDO',\n",
       "               'VOLSTAGG',\n",
       "               'WOLFSBANE/RAHNE SINC'],\n",
       "              2: ['LEEDS, BETTY BRANT',\n",
       "               'CAPTAIN AMERICA',\n",
       "               'BANNER, BETTY ROSS T',\n",
       "               'CAGE, LUKE/CARL LUCA',\n",
       "               'ROGUE /',\n",
       "               'NIGHTCRAWLER/KURT WA',\n",
       "               'BEAST/HENRY &HANK& P',\n",
       "               'FALCON/SAM WILSON',\n",
       "               'THOMPSON, EUGENE FLA'],\n",
       "              7: ['WONDER MAN/SIMON WIL',\n",
       "               'CRYSTAL [INHUMAN]',\n",
       "               'IRON MAN IV/JAMES R.',\n",
       "               'SIF',\n",
       "               'ODIN [ASGARDIAN]',\n",
       "               'DUGAN, TIMOTHY ALOYI',\n",
       "               'CANNONBALL II/SAM GU',\n",
       "               'NELSON, FRANKLIN FOG',\n",
       "               'RICHARDS, FRANKLIN B',\n",
       "               'JONES, RICHARD MILHO',\n",
       "               'PUNISHER II/FRANK CA',\n",
       "               'CYCLOPS/SCOTT SUMMER',\n",
       "               'JAMESON, J. JONAH',\n",
       "               'SUB-MARINER/NAMOR MA',\n",
       "               'SHE-HULK/JENNIFER WA',\n",
       "               'COLOSSUS II/PETER RA',\n",
       "               'SUMMERS, NATHAN CHRI',\n",
       "               'FANDRAL [ASGARDIAN]',\n",
       "               'SILVER SURFER/NORRIN'],\n",
       "              5: ['IRON FIST/DANIEL RAN',\n",
       "               'STORM/ORORO MUNROE S',\n",
       "               'THOR/DR. DONALD BLAK',\n",
       "               'CLEA'],\n",
       "              1: ['QUICKSILVER/PIETRO M',\n",
       "               'MASTERS, ALICIA REIS',\n",
       "               'PARKER, MAY',\n",
       "               'ANGEL/WARREN KENNETH',\n",
       "               'BALDER [ASGARDIAN]'],\n",
       "              8: ['WONG',\n",
       "               \"BLACK PANTHER/T'CHAL\",\n",
       "               'ROBERTSON, JOE',\n",
       "               'HERCULES [GREEK GOD]',\n",
       "               'PSYLOCKE/ELISABETH B'],\n",
       "              0: ['BANSHEE/SEAN CASSIDY'],\n",
       "              4: ['HULK/DR. ROBERT BRUC']}))"
      ]
     },
     "execution_count": 82,
     "metadata": {},
     "output_type": "execute_result"
    }
   ],
   "source": [
    "def functionality_5(G1, N, hero_1, hero_2):\n",
    "    if N is None:\n",
    "        G_sub = G1\n",
    "    else:\n",
    "        G_sub = nx.subgraph(G1, list(edges_df['hero'].value_counts().head(N).index) +     # we are taking a subgraph with only nodes of the top N heroes\n",
    "                            list(edges_df[edges_df['hero'].isin(list(edges_df['hero'].value_counts().head(N).index))]['comic'].unique()))    # we are also considering the nodes of the comics where top N heroes appeared\n",
    "\n",
    "    # Find the communities in the graph using the Louvain algorithm\n",
    "    partition = com.best_partition(G_sub, resolution=0.8)\n",
    "    # Create a list of communities, where each community is a list of nodes that belong to it\n",
    "    communities = defaultdict(list)\n",
    "    for node, community in partition.items():\n",
    "        communities[community].append(node)\n",
    "    comm = list(communities.values())\n",
    "\n",
    "    # Calculate the number of edges between communities\n",
    "    cut_size = sum(len(list(nx.edge_boundary(G_sub, c))) for c in comm)\n",
    "\n",
    "    # Find the community that hero_2 belongs to\n",
    "    hero_2_community = [c for c in comm if hero_2 in c][0]\n",
    "\n",
    "    # Check if hero_1 is in the same community as hero_2\n",
    "    if hero_1 in hero_2_community:\n",
    "        print(\"Hero_1 and Hero_2 belong to the same community\")\n",
    "    else:\n",
    "        print(\"Hero_1 and Hero_2 do not belong to the same community\")\n",
    "\n",
    "    # Return the minimum number of edges that should be removed to form communities (the number of edges between communities), and the list of communities\n",
    "    return cut_size, communities\n",
    "\n",
    "functionality_5(G1=G1, N=80, hero_1='THING/BENJAMIN J. GR', hero_2='HUMAN TORCH/JOHNNY S')"
   ]
  },
  {
   "cell_type": "markdown",
   "id": "6a8f2673",
   "metadata": {},
   "source": [
    "# 3. Frontend Implementation"
   ]
  },
  {
   "cell_type": "markdown",
   "id": "c56ba8e5",
   "metadata": {},
   "source": [
    "## Visualization 1 - Visualize some features of the network"
   ]
  },
  {
   "cell_type": "markdown",
   "id": "2af9735d",
   "metadata": {},
   "source": [
    "#### A table containing the following general information about the graph:\n",
    "\n",
    "- Number of nodes in the network\n",
    "- Density of the network\n",
    "- Average degree of the network\n",
    "- Whether the network is sparse or dense"
   ]
  },
  {
   "cell_type": "markdown",
   "id": "c92d2910",
   "metadata": {},
   "source": [
    "#### FIRST GRAPH"
   ]
  },
  {
   "cell_type": "code",
   "execution_count": 324,
   "id": "dfbc8acc",
   "metadata": {},
   "outputs": [],
   "source": [
    "my_dict1 = functionality_1(G1, 1, N=50)"
   ]
  },
  {
   "cell_type": "code",
   "execution_count": 326,
   "id": "96575b2d",
   "metadata": {},
   "outputs": [
    {
     "data": {
      "text/plain": [
       "dict_keys(['collaborations', 'number_of_nodes', 'density', 'degree_distribution', 'avg_degree', 'hubs', 'network_type'])"
      ]
     },
     "execution_count": 326,
     "metadata": {},
     "output_type": "execute_result"
    }
   ],
   "source": [
    "my_dict1.keys()"
   ]
  },
  {
   "cell_type": "code",
   "execution_count": 327,
   "id": "21955cd2",
   "metadata": {},
   "outputs": [],
   "source": [
    "# Create the DataFrame and set the index to the 'Number of nodes' column\n",
    "import pandas as pd\n",
    "\n",
    "# Define the dictionary containing the data about the graph\n",
    "dati = {\n",
    "    'Number of nodes': my_dict1['number_of_nodes'],\n",
    "    'Density': my_dict1['density'],\n",
    "    'Average degree': my_dict1['avg_degree'],\n",
    "    'Sparse/Dense': 'Sparse' if my_dict1['network_type'] == 'sparse' else 'Dense'\n",
    "}\n",
    "\n",
    "# Create the DataFrame and set the index to the 'Number of nodes' column\n",
    "\n",
    "df = pd.DataFrame(dati,index=[''])\n",
    "\n",
    "\n",
    "\n",
    "\n"
   ]
  },
  {
   "cell_type": "markdown",
   "id": "c8166097",
   "metadata": {},
   "source": [
    "### Table of the first graph\n"
   ]
  },
  {
   "cell_type": "code",
   "execution_count": 328,
   "id": "34337d30",
   "metadata": {},
   "outputs": [
    {
     "name": "stdout",
     "output_type": "stream",
     "text": [
      "  Number of nodes   Density  Average degree Sparse/Dense\n",
      "               35  0.971429       33.028571        Dense\n"
     ]
    }
   ],
   "source": [
    "print(df)"
   ]
  },
  {
   "cell_type": "markdown",
   "id": "e34d02fe",
   "metadata": {},
   "source": [
    "#### SECOND GRAPH"
   ]
  },
  {
   "cell_type": "code",
   "execution_count": 329,
   "id": "e06d80d5",
   "metadata": {},
   "outputs": [],
   "source": [
    "my_dict2 = functionality_1(G2, 2, N=50)"
   ]
  },
  {
   "cell_type": "code",
   "execution_count": 231,
   "id": "52ca1020",
   "metadata": {},
   "outputs": [
    {
     "data": {
      "text/plain": [
       "dict_keys(['hero_appearances', 'comic_appearances_total', 'Number of hero nodes', 'Number of comic nodes', 'density', 'degree_distribution', 'avg_degree', 'hubs', 'network_type'])"
      ]
     },
     "execution_count": 231,
     "metadata": {},
     "output_type": "execute_result"
    }
   ],
   "source": [
    "my_dict2.keys()"
   ]
  },
  {
   "cell_type": "code",
   "execution_count": 251,
   "id": "441fb4bf",
   "metadata": {},
   "outputs": [],
   "source": [
    "import pandas as pd\n",
    "\n",
    "# Define the dictionary containing the data about the graph\n",
    "dati = {\n",
    "    'Number of hero nodes': my_dict2['Number of hero nodes'],\n",
    "    'Number of comic nodes': my_dict2['Number of comic nodes'],\n",
    "    'Density': my_dict2['density'],\n",
    "    'Average degree': my_dict2['avg_degree'],\n",
    "    'Sparse/Dense': 'Sparse' if my_dict2['network_type'] == 'sparse' else 'Dense'\n",
    "}\n",
    "\n",
    "# Create the DataFrame and set the index to the 'Number of nodes' column\n",
    "\n",
    "df2 = pd.DataFrame(dati,index=[''])\n"
   ]
  },
  {
   "cell_type": "markdown",
   "id": "e4109535",
   "metadata": {},
   "source": [
    "### Table of the second graph"
   ]
  },
  {
   "cell_type": "code",
   "execution_count": 252,
   "id": "34480ae8",
   "metadata": {},
   "outputs": [
    {
     "name": "stdout",
     "output_type": "stream",
     "text": [
      "  Number of hero nodes  Number of comic nodes   Density  Average degree  \\\n",
      "                    49                   9236  0.000643        5.968986   \n",
      "\n",
      " Sparse/Dense  \n",
      "       Sparse  \n"
     ]
    }
   ],
   "source": [
    "print(df2)"
   ]
  },
  {
   "cell_type": "markdown",
   "id": "ceaa2eeb",
   "metadata": {},
   "source": [
    "### A table that lists the network's hubs"
   ]
  },
  {
   "cell_type": "code",
   "execution_count": 330,
   "id": "cfc36e29",
   "metadata": {},
   "outputs": [
    {
     "name": "stdout",
     "output_type": "stream",
     "text": [
      "                       Hubs\n",
      "0      SHE-HULK/JENNIFER WA\n",
      "1      COLOSSUS II/PETER RA\n",
      "2      THING/BENJAMIN J. GR\n",
      "3      CYCLOPS/SCOTT SUMMER\n",
      "4   SPIDER-MAN/PETER PARKER\n",
      "5      BEAST/HENRY &HANK& P\n",
      "6         JAMESON, J. JONAH\n",
      "7      HUMAN TORCH/JOHNNY S\n",
      "8      MARVEL GIRL/JEAN GRE\n",
      "9      THOR/DR. DONALD BLAK\n",
      "10     SUB-MARINER/NAMOR MA\n",
      "11     MR. FANTASTIC/REED R\n",
      "12          CAPTAIN AMERICA\n",
      "13     HULK/DR. ROBERT BRUC\n",
      "14     SILVER SURFER/NORRIN\n",
      "15     ANGEL/WARREN KENNETH\n",
      "16     WONDER MAN/SIMON WIL\n",
      "17     ANT-MAN/DR. HENRY J.\n",
      "18     STORM/ORORO MUNROE S\n"
     ]
    }
   ],
   "source": [
    "import pandas as pd\n",
    "\n",
    "# Define the data to include in the table\n",
    "data = {'Hubs': my_dict1['hubs']}\n",
    "\n",
    "# Create the DataFrame\n",
    "df = pd.DataFrame(data)\n",
    "\n",
    "# Print the resulting table\n",
    "print(df)\n"
   ]
  },
  {
   "cell_type": "code",
   "execution_count": 331,
   "id": "1aa058a0",
   "metadata": {},
   "outputs": [
    {
     "name": "stdout",
     "output_type": "stream",
     "text": [
      "                    Hubs\n",
      "0                  A 206\n",
      "1                  A 175\n",
      "2    ICEMAN/ROBERT BOBBY\n",
      "3                    X 3\n",
      "4    SHADOWCAT/KATHERINE\n",
      "..                   ...\n",
      "494               UX 376\n",
      "495                AWC 4\n",
      "496               UX 138\n",
      "497                  A 8\n",
      "498                 A 82\n",
      "\n",
      "[499 rows x 1 columns]\n"
     ]
    }
   ],
   "source": [
    "import pandas as pd\n",
    "\n",
    "# Define the data to include in the table\n",
    "data = {'Hubs': my_dict2['hubs']}\n",
    "\n",
    "# Create the DataFrame\n",
    "df2 = pd.DataFrame(data)\n",
    "\n",
    "# Print the resulting table\n",
    "print(df2)\n"
   ]
  },
  {
   "cell_type": "markdown",
   "id": "9bf8c8f7",
   "metadata": {},
   "source": [
    "### A plot depicting the number of collaborations of each hero in descending order (if the graph is type 1)"
   ]
  },
  {
   "cell_type": "code",
   "execution_count": 245,
   "id": "d7dc5c7d",
   "metadata": {},
   "outputs": [],
   "source": [
    "import matplotlib.pyplot as plt"
   ]
  },
  {
   "cell_type": "code",
   "execution_count": 332,
   "id": "937e4380",
   "metadata": {},
   "outputs": [],
   "source": [
    "collab = my_dict1['collaborations'] "
   ]
  },
  {
   "cell_type": "code",
   "execution_count": 333,
   "id": "c29c8c5f",
   "metadata": {},
   "outputs": [
    {
     "data": {
      "image/png": "[encoded data removed]",
      "text/plain": [
       "<Figure size 432x288 with 1 Axes>"
      ]
     },
     "metadata": {
      "needs_background": "light"
     },
     "output_type": "display_data"
    }
   ],
   "source": [
    "# Sort the dictionary in descending order by the collaboration count\n",
    "sorted_collaboration_counts = {k: v for k, v in sorted(collab.items(), key=lambda item: item[1], reverse=True)}\n",
    "\n",
    "# Get the hero names and collaboration counts from the sorted dictionary\n",
    "heroes = list(sorted_collaboration_counts.keys())\n",
    "counts = list(sorted_collaboration_counts.values())\n",
    "\n",
    "# Plot the collaboration counts of the heroes\n",
    "plt.bar(heroes, counts)\n",
    "plt.xlabel('Hero')\n",
    "plt.ylabel('Number of collaborations')\n",
    "plt.title('Number of collaborations of each hero')\n",
    "\n",
    "\n",
    "# Rotate the x-axis labels by 90 degrees\n",
    "plt.xticks(rotation=90, fontsize=8)\n",
    "\n",
    "# Show the plot\n",
    "plt.show()"
   ]
  },
  {
   "cell_type": "markdown",
   "id": "4ffd73fc",
   "metadata": {},
   "source": [
    "### A plot depicting the number of heroes who appeared in each comic, sorted in descending order (if the graph is type 2)"
   ]
  },
  {
   "cell_type": "code",
   "execution_count": 260,
   "id": "83877c6d",
   "metadata": {},
   "outputs": [],
   "source": [
    "appearances = my_dict2['comic_appearances_total'] "
   ]
  },
  {
   "cell_type": "code",
   "execution_count": 261,
   "id": "1e89ef34",
   "metadata": {},
   "outputs": [],
   "source": [
    "sorted_comic_appearances = {k: v for k, v in sorted(appearances.items(), key=lambda item: item[1], reverse=True)}"
   ]
  },
  {
   "cell_type": "code",
   "execution_count": 270,
   "id": "84b35348",
   "metadata": {},
   "outputs": [],
   "source": [
    "# Get the comic names and hero appearances from the sorted dictionary\n",
    "comics = list(sorted_comic_appearances.keys())[:30]\n",
    "counts = list(sorted_comic_appearances.values())[:30]"
   ]
  },
  {
   "cell_type": "code",
   "execution_count": 271,
   "id": "e3ccad8b",
   "metadata": {},
   "outputs": [
    {
     "data": {
      "image/png": "[encoded data removed]",
      "text/plain": [
       "<Figure size 432x288 with 1 Axes>"
      ]
     },
     "metadata": {
      "needs_background": "light"
     },
     "output_type": "display_data"
    }
   ],
   "source": [
    "plt.bar(comics, counts)\n",
    "plt.xlabel('Comic')\n",
    "plt.ylabel('Number of heroes')\n",
    "plt.title('Number of heroes who appeared in each comic')\n",
    "# Rotate the x-axis labels by 90 degrees\n",
    "plt.xticks(rotation=90, fontsize=8)\n",
    "\n",
    "# Show the plot\n",
    "plt.show()"
   ]
  },
  {
   "cell_type": "markdown",
   "id": "da82a2f4",
   "metadata": {},
   "source": [
    "### A plot depicting the degree distribution of the network"
   ]
  },
  {
   "cell_type": "code",
   "execution_count": 334,
   "id": "92677061",
   "metadata": {},
   "outputs": [],
   "source": [
    "degree_distribution1 = my_dict1['degree_distribution'] "
   ]
  },
  {
   "cell_type": "code",
   "execution_count": 335,
   "id": "1f1528fb",
   "metadata": {},
   "outputs": [
    {
     "data": {
      "image/png": "[encoded data removed]",
      "text/plain": [
       "<Figure size 432x288 with 1 Axes>"
      ]
     },
     "metadata": {
      "needs_background": "light"
     },
     "output_type": "display_data"
    }
   ],
   "source": [
    "# Plot the degree distribution of the graph\n",
    "plt.hist(degree_distribution1, bins=range(min(degree_distribution1), max(degree_distribution1)+1), edgecolor='white')\n",
    "plt.xlabel('Degree')\n",
    "plt.ylabel('Number of nodes')\n",
    "plt.title('Degree distribution of the network')\n",
    "\n",
    "# Show the plot\n",
    "plt.show()"
   ]
  },
  {
   "cell_type": "code",
   "execution_count": 287,
   "id": "26bee0ee",
   "metadata": {},
   "outputs": [
    {
     "data": {
      "image/png": "[encoded data removed]",
      "text/plain": [
       "<Figure size 432x288 with 1 Axes>"
      ]
     },
     "metadata": {
      "needs_background": "light"
     },
     "output_type": "display_data"
    }
   ],
   "source": [
    "degree_distribution2 = my_dict2['degree_distribution']\n",
    "# Plot the degree distribution of the graph\n",
    "plt.hist(degree_distribution2[:50], edgecolor='white')\n",
    "plt.xlabel('Degree')\n",
    "plt.ylabel('Number of nodes')\n",
    "plt.title('Degree distribution of the network')\n",
    "\n",
    "# Show the plot\n",
    "plt.show()"
   ]
  },
  {
   "cell_type": "markdown",
   "id": "69dda142",
   "metadata": {},
   "source": [
    "## Visualization 2 - Visualize centrality measure\n",
    "A table containing the information related to the requested centrality measure for:\n",
    "- The average of the requested centrality measure for all of the network's nodes\n",
    "- The requested centrality measure's value for the given node"
   ]
  },
  {
   "cell_type": "code",
   "execution_count": 111,
   "id": "10b46a51",
   "metadata": {},
   "outputs": [],
   "source": [
    "def visualize2(G, node, metric, N= None):\n",
    "    df, node_value = functionality_2(G, node, metric, N)\n",
    "    node_value = node_value.values[0][0]\n",
    "    average = df.mean()[0]\n",
    "    result = pd.DataFrame( data = [[average, node_value]], columns = [\"Average\", node])\n",
    "    result.index = [metric]\n",
    "    return result\n",
    "    "
   ]
  },
  {
   "cell_type": "code",
   "execution_count": 112,
   "id": "d7fae40a",
   "metadata": {},
   "outputs": [
    {
     "data": {
      "text/html": [
       "<div>\n",
       "<style scoped>\n",
       "    .dataframe tbody tr th:only-of-type {\n",
       "        vertical-align: middle;\n",
       "    }\n",
       "\n",
       "    .dataframe tbody tr th {\n",
       "        vertical-align: top;\n",
       "    }\n",
       "\n",
       "    .dataframe thead th {\n",
       "        text-align: right;\n",
       "    }\n",
       "</style>\n",
       "<table border=\"1\" class=\"dataframe\">\n",
       "  <thead>\n",
       "    <tr style=\"text-align: right;\">\n",
       "      <th></th>\n",
       "      <th>Average</th>\n",
       "      <th>CAPTAIN AMERICA</th>\n",
       "    </tr>\n",
       "  </thead>\n",
       "  <tbody>\n",
       "    <tr>\n",
       "      <th>degreecentrality</th>\n",
       "      <td>0.765823</td>\n",
       "      <td>1.0</td>\n",
       "    </tr>\n",
       "  </tbody>\n",
       "</table>\n",
       "</div>"
      ],
      "text/plain": [
       "                   Average  CAPTAIN AMERICA\n",
       "degreecentrality  0.765823              1.0"
      ]
     },
     "execution_count": 112,
     "metadata": {},
     "output_type": "execute_result"
    }
   ],
   "source": [
    "visualize2(G1, 'CAPTAIN AMERICA', \"degreecentrality\", 100)"
   ]
  },
  {
   "cell_type": "markdown",
   "id": "2bdfe59f",
   "metadata": {},
   "source": [
    "As requested here we can see the average of requested centrality measure for all of the network's nodes and the requested centrality measures's value for the given node. In this example we can notice that CAPTAIN AMERICA has a value of degree centrality greater than the average."
   ]
  },
  {
   "cell_type": "markdown",
   "id": "14a23147",
   "metadata": {},
   "source": [
    "**We can try the same query on the second graph:**"
   ]
  },
  {
   "cell_type": "code",
   "execution_count": 113,
   "id": "74541edd",
   "metadata": {},
   "outputs": [
    {
     "data": {
      "text/html": [
       "<div>\n",
       "<style scoped>\n",
       "    .dataframe tbody tr th:only-of-type {\n",
       "        vertical-align: middle;\n",
       "    }\n",
       "\n",
       "    .dataframe tbody tr th {\n",
       "        vertical-align: top;\n",
       "    }\n",
       "\n",
       "    .dataframe thead th {\n",
       "        text-align: right;\n",
       "    }\n",
       "</style>\n",
       "<table border=\"1\" class=\"dataframe\">\n",
       "  <thead>\n",
       "    <tr style=\"text-align: right;\">\n",
       "      <th></th>\n",
       "      <th>Average</th>\n",
       "      <th>CAPTAIN AMERICA</th>\n",
       "    </tr>\n",
       "  </thead>\n",
       "  <tbody>\n",
       "    <tr>\n",
       "      <th>degreecentrality</th>\n",
       "      <td>0.000681</td>\n",
       "      <td>0.126135</td>\n",
       "    </tr>\n",
       "  </tbody>\n",
       "</table>\n",
       "</div>"
      ],
      "text/plain": [
       "                   Average  CAPTAIN AMERICA\n",
       "degreecentrality  0.000681         0.126135"
      ]
     },
     "execution_count": 113,
     "metadata": {},
     "output_type": "execute_result"
    }
   ],
   "source": [
    "visualize2(G2, 'CAPTAIN AMERICA', \"degreecentrality\", 100)"
   ]
  },
  {
   "cell_type": "markdown",
   "id": "d9512d7b",
   "metadata": {},
   "source": [
    "In this example we can notice that CAPTAIN AMERICA has a value of degree centrality greater than the average, but lower than value computed on the first graph. We have to remember that the second graph also contains the comics as nodes which are a lots."
   ]
  },
  {
   "cell_type": "markdown",
   "id": "87826017",
   "metadata": {},
   "source": [
    "**Let's try some other examples:**"
   ]
  },
  {
   "cell_type": "code",
   "execution_count": 114,
   "id": "83026285",
   "metadata": {},
   "outputs": [
    {
     "data": {
      "text/html": [
       "<div>\n",
       "<style scoped>\n",
       "    .dataframe tbody tr th:only-of-type {\n",
       "        vertical-align: middle;\n",
       "    }\n",
       "\n",
       "    .dataframe tbody tr th {\n",
       "        vertical-align: top;\n",
       "    }\n",
       "\n",
       "    .dataframe thead th {\n",
       "        text-align: right;\n",
       "    }\n",
       "</style>\n",
       "<table border=\"1\" class=\"dataframe\">\n",
       "  <thead>\n",
       "    <tr style=\"text-align: right;\">\n",
       "      <th></th>\n",
       "      <th>Average</th>\n",
       "      <th>BLACK PANTHER/T'CHAL</th>\n",
       "    </tr>\n",
       "  </thead>\n",
       "  <tbody>\n",
       "    <tr>\n",
       "      <th>degreecentrality</th>\n",
       "      <td>0.765823</td>\n",
       "      <td>0.860759</td>\n",
       "    </tr>\n",
       "  </tbody>\n",
       "</table>\n",
       "</div>"
      ],
      "text/plain": [
       "                   Average  BLACK PANTHER/T'CHAL\n",
       "degreecentrality  0.765823              0.860759"
      ]
     },
     "execution_count": 114,
     "metadata": {},
     "output_type": "execute_result"
    }
   ],
   "source": [
    "visualize2(G1, \"BLACK PANTHER/T'CHAL\", \"degreecentrality\", 100)"
   ]
  },
  {
   "cell_type": "markdown",
   "id": "b6c95783",
   "metadata": {},
   "source": [
    "In the table above we can see the average degreecentrality using the information of top 100 heroes on the first graph. We can notice that Black Panther has a value of degree centrality greater than the average."
   ]
  },
  {
   "cell_type": "code",
   "execution_count": 115,
   "id": "bd24e0de",
   "metadata": {},
   "outputs": [
    {
     "data": {
      "text/html": [
       "<div>\n",
       "<style scoped>\n",
       "    .dataframe tbody tr th:only-of-type {\n",
       "        vertical-align: middle;\n",
       "    }\n",
       "\n",
       "    .dataframe tbody tr th {\n",
       "        vertical-align: top;\n",
       "    }\n",
       "\n",
       "    .dataframe thead th {\n",
       "        text-align: right;\n",
       "    }\n",
       "</style>\n",
       "<table border=\"1\" class=\"dataframe\">\n",
       "  <thead>\n",
       "    <tr style=\"text-align: right;\">\n",
       "      <th></th>\n",
       "      <th>Average</th>\n",
       "      <th>BLACK PANTHER/T'CHAL</th>\n",
       "    </tr>\n",
       "  </thead>\n",
       "  <tbody>\n",
       "    <tr>\n",
       "      <th>betweeness</th>\n",
       "      <td>0.027231</td>\n",
       "      <td>0.0</td>\n",
       "    </tr>\n",
       "  </tbody>\n",
       "</table>\n",
       "</div>"
      ],
      "text/plain": [
       "             Average  BLACK PANTHER/T'CHAL\n",
       "betweeness  0.027231                   0.0"
      ]
     },
     "execution_count": 115,
     "metadata": {},
     "output_type": "execute_result"
    }
   ],
   "source": [
    "visualize2(G1, \"BLACK PANTHER/T'CHAL\", \"betweeness\", 100)"
   ]
  },
  {
   "cell_type": "markdown",
   "id": "17fa6bed",
   "metadata": {},
   "source": [
    "Instead, here we can state that the betweeness centrality value of Black Panther is lower than average on all the graph conerning the top 100 heroes."
   ]
  },
  {
   "cell_type": "markdown",
   "id": "0b7e6b39",
   "metadata": {},
   "source": [
    "## Visualization 3 - Visualize the shortest-ordered route\n",
    "- Print the comics in the shortest walk in order\n",
    "- Plot the graph and identify the nodes and edges that appear in the shortest walk (please put an identifier on each edge in the shortest walk to determine the order that we should have the walk)"
   ]
  },
  {
   "cell_type": "code",
   "execution_count": 10,
   "id": "98ec8a3f",
   "metadata": {},
   "outputs": [
    {
     "name": "stdout",
     "output_type": "stream",
     "text": [
      "['MAXSEC:DP', 'UX 17', 'FF 72', 'FF3 4', 'FF3 4', 'ASM 1', 'DHKF 22/2', 'DHKF 16/3', 'FF3 37', 'CA 383', 'CA 383', 'A 10', 'UX 141', 'PHOENIX 1', 'A 101', 'IM3 4']\n"
     ]
    },
    {
     "data": {
      "image/png": "[encoded data removed]",
      "text/plain": [
       "<Figure size 1100x1100 with 1 Axes>"
      ]
     },
     "metadata": {},
     "output_type": "display_data"
    },
    {
     "data": {
      "text/plain": [
       "(['SINTARIIS',\n",
       "  'MAXSEC:DP',\n",
       "  'PROFESSOR X/CHARLES',\n",
       "  'UX 17',\n",
       "  'FREDERICKS, GENERAL',\n",
       "  'FF 72',\n",
       "  'HUMAN TORCH/JOHNNY S',\n",
       "  'FF3 4',\n",
       "  'REISZ, RAY',\n",
       "  'FF3 4',\n",
       "  'HUMAN TORCH/JOHNNY S',\n",
       "  'ASM 1',\n",
       "  'JAMESON, J. JONAH',\n",
       "  'DHKF 22/2',\n",
       "  'BYRD, NATHANIEL ALEX',\n",
       "  'DHKF 16/3',\n",
       "  'DIAMOND, BOB',\n",
       "  'FF3 37',\n",
       "  'HAWK',\n",
       "  'CA 383',\n",
       "  'JOHNNY APPLESEED/JON',\n",
       "  'CA 383',\n",
       "  'ANT-MAN/DR. HENRY J.',\n",
       "  'A 10',\n",
       "  'AVALANCHE/DOMINIC PE',\n",
       "  'UX 141',\n",
       "  'STORM 2013',\n",
       "  'PHOENIX 1',\n",
       "  'UATU',\n",
       "  'A 101',\n",
       "  'IRON MAN/TONY STARK',\n",
       "  'IM3 4',\n",
       "  'FUJIKAWA, KENJIRO'],\n",
       " ['MAXSEC:DP',\n",
       "  'UX 17',\n",
       "  'FF 72',\n",
       "  'FF3 4',\n",
       "  'FF3 4',\n",
       "  'ASM 1',\n",
       "  'DHKF 22/2',\n",
       "  'DHKF 16/3',\n",
       "  'FF3 37',\n",
       "  'CA 383',\n",
       "  'CA 383',\n",
       "  'A 10',\n",
       "  'UX 141',\n",
       "  'PHOENIX 1',\n",
       "  'A 101',\n",
       "  'IM3 4'])"
      ]
     },
     "execution_count": 10,
     "metadata": {},
     "output_type": "execute_result"
    }
   ],
   "source": [
    "functionality_3(G2, h_1, h_n, h)"
   ]
  },
  {
   "cell_type": "markdown",
   "id": "b75d3bb4",
   "metadata": {},
   "source": [
    "## Visualization 4 - Visualize the disconnected graph\n",
    "\n",
    "We anticipate seeing the Functionality 4 report in Visualization 4. To be more specific, we expect you to have the following report format:\n",
    "\n",
    "- Print the number of the links that should be disconnected\n",
    "- Plot the original graph\n",
    "- Plot the graph after removing the links and identify the two nodes"
   ]
  },
  {
   "cell_type": "code",
   "execution_count": 23,
   "id": "237946d9",
   "metadata": {},
   "outputs": [],
   "source": [
    "df_hero =  pd.read_csv('final-hero-network2.csv')"
   ]
  },
  {
   "cell_type": "code",
   "execution_count": 24,
   "id": "012c1728",
   "metadata": {},
   "outputs": [
    {
     "name": "stdout",
     "output_type": "stream",
     "text": [
      "Number of links to be disconnected: 8\n"
     ]
    }
   ],
   "source": [
    "# print the number of the links that should be disconnected\n",
    "\n",
    "cut_value, g_a, g_b = functionality_4(G=G1, heroA='THOR/DR. DONALD BLAK', heroB='CAPTAIN AMERICA', N=15)\n",
    "print(f'Number of links to be disconnected: {cut_value}')"
   ]
  },
  {
   "cell_type": "code",
   "execution_count": 25,
   "id": "366ba0d6",
   "metadata": {},
   "outputs": [
    {
     "data": {
      "image/png": "[encoded data removed]",
      "text/plain": [
       "<Figure size 504x576 with 1 Axes>"
      ]
     },
     "metadata": {},
     "output_type": "display_data"
    }
   ],
   "source": [
    "# plot the original graph\n",
    "N = 15\n",
    "if N is None:\n",
    "    G_sub = G1\n",
    "else:\n",
    "    G_sub = nx.subgraph(G1, list(edges_df['hero'].value_counts().head(N).index) +     # we are taking a subgraph with only nodes of the top N heroes\n",
    "                        list(edges_df[edges_df['hero'].isin(list(edges_df['hero'].value_counts().head(N).index))]['comic'].unique()))    # we are also considering the nodes of the comics where top N heroes appeared\n",
    "\n",
    "node_color_list = [nc for _, nc in G_sub.nodes(data=\"node_color\")]\n",
    "pos = nx.spring_layout(G_sub)\n",
    "plt.figure(figsize=(7, 8))\n",
    "nx.draw_networkx_edges(G_sub, pos, alpha=0.5, width=2, edge_color=\"k\")\n",
    "nx.draw_networkx_nodes(G_sub, pos, alpha=0.8, node_color='red', node_size=200)\n",
    "nx.draw_networkx_labels(G_sub, pos, font_size=7)\n",
    "plt.axis(\"off\")\n",
    "plt.title(\"The original graph.\")\n",
    "plt.show()"
   ]
  },
  {
   "cell_type": "markdown",
   "id": "c4e62700",
   "metadata": {},
   "source": [
    "From the original graph we can better visualize the results of the following graph after removing the links and identify better the two nodes. As we have seen from the print the number of the links that should be disconnected is equal to 8 and leaves the node of Captain America alone."
   ]
  },
  {
   "cell_type": "code",
   "execution_count": 26,
   "id": "c2ac7f6f",
   "metadata": {},
   "outputs": [
    {
     "name": "stdout",
     "output_type": "stream",
     "text": [
      "['SPIDER-MAN/PETER PARKER', 'MR. FANTASTIC/REED R', 'HUMAN TORCH/JOHNNY S', 'THOR/DR. DONALD BLAK', 'HULK/DR. ROBERT BRUC', 'DAREDEVIL/MATT MURDO', 'BEAST/HENRY &HANK& P', 'THING/BENJAMIN J. GR']\n",
      "['CAPTAIN AMERICA']\n"
     ]
    },
    {
     "data": {
      "image/png": "[encoded data removed]",
      "text/plain": [
       "<Figure size 288x432 with 1 Axes>"
      ]
     },
     "metadata": {},
     "output_type": "display_data"
    }
   ],
   "source": [
    "# plot the graph after removing the links and identify the two nodes\n",
    "# Find the minimum number of links required to disconnect the graph\n",
    "cut_value, g_a, g_b = functionality_4(G=G1, heroA='THOR/DR. DONALD BLAK', heroB='CAPTAIN AMERICA', N=15)\n",
    "\n",
    "# Get the nodes of the two subgraphs\n",
    "nodes_a = list(g_a.nodes())\n",
    "nodes_b = list(g_b.nodes())\n",
    "print(nodes_a)\n",
    "print(nodes_b)\n",
    "# Create a list of node colors\n",
    "node_color_list = ['b' if node in nodes_a else 'r' if node in nodes_b else 'k' for node in g_a.nodes()]\n",
    "pos = nx.spring_layout(g_a)\n",
    "plt.figure(figsize=(4, 6))\n",
    "nx.draw_networkx_edges(g_a, pos, alpha=0.5, width=2, edge_color=\"k\")\n",
    "nx.draw_networkx_nodes(g_a, pos, alpha=0.5, node_color=node_color_list, node_size=150)\n",
    "nx.draw_networkx_labels(g_a, pos, font_size=6)\n",
    "plt.axis(\"off\")\n",
    "plt.title(\"The graph after removing the links.\")\n",
    "plt.show()"
   ]
  },
  {
   "cell_type": "code",
   "execution_count": 27,
   "id": "7d0fa8db",
   "metadata": {},
   "outputs": [
    {
     "data": {
      "image/png": "[encoded data removed]",
      "text/plain": [
       "<Figure size 360x432 with 1 Axes>"
      ]
     },
     "metadata": {},
     "output_type": "display_data"
    }
   ],
   "source": [
    "# Create a list of node colors\n",
    "node_color_list = ['b' if node in nodes_a else 'r' if node in nodes_b else 'k' for node in g_b.nodes()]\n",
    "pos = nx.spring_layout(g_b)\n",
    "plt.figure(figsize=(5, 6))\n",
    "nx.draw_networkx_edges(g_b, pos, alpha=0.5, width=2, edge_color=\"k\")\n",
    "nx.draw_networkx_nodes(g_b, pos, alpha=0.5, node_color=node_color_list, node_size=150)\n",
    "nx.draw_networkx_labels(g_b, pos, font_size=6)\n",
    "plt.axis(\"off\")\n",
    "plt.title(\"The graph after removing the links.\")\n",
    "plt.show()"
   ]
  },
  {
   "cell_type": "markdown",
   "id": "490c8062",
   "metadata": {},
   "source": [
    "## Visualization 5 - Visualize the communities\n",
    "\n",
    "We anticipate seeing the Functionality 5 report in Visualization 5. To be more specific, we expect you to have the following report format:\n",
    "\n",
    "- Print the number of links that should be removed to have the communities\n",
    "- A table depicting the communities and the heroes that belong to each community\n",
    "- Plot the original graph\n",
    "- Plot the graph showing the communities in the network\n",
    "- Plot the final graph and identify the community/communities of Hero_1 and Hero_2\n",
    "\n",
    "Notes:\n",
    "\n",
    "- For the final output of your function, please set the Hero_1 to 'Captain America' and Hero_2 to 'Ironman' and show the results\n",
    "- If Hero_1 and Hero_2 belong to the same community, identify that community; otherwise, identify those two communities that these heroes belong to."
   ]
  },
  {
   "cell_type": "markdown",
   "id": "0293bb97",
   "metadata": {},
   "source": [
    " Print the number of links that should be removed to have the communities"
   ]
  },
  {
   "cell_type": "markdown",
   "id": "545c4691",
   "metadata": {},
   "source": [
    "2452 already resulted from cut_size of the function extract communities"
   ]
  },
  {
   "cell_type": "code",
   "execution_count": 84,
   "id": "b95bf64f",
   "metadata": {},
   "outputs": [
    {
     "name": "stdout",
     "output_type": "stream",
     "text": [
      "   Community                                             Heroes\n",
      "0          0  [NORRISS, SISTER BARB, WONDER MAN/SIMON WIL, N...\n",
      "1          1  [SPIDER-MAN/PETER PARKER, BANNER, BETTY ROSS T...\n",
      "2          2  [LEEDS, BETTY BRANT, CAPTAIN AMERICA, STORM/OR...\n",
      "3          3  [MR. FANTASTIC/REED R, HUMAN TORCH/JOHNNY S, C...\n",
      "4          4  [MARVEL GIRL/JEAN GRE, LOKI [ASGARDIAN], ROGUE...\n",
      "5          5        [KINGPIN/WILSON FISK, THING/BENJAMIN J. GR]\n",
      "6          6                             [HULK/DR. ROBERT BRUC]\n"
     ]
    }
   ],
   "source": [
    "# A table depicting the communities and the heroes that belong to each community\n",
    "N = 80\n",
    "if N is None:\n",
    "    G_sub = G1\n",
    "else:\n",
    "    G_sub = nx.subgraph(G1, list(edges_df['hero'].value_counts().head(N).index) +     # we are taking a subgraph with only nodes of the top N heroes\n",
    "                        list(edges_df[edges_df['hero'].isin(list(edges_df['hero'].value_counts().head(N).index))]['comic'].unique()))    # we are also considering the nodes of the comics where top N heroes appeared\n",
    "\n",
    "    # Find the communities in the graph using the Louvain algorithm\n",
    "partition = com.best_partition(G_sub, resolution=0.8)\n",
    "# Create a list of communities, where each community is a list of nodes that belong to it\n",
    "communities = defaultdict(list)\n",
    "for node, community in partition.items():\n",
    "    communities[community].append(node)\n",
    "comm = list(communities.values())\n",
    "# Create a dataframe with the communities and the heroes that belong to each community\n",
    "df = pd.DataFrame(columns=['Community', 'Heroes'])\n",
    "for i, c in enumerate(comm):\n",
    "    df.loc[i] = [i, c]\n",
    "\n",
    "# Display the table\n",
    "print(df)"
   ]
  },
  {
   "cell_type": "code",
   "execution_count": 85,
   "id": "a97f4cdd",
   "metadata": {},
   "outputs": [
    {
     "data": {
      "image/png": "[encoded data removed]",
      "text/plain": [
       "<Figure size 504x576 with 1 Axes>"
      ]
     },
     "metadata": {},
     "output_type": "display_data"
    }
   ],
   "source": [
    "# plot the original graph\n",
    "N = 80\n",
    "if N is None:\n",
    "    G_sub = G1\n",
    "else:\n",
    "    G_sub = nx.subgraph(G1, list(edges_df['hero'].value_counts().head(N).index) +     # we are taking a subgraph with only nodes of the top N heroes\n",
    "                        list(edges_df[edges_df['hero'].isin(list(edges_df['hero'].value_counts().head(N).index))]['comic'].unique()))    # we are also considering the nodes of the comics where top N heroes appeared\n",
    "\n",
    "node_color_list = [nc for _, nc in G_sub.nodes(data=\"node_color\")]\n",
    "pos = nx.spring_layout(G_sub)\n",
    "plt.figure(figsize=(7, 8))\n",
    "nx.draw_networkx_edges(G_sub, pos, alpha=0.5, width=0.2, edge_color=\"k\")\n",
    "nx.draw_networkx_nodes(G_sub, pos, alpha=0.8, node_color='red', node_size=200)\n",
    "nx.draw_networkx_labels(G_sub, pos, font_size=7)\n",
    "plt.axis(\"off\")\n",
    "plt.title(\"The original graph.\")\n",
    "plt.show()"
   ]
  },
  {
   "cell_type": "code",
   "execution_count": 86,
   "id": "48a68168",
   "metadata": {},
   "outputs": [
    {
     "data": {
      "image/png": "[encoded data removed]",
      "text/plain": [
       "<Figure size 504x576 with 1 Axes>"
      ]
     },
     "metadata": {},
     "output_type": "display_data"
    }
   ],
   "source": [
    "# Plot the graph showing the communities in the network from the dataframe df\n",
    "N = 80\n",
    "if N is None:\n",
    "    G_sub = G1\n",
    "else:\n",
    "    G_sub = nx.subgraph(G1, list(edges_df['hero'].value_counts().head(N).index) +     # we are taking a subgraph with only nodes of the top N heroes\n",
    "                        list(edges_df[edges_df['hero'].isin(list(edges_df['hero'].value_counts().head(N).index))]['comic'].unique()))    # we are also considering the nodes of the comics where top N heroes appeared\n",
    "\n",
    "# Find the communities in the graph using the Louvain algorithm\n",
    "partition = com.best_partition(G_sub, resolution=0.8)\n",
    "\n",
    "G = nx.Graph()\n",
    "for k, v in partition.items():\n",
    "    G.add_edge(k[0], k[1], weight=v)\n",
    "\n",
    "node_color_list = [nc for _, nc in G.nodes(data=\"node_color\")]\n",
    "pos = nx.spring_layout(G)\n",
    "plt.figure(figsize=(7, 8))\n",
    "handles___ = {k: f\"#{token_hex(4)}\" for k in partition.keys()}\n",
    "handles___ = dict(sorted(handles___.items()))\n",
    "handles_dict = {patches.Patch(color=k, label=v) for k, v in zip(handles___.values(), partition.values())}\n",
    "nx.draw_networkx_edges(G, pos, alpha=0.5, width=2, edge_color=\"k\")\n",
    "nx.draw_networkx_nodes(G, pos, alpha=0.8, node_color='purple', node_size=200)\n",
    "nx.draw_networkx_labels(G, pos, font_size=7)\n",
    "plt.axis(\"off\")\n",
    "plt.title(\"Communities graph.\")\n",
    "plt.show()"
   ]
  },
  {
   "cell_type": "code",
   "execution_count": 87,
   "id": "5f77002a",
   "metadata": {},
   "outputs": [
    {
     "name": "stdout",
     "output_type": "stream",
     "text": [
      "Hero_1 and Hero_2 do not belong to the same community\n"
     ]
    }
   ],
   "source": [
    "# Plot the final graph and identify the community/communities of Hero_1 and Hero_2 set the Hero_1 to 'Captain America' and Hero_2 to 'Ironman' and show the results. If Hero_1 and Hero_2 belong to the same community, identify that community; otherwise, identify those two communities that these heroes belong to.\n",
    "hero_1='CAPTAIN AMERICA'\n",
    "hero_2='IRON MAN IV/JAMES R.'\n",
    "cut_size, communities = functionality_5(G1, 80, hero_1, hero_2)"
   ]
  },
  {
   "cell_type": "code",
   "execution_count": 89,
   "id": "09dbd35c",
   "metadata": {},
   "outputs": [
    {
     "name": "stdout",
     "output_type": "stream",
     "text": [
      "CAPTAIN AMERICA is in community 5\n",
      "IRON MAN IV/JAMES R. is in community 0\n"
     ]
    }
   ],
   "source": [
    "def find_community(hero, communities):\n",
    "    for community, nodes in communities.items():\n",
    "        if hero in nodes:\n",
    "            return community\n",
    "    return -1\n",
    "\n",
    "hero_1_community = find_community(hero_1, communities)\n",
    "hero_2_community = find_community(hero_2, communities)\n",
    "print(f\"{hero_1} is in community {hero_1_community}\")\n",
    "print(f\"{hero_2} is in community {hero_2_community}\")"
   ]
  },
  {
   "cell_type": "code",
   "execution_count": 96,
   "id": "567fb3fb",
   "metadata": {
    "scrolled": true
   },
   "outputs": [
    {
     "data": {
      "text/plain": [
       "Text(0.5, 1.0, 'Final graph.')"
      ]
     },
     "execution_count": 96,
     "metadata": {},
     "output_type": "execute_result"
    },
    {
     "data": {
      "image/png": "[encoded data removed]",
      "text/plain": [
       "<Figure size 504x576 with 1 Axes>"
      ]
     },
     "metadata": {},
     "output_type": "display_data"
    }
   ],
   "source": [
    "communities = defaultdict(list)\n",
    "for node, community in partition.items():\n",
    "    communities[community].append(node)\n",
    "node_labels = {node: community for node, community in partition.items()}\n",
    "\n",
    "colors = {0: 'purple', 1: 'pink', 2: 'g', 3: 'orchid', 4: 'c', 5:'b', 6:'r', 7:'orange'}\n",
    "legend_dict = {}\n",
    "for community, nodes in communities.items():\n",
    "    legend_dict[community] = colors[community]\n",
    "node_colors = [colors[node_labels[node]] for node in G_sub.nodes()]\n",
    "pos = nx.spring_layout(G_sub)\n",
    "plt.figure(figsize=(7, 8))\n",
    "nx.draw_networkx_nodes(G_sub, pos, alpha=0.8, node_color=node_colors, node_size=200)\n",
    "nx.draw_networkx_edges(G_sub, pos, alpha=0.5, width=0.2, edge_color=\"k\")\n",
    "nx.draw_networkx_labels(G_sub, pos, font_size=7, labels={node: node[0] for node in G_sub.nodes()})\n",
    "# Create a legend for the node colors\n",
    "legend_elements = [Patch(facecolor=color, label= label) for label, color in sorted(legend_dict.items())]\n",
    "plt.legend(handles=legend_elements, bbox_to_anchor=(1,1))\n",
    "plt.axis(\"off\")\n",
    "plt.title(\"Final graph.\")"
   ]
  },
  {
   "cell_type": "markdown",
   "id": "19bbb3d3",
   "metadata": {},
   "source": [
    "At the end, from this graph, we can deduct that CAPTAIN AMERICA is found in the community 5 (blue) and IRON MAN IV/JAMES R. is in community 0 (purple)"
   ]
  },
  {
   "cell_type": "markdown",
   "id": "7cdad640",
   "metadata": {},
   "source": [
    "# Bonus - PageRank on MapReduce\n",
    "PageRank and MapReduce go well together, and this synergy was essential for Google's growth and the MapReduce paradigm's proliferation. Therefore, for the bonus section of this homework, we ask that you implement the PageRank algorithm using the MapReduce paradigm"
   ]
  },
  {
   "cell_type": "markdown",
   "id": "d968713e",
   "metadata": {},
   "source": [
    "We implement this function with pyspark "
   ]
  },
  {
   "cell_type": "code",
   "execution_count": null,
   "id": "cba84b55",
   "metadata": {},
   "outputs": [],
   "source": [
    "!pip install pyspark\n",
    "import pyspark\n",
    "from pyspark.sql import SparkSession\n",
    "from pyspark import SparkContext"
   ]
  },
  {
   "cell_type": "markdown",
   "id": "883c482c",
   "metadata": {},
   "source": [
    "Parameters:\n",
    "- G: a NetworkX graph object\n",
    "- n_iterations: the number of iterations to run the algorithm (default: 10)\n",
    "- damping_factor: the damping factor to use in the algorithm (default: 0.85)\n",
    "    \n",
    "Returns:\n",
    "- ranks: a dictionary of the PageRank values for each node in the graph\n"
   ]
  },
  {
   "cell_type": "markdown",
   "id": "0eeea10a",
   "metadata": {},
   "source": [
    "The damping factor is a parameter used in the PageRank algorithm to represent the probability that a user will continue to follow the links on a page, rather than randomly jumping to any page on the internet. It is usually set to a value between 0 and 1, with a value closer to 1 indicating that users are more likely to continue following the links on a page, and a value closer to 0 indicating that users are more likely to randomly jump to other pages. Itis used to prevent the PageRank values from becoming too large or too small, as well as to prevent the algorithm from getting stuck in an infinite loop. It allows the PageRank values to converge to a stable value over time, rather than oscillating between large and small values.\n",
    "\n",
    "It's typically set to a value of 0.85, which has been found to work well in practice. "
   ]
  },
  {
   "cell_type": "code",
   "execution_count": null,
   "id": "b4a1024f",
   "metadata": {},
   "outputs": [],
   "source": [
    "def pagerank(G, n_iterations=10, damping_factor=0.85):\n",
    "\n",
    "    # Create a SparkContext object\n",
    "    sc = SparkContext.getOrCreate()\n",
    "    \n",
    "    # Convert the graph to an RDD of edges\n",
    "    edges = sc.parallelize(G.edges())\n",
    "    \n",
    "    # Initialize the PageRank values for each node to 1.0\n",
    "    ranks = sc.parallelize(G.nodes()).map(lambda x: (x, 1.0))\n",
    "    \n",
    "    # Iterate over the RDD and update the PageRank values\n",
    "    for i in range(n_iterations):\n",
    "        # Compute the contributions of each node to the PageRank of its neighbors\n",
    "        contributions = edges.join(ranks).flatMap(\n",
    "            lambda x: [(x[1][0], x[1][1] / len(x[1][0])), (x[0], 0)]\n",
    "        )\n",
    "        \n",
    "        # Compute the new PageRank values\n",
    "        ranks = contributions.reduceByKey(lambda x, y: x + y).map(\n",
    "            lambda x: (x[0], (1 - damping_factor) + damping_factor * x[1])\n",
    "        )\n",
    "    \n",
    "    # Convert the RDD to a list and return it\n",
    "    ranks = ranks.collect()\n",
    "    return ranks\n"
   ]
  },
  {
   "cell_type": "code",
   "execution_count": null,
   "id": "9a89e2f8",
   "metadata": {},
   "outputs": [],
   "source": [
    "ranks2 = pagerank2(G2, n_iterations=10, damping_factor=0.85)\n"
   ]
  },
  {
   "cell_type": "code",
   "execution_count": 156,
   "id": "5790d668",
   "metadata": {},
   "outputs": [
    {
     "data": {
      "text/plain": [
       "[('H2 252', 0.17125),\n",
       " ('SLOAN, FRED', 1.1274623747750443),\n",
       " ('ARCANNA/ARCANNA JONE', 0.3026084269987689),\n",
       " ('Q 16', 0.181875),\n",
       " ('SWII 7', 0.17125),\n",
       " ('ETERNITY/ADAM QADMON', 0.7914741783322882),\n",
       " ('PHOENIX III/RACHEL S', 1.8716183551782977),\n",
       " ('ABOMINATION | MUTANT', 0.15000000000000002),\n",
       " ('XFOR 53', 0.16821428571428573),\n",
       " ('ASM 283', 0.16909805803571432),\n",
       " ('DAREDEVIL/MATT MURDO', 5.960875070271507),\n",
       " ('DD 1', 0.18342160156250004),\n",
       " ('BULLDOZER/HENRY CAMP', 0.40399151382797155),\n",
       " ('M/SHSW 2', 0.16671080078125003),\n",
       " ('MR. FANTASTIC/REED R', 27.528032714187233),\n",
       " ('ULTRON', 4.5551354658751215),\n",
       " ('T2 14', 0.17673728125000002),\n",
       " ('FANDRAL [ASGARDIAN]', 2.16527524663037),\n",
       " ('ULIK', 5.313439048551903),\n",
       " ('T 8', 0.19250000000000003),\n",
       " ('ROM 63', 0.17125),\n",
       " ('ROM, SPACEKNIGHT', 1.2385678021704334),\n",
       " ('BP3 27', 0.17682089861717998),\n",
       " (\"T'CHAKA\", 0.264751643689254),\n",
       " ('T2 10', 0.17550000000000002),\n",
       " ('ADVA', 0.15000000000000002),\n",
       " ('UX 187', 0.17125),\n",
       " ('DRSTR3 49', 0.16416666666666668),\n",
       " ('DRSTR2 10', 0.16416666666666668),\n",
       " ('DRSTR2 12', 0.16416666666666668),\n",
       " ('DRSTR2 57', 0.16416666666666668),\n",
       " ('INV 28', 0.17125),\n",
       " ('AGINAR', 0.15000000000000002),\n",
       " ('INH2 1', 0.17125),\n",
       " ('LOCKJAW [INHUMAN]', 1.7225708293652513),\n",
       " ('MARISTA', 0.17079464285714288),\n",
       " ('MAXIMUS [INHUMAN]', 0.739409088873615),\n",
       " ('UX 199', 0.17125),\n",
       " ('E2 2', 0.181875),\n",
       " ('AIREO/AEOLUS [INHUMA', 0.15000000000000002),\n",
       " ('SS3 107', 0.16821428571428573),\n",
       " ('E 2', 0.19883993750000004),\n",
       " ('AJAX', 0.5527313404224539),\n",
       " ('XCAL 58', 0.16821428571428573),\n",
       " ('XF 40', 0.17550000000000002),\n",
       " ('N 57', 0.20740289062500003),\n",
       " ('FF 15', 0.17550000000000002),\n",
       " ('INVISIBLE WOMAN/SUE', 24.5198208365206),\n",
       " ('HMAG 17/2', 0.16505384096702025),\n",
       " ('MK3 15', 0.17258076145053036),\n",
       " ('MK3 32', 0.17258076145053036),\n",
       " ('MK 6', 0.18387114217579553),\n",
       " ('IM 238', 0.17125),\n",
       " ('FFOR 8', 0.17125),\n",
       " ('AWC 4/5', 0.16821428571428573),\n",
       " ('CA 309', 0.17125),\n",
       " ('DEATH ADDER', 0.3312660287635216),\n",
       " ('CA 390', 0.17125),\n",
       " ('DIAMONDBACK II/RACHE', 1.6117838617684703),\n",
       " ('KNOCKOUT', 0.24431530156668751),\n",
       " ('T 156', 0.18195508593750004),\n",
       " ('UX 137', 0.17662923828125002),\n",
       " ('ST 137/2', 0.1768303457284903),\n",
       " ('ANDERSON, CHET', 0.15000000000000002),\n",
       " ('FF 22', 0.1811461693523849),\n",
       " ('WONDER MAN/SIMON WIL', 8.003014936934395),\n",
       " ('XF 4', 0.18893271169048112),\n",
       " ('ANELLE', 0.15000000000000002),\n",
       " ('IF 1', 0.1849465816069336),\n",
       " ('SCARFE, RAFAEL', 0.951875392254412),\n",
       " ('A 214', 0.2399586996908279),\n",
       " ('ASTONX2 1', 0.1999770553837933),\n",
       " ('CX 1', 0.2624483746135349),\n",
       " ('DEF 139', 0.2142562140648771),\n",
       " ('GAM3 19', 0.2142562140648771),\n",
       " ('UX 140', 0.22496558307568992),\n",
       " ('UX 144', 0.22496558307568992),\n",
       " ('UX 18', 0.2399586996908279),\n",
       " ('UX 19', 0.2399586996908279),\n",
       " ('ZELDA', 0.7530190390899529),\n",
       " ('UX 285', 0.22496558307568992),\n",
       " ('UX 29', 0.2399586996908279),\n",
       " ('UX 318', 0.22496558307568992),\n",
       " ('UX 333', 0.22496558307568992),\n",
       " ('UX 348', 0.22496558307568992),\n",
       " ('UX 394', 0.22496558307568992),\n",
       " ('WARP SAVANT', 0.1673837042058577),\n",
       " ('UX 55/2', 0.2142562140648771),\n",
       " ('XF 52', 0.2399586996908279),\n",
       " ('XF 6', 0.2624483746135349),\n",
       " ('XF 69', 0.2399586996908279),\n",
       " ('WM2 11', 0.17125),\n",
       " ('FLORES, JAMIE', 0.3713564450064165),\n",
       " ('Q 33', 0.181875),\n",
       " ('FF 108', 0.1736834201388889),\n",
       " ('WLOCK2 4', 0.1677625651041667),\n",
       " ('XCAL 50', 0.16821428571428573),\n",
       " (\"GAM '00/2\", 0.16416666666666668),\n",
       " ('LEBEAU, JEAN-LUC', 0.22587076004365916),\n",
       " ('A 140', 0.2584194769138942)]"
      ]
     },
     "execution_count": 156,
     "metadata": {},
     "output_type": "execute_result"
    }
   ],
   "source": [
    "ranks2[:100]"
   ]
  },
  {
   "cell_type": "markdown",
   "id": "aace8df4",
   "metadata": {},
   "source": [
    "**From the file we know that M is sparse, so we apply pagerank on G2, because it's sparse.**"
   ]
  },
  {
   "cell_type": "markdown",
   "id": "df6ac67f",
   "metadata": {},
   "source": [
    "# 6. Algorithmic Question\n",
    "Alex and Sarah have been together for two years, and Alex is now thinking about proposing to her. But, to surprise her, he wants to install an app on her phone that asks her if she will marry him at the right time.\n",
    "\n",
    "However, to install the application secretly, he needs her phone's password, which he does not have. He knows her password is a poly-line made up of vertical or horizontal line segments. In a 3*3 grid, each line segment connects the centres of two cells. Alex learned the direction of each line segment by looking at her hand while unlocking her phone. He didn't pay much attention to the length of each line segment, but he is sure that her phone's operating system does not allow the poly-line to intersect with itself even at one point.\n",
    "\n",
    "Alex wants to distract Sarah's attention long enough to test all possible patterns based on the directions of the line segments he has learned. Therefore, he needs you to assist him in calculating how many possible patterns he has to try based on those directions to estimate how much time he needs to check all of those possibilities. Given that the line segments were directed right, down, left, and up, the following figure depicts two valid and one invalid (as the poly-lines should not intersect even in one point) patterns.\n"
   ]
  },
  {
   "cell_type": "markdown",
   "id": "2167d9d2",
   "metadata": {},
   "source": [
    "**Input:**\n",
    "\n",
    "- The input is a single string that shows the direction of the segment lines and contains only the characters R, L, U, and D, which correspond to the Right, Left, Up, and Down directions. The string's maximum length is 10. It is also guaranteed that two consecutive characters will be different.\n",
    "\n",
    "**Ouput:**\n",
    "\n",
    "- We expect to see only 1 number in the output, corresponding to the number of different patterns that can be generated based on the line segments Alex learned. In some cases, this number may be 0, indicating that no patterns can be generated using the learned line segments."
   ]
  },
  {
   "cell_type": "code",
   "execution_count": 130,
   "id": "32b600db",
   "metadata": {},
   "outputs": [],
   "source": [
    "class Unlock:\n",
    "    \n",
    "    def __init__(self):\n",
    "        \"\"\"\n",
    "            Method to initialize the object of class Unlock, which has an attribute start\n",
    "            containing all the possible starting positions for each move. This attribute \n",
    "            is a dictionary where the keys are the valid moves and the values are list of \n",
    "            tuples formed by 2 numbers that indicates the row and column of the specific \n",
    "            element in the 3*3 grid representing the phone locker\n",
    "        \"\"\"\n",
    "        \n",
    "        self.start  = { \"R\": [(0 , 0) , (0 , 1) , (1 , 0) , (1 , 1) , (2 , 0) , (2 , 1)] , # starting positions for right move\n",
    "                    \"L\": [(0 , 1) , (0 , 2) , (1 , 1) , (1 , 2) , (2 , 1) , (2 , 2)] ,     # starting positions for left move\n",
    "                    \"U\": [(1 , 0) , (1 , 1) , (1 , 2) , (2 , 0) , (2 , 1) , (2 , 2)] ,     # starting positions for up move\n",
    "                    \"D\": [(0 , 0) , (0 , 1) , (0 , 2) , (1 , 0) , (1 , 1) , (1 , 2)]}      # starting positions for down move\n",
    "    \n",
    "    def solve(self, string):\n",
    "        \"\"\"\n",
    "          Principal method of the class. It recalls the other methods to build paths\n",
    "          and check the admissibility of the patterns.\n",
    "        \n",
    "        - input: a single string that shows the direction of the segment lines\n",
    "        - output: number corrisponding to the number odf different patterns that \n",
    "                  can be generated based on the line segments Alex learned\n",
    "        \"\"\"\n",
    "        different_paths = [string[0], string[0]*2] # we initialize the list of all paths with the first two combinations of the first character\n",
    "        \n",
    "        for character in string[1:]:          # looping over the other characters of the string\n",
    "             different_paths = self.build_paths(different_paths , character) # overwrite the list of differents paths with the updated one  \n",
    "        \n",
    "        n_ways = 0                            # initialize the counter the save the number of possible ways to unlock the phone with the given string\n",
    "        for start in self.start[string[0]]:   # looping over all the possible start positions using the attribute start\n",
    "            for path in different_paths:      # looping over all the  different paths  \n",
    "                if self.isAdmissible(start , path) == True:  # checking if the are respected the conditions to consider a pattern valid \n",
    "                    n_ways += 1               # add one to the number of possible ways\n",
    "        return n_ways                         # return the number of patterns to unlock the phone\n",
    "        \n",
    "        \n",
    "    def check_input(self,string):\n",
    "        \"\"\"\n",
    "           Method to verify the correctness of the input. The conditions to respect are:\n",
    "           - string's maximum length is 10\n",
    "           - the only correct moves are in (R,L,U,D)\n",
    "           - two equal consecutive characters are not allowed\n",
    "           \n",
    "           - input: a single string that shows the direction of the segment lines\n",
    "           - output: raise an exception or just a string with a positive message\n",
    "        \"\"\"\n",
    "        \n",
    "        if len(string) > 10:\n",
    "            return (\"Insert a string with maximum length equal to 10\")\n",
    "            \n",
    "        for char in string:\n",
    "            if char not in self.start:\n",
    "                return (\"Insert a valid string. This string contains a move not contained in (R,L,U,D)\")\n",
    "            \n",
    "        for pos in range(1, len(string)):\n",
    "            if string[pos] == string[pos-1]:\n",
    "                return (\"Insert a valid string. This string contains 2 equal consecutive characters\")\n",
    "                \n",
    "        return \"The input string is valid, you can use the method 'solve' to calculate the number of patterns\"                   \n",
    "         \n",
    "        \n",
    "        \n",
    "    def build_paths(self, different_paths, character):\n",
    "        new_different_paths = list()       # Pre-set the path\n",
    "        for tmp in different_paths:  # Loop over all the sub_path\n",
    "            for times in range(1,3):  # We can at most twice\n",
    "                new_different_paths.append( tmp + character*times)   # Append the sub_path\n",
    "        return new_different_paths   \n",
    "\n",
    "        \n",
    "    def isAdmissible(self, pos, path_moves):\n",
    "        \"\"\"\n",
    "           Method the\n",
    "        \"\"\"\n",
    "        pattern = [pos]\n",
    "        for move in path_moves:            # looping over the path moves\n",
    "            if move == \"R\":                 # move right\n",
    "                pos = (pos[0] , pos[1] + 1) # change the position\n",
    "            elif move == \"L\":               # move left\n",
    "                pos = (pos[0] , pos[1] - 1) # change the position\n",
    "            elif move == \"D\":               # move down \n",
    "                pos = (pos[0] + 1, pos[1])  # change the position\n",
    "            elif move == \"U\":               # move up \n",
    "                pos = (pos[0] - 1, pos[1]) # change the position\n",
    "            # Condition to be inside the matrix\n",
    "            if pos in pattern or pos[0] < 0 or pos[0] > 2 or pos[1] < 0 or pos[1] > 2: \n",
    "           # checking not intersection               # checking not out of matrix\n",
    "                return False   \n",
    "            else:\n",
    "                pattern.append(pos)\n",
    "        return True\n",
    "    \n",
    "    \n",
    "    "
   ]
  },
  {
   "cell_type": "code",
   "execution_count": 131,
   "id": "5e8933c3",
   "metadata": {},
   "outputs": [],
   "source": [
    "solver = Unlock()"
   ]
  },
  {
   "cell_type": "markdown",
   "id": "eb883e05",
   "metadata": {},
   "source": [
    "### First trial"
   ]
  },
  {
   "cell_type": "code",
   "execution_count": 132,
   "id": "daab67a6",
   "metadata": {},
   "outputs": [
    {
     "data": {
      "text/plain": [
       "\"The input string is valid, you can use the method 'solve' to calculate the number of patterns\""
      ]
     },
     "execution_count": 132,
     "metadata": {},
     "output_type": "execute_result"
    }
   ],
   "source": [
    "solver.check_input(\"DRU\")"
   ]
  },
  {
   "cell_type": "code",
   "execution_count": 133,
   "id": "aa4d1629",
   "metadata": {},
   "outputs": [
    {
     "data": {
      "text/plain": [
       "15"
      ]
     },
     "execution_count": 133,
     "metadata": {},
     "output_type": "execute_result"
    }
   ],
   "source": [
    "solver.solve(\"DRU\")"
   ]
  },
  {
   "cell_type": "markdown",
   "id": "99a56a99",
   "metadata": {},
   "source": [
    "### Second trial"
   ]
  },
  {
   "cell_type": "code",
   "execution_count": 121,
   "id": "8c05d5f9",
   "metadata": {},
   "outputs": [
    {
     "data": {
      "text/plain": [
       "\"The input string is valid, you can use the method 'solve' to calculate the number of patterns\""
      ]
     },
     "execution_count": 121,
     "metadata": {},
     "output_type": "execute_result"
    }
   ],
   "source": [
    "solver.check_input(\"R\")"
   ]
  },
  {
   "cell_type": "code",
   "execution_count": 122,
   "id": "b796897f",
   "metadata": {},
   "outputs": [
    {
     "data": {
      "text/plain": [
       "9"
      ]
     },
     "execution_count": 122,
     "metadata": {},
     "output_type": "execute_result"
    }
   ],
   "source": [
    "solver.solve(\"R\")"
   ]
  },
  {
   "cell_type": "markdown",
   "id": "4c55d7b7",
   "metadata": {},
   "source": [
    "### Third trial"
   ]
  },
  {
   "cell_type": "code",
   "execution_count": 123,
   "id": "2df7f6b8",
   "metadata": {},
   "outputs": [
    {
     "data": {
      "text/plain": [
       "\"The input string is valid, you can use the method 'solve' to calculate the number of patterns\""
      ]
     },
     "execution_count": 123,
     "metadata": {},
     "output_type": "execute_result"
    }
   ],
   "source": [
    "solver.check_input(\"LDRDRUL\")"
   ]
  },
  {
   "cell_type": "code",
   "execution_count": 124,
   "id": "c3c13153",
   "metadata": {},
   "outputs": [
    {
     "data": {
      "text/plain": [
       "0"
      ]
     },
     "execution_count": 124,
     "metadata": {},
     "output_type": "execute_result"
    }
   ],
   "source": [
    "solver.solve(\"LDRDRUL\")"
   ]
  },
  {
   "cell_type": "markdown",
   "id": "41446564",
   "metadata": {},
   "source": [
    "### Check if the string is not valid"
   ]
  },
  {
   "cell_type": "code",
   "execution_count": 134,
   "id": "a3799c85",
   "metadata": {},
   "outputs": [
    {
     "data": {
      "text/plain": [
       "'Insert a string with maximum length equal to 10'"
      ]
     },
     "execution_count": 134,
     "metadata": {},
     "output_type": "execute_result"
    }
   ],
   "source": [
    "solver.check_input(\"LDRD6TDYRUL\")"
   ]
  }
 ],
 "metadata": {
  "kernelspec": {
   "display_name": "Python 3 (ipykernel)",
   "language": "python",
   "name": "python3"
  },
  "language_info": {
   "codemirror_mode": {
    "name": "ipython",
    "version": 3
   },
   "file_extension": ".py",
   "mimetype": "text/x-python",
   "name": "python",
   "nbconvert_exporter": "python",
   "pygments_lexer": "ipython3",
   "version": "3.9.12"
  },
  "vscode": {
   "interpreter": {
    "hash": "0bd8366dd61484efe1154bbb10985feda2c8968ffd0237d4875eaa94b84ddc32"
   }
  }
 },
 "nbformat": 4,
 "nbformat_minor": 5
}
