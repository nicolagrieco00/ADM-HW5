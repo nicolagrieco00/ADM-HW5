{
 "cells": [
  {
   "cell_type": "markdown",
   "id": "b5a19c2e",
   "metadata": {},
   "source": [
    "# HOMEWORK 5 ADM "
   ]
  },
  {
   "cell_type": "code",
   "execution_count": 58,
   "id": "b61ce1b2",
   "metadata": {},
   "outputs": [],
   "source": [
    "data = {'Name': ['Ramona Tarantino', 'Nicola', 'MIchela', 'Gianmarco'],\n",
    "        'Matricula': [2082006, 347842, 2343838, 338748],\n",
    "        'Email': ['ramonatarantino@gmail.com', 'email', 'email', 'email']}"
   ]
  },
  {
   "cell_type": "code",
   "execution_count": 60,
   "id": "bce5cf11",
   "metadata": {},
   "outputs": [],
   "source": [
    "data = pd.DataFrame(data)\n"
   ]
  },
  {
   "cell_type": "code",
   "execution_count": 61,
   "id": "7190acd1",
   "metadata": {},
   "outputs": [
    {
     "data": {
      "text/html": [
       "<div>\n",
       "<style scoped>\n",
       "    .dataframe tbody tr th:only-of-type {\n",
       "        vertical-align: middle;\n",
       "    }\n",
       "\n",
       "    .dataframe tbody tr th {\n",
       "        vertical-align: top;\n",
       "    }\n",
       "\n",
       "    .dataframe thead th {\n",
       "        text-align: right;\n",
       "    }\n",
       "</style>\n",
       "<table border=\"1\" class=\"dataframe\">\n",
       "  <thead>\n",
       "    <tr style=\"text-align: right;\">\n",
       "      <th></th>\n",
       "      <th>Name</th>\n",
       "      <th>Matricula</th>\n",
       "      <th>Email</th>\n",
       "    </tr>\n",
       "  </thead>\n",
       "  <tbody>\n",
       "    <tr>\n",
       "      <th>0</th>\n",
       "      <td>Ramona Tarantino</td>\n",
       "      <td>2082006</td>\n",
       "      <td>ramonatarantino@gmail.com</td>\n",
       "    </tr>\n",
       "    <tr>\n",
       "      <th>1</th>\n",
       "      <td>Nicola</td>\n",
       "      <td>347842</td>\n",
       "      <td>email</td>\n",
       "    </tr>\n",
       "    <tr>\n",
       "      <th>2</th>\n",
       "      <td>MIchela</td>\n",
       "      <td>2343838</td>\n",
       "      <td>email</td>\n",
       "    </tr>\n",
       "    <tr>\n",
       "      <th>3</th>\n",
       "      <td>Gianmarco</td>\n",
       "      <td>338748</td>\n",
       "      <td>email</td>\n",
       "    </tr>\n",
       "  </tbody>\n",
       "</table>\n",
       "</div>"
      ],
      "text/plain": [
       "               Name  Matricula                      Email\n",
       "0  Ramona Tarantino    2082006  ramonatarantino@gmail.com\n",
       "1            Nicola     347842                      email\n",
       "2           MIchela    2343838                      email\n",
       "3         Gianmarco     338748                      email"
      ]
     },
     "metadata": {},
     "output_type": "display_data"
    }
   ],
   "source": [
    "display(data)"
   ]
  },
  {
   "cell_type": "code",
   "execution_count": 63,
   "id": "5b07df64",
   "metadata": {},
   "outputs": [],
   "source": [
    "import pandas as pd\n",
    "import networkx as nx\n",
    "import numpy as np\n"
   ]
  },
  {
   "cell_type": "markdown",
   "id": "3c48bbf9",
   "metadata": {},
   "source": [
    "## Dataset"
   ]
  },
  {
   "cell_type": "code",
   "execution_count": 121,
   "id": "d420e0bb",
   "metadata": {},
   "outputs": [
    {
     "data": {
      "text/html": [
       "<div>\n",
       "<style scoped>\n",
       "    .dataframe tbody tr th:only-of-type {\n",
       "        vertical-align: middle;\n",
       "    }\n",
       "\n",
       "    .dataframe tbody tr th {\n",
       "        vertical-align: top;\n",
       "    }\n",
       "\n",
       "    .dataframe thead th {\n",
       "        text-align: right;\n",
       "    }\n",
       "</style>\n",
       "<table border=\"1\" class=\"dataframe\">\n",
       "  <thead>\n",
       "    <tr style=\"text-align: right;\">\n",
       "      <th></th>\n",
       "      <th>hero</th>\n",
       "      <th>comic</th>\n",
       "    </tr>\n",
       "  </thead>\n",
       "  <tbody>\n",
       "    <tr>\n",
       "      <th>0</th>\n",
       "      <td>24-HOUR MAN/EMMANUEL</td>\n",
       "      <td>AA2 35</td>\n",
       "    </tr>\n",
       "    <tr>\n",
       "      <th>1</th>\n",
       "      <td>3-D MAN/CHARLES CHAN</td>\n",
       "      <td>AVF 4</td>\n",
       "    </tr>\n",
       "    <tr>\n",
       "      <th>2</th>\n",
       "      <td>3-D MAN/CHARLES CHAN</td>\n",
       "      <td>AVF 5</td>\n",
       "    </tr>\n",
       "    <tr>\n",
       "      <th>3</th>\n",
       "      <td>3-D MAN/CHARLES CHAN</td>\n",
       "      <td>COC 1</td>\n",
       "    </tr>\n",
       "    <tr>\n",
       "      <th>4</th>\n",
       "      <td>3-D MAN/CHARLES CHAN</td>\n",
       "      <td>H2 251</td>\n",
       "    </tr>\n",
       "    <tr>\n",
       "      <th>...</th>\n",
       "      <td>...</td>\n",
       "      <td>...</td>\n",
       "    </tr>\n",
       "    <tr>\n",
       "      <th>96099</th>\n",
       "      <td>ZZZAX</td>\n",
       "      <td>H2 326</td>\n",
       "    </tr>\n",
       "    <tr>\n",
       "      <th>96100</th>\n",
       "      <td>ZZZAX</td>\n",
       "      <td>H2 327</td>\n",
       "    </tr>\n",
       "    <tr>\n",
       "      <th>96101</th>\n",
       "      <td>ZZZAX</td>\n",
       "      <td>M/CP 8/4</td>\n",
       "    </tr>\n",
       "    <tr>\n",
       "      <th>96102</th>\n",
       "      <td>ZZZAX</td>\n",
       "      <td>PM 47</td>\n",
       "    </tr>\n",
       "    <tr>\n",
       "      <th>96103</th>\n",
       "      <td>ZZZAX</td>\n",
       "      <td>WCA2 12</td>\n",
       "    </tr>\n",
       "  </tbody>\n",
       "</table>\n",
       "<p>96104 rows × 2 columns</p>\n",
       "</div>"
      ],
      "text/plain": [
       "                       hero     comic\n",
       "0      24-HOUR MAN/EMMANUEL    AA2 35\n",
       "1      3-D MAN/CHARLES CHAN     AVF 4\n",
       "2      3-D MAN/CHARLES CHAN     AVF 5\n",
       "3      3-D MAN/CHARLES CHAN     COC 1\n",
       "4      3-D MAN/CHARLES CHAN    H2 251\n",
       "...                     ...       ...\n",
       "96099                 ZZZAX    H2 326\n",
       "96100                 ZZZAX    H2 327\n",
       "96101                 ZZZAX  M/CP 8/4\n",
       "96102                 ZZZAX     PM 47\n",
       "96103                 ZZZAX   WCA2 12\n",
       "\n",
       "[96104 rows x 2 columns]"
      ]
     },
     "execution_count": 121,
     "metadata": {},
     "output_type": "execute_result"
    }
   ],
   "source": [
    "edges_df = pd.read_csv(\"edges.csv\")\n",
    "edges_df"
   ]
  },
  {
   "cell_type": "code",
   "execution_count": 4,
   "id": "daab7720",
   "metadata": {},
   "outputs": [
    {
     "data": {
      "text/html": [
       "<div>\n",
       "<style scoped>\n",
       "    .dataframe tbody tr th:only-of-type {\n",
       "        vertical-align: middle;\n",
       "    }\n",
       "\n",
       "    .dataframe tbody tr th {\n",
       "        vertical-align: top;\n",
       "    }\n",
       "\n",
       "    .dataframe thead th {\n",
       "        text-align: right;\n",
       "    }\n",
       "</style>\n",
       "<table border=\"1\" class=\"dataframe\">\n",
       "  <thead>\n",
       "    <tr style=\"text-align: right;\">\n",
       "      <th></th>\n",
       "      <th>hero1</th>\n",
       "      <th>hero2</th>\n",
       "    </tr>\n",
       "  </thead>\n",
       "  <tbody>\n",
       "    <tr>\n",
       "      <th>0</th>\n",
       "      <td>LITTLE, ABNER</td>\n",
       "      <td>PRINCESS ZANDA</td>\n",
       "    </tr>\n",
       "    <tr>\n",
       "      <th>1</th>\n",
       "      <td>LITTLE, ABNER</td>\n",
       "      <td>BLACK PANTHER/T'CHAL</td>\n",
       "    </tr>\n",
       "    <tr>\n",
       "      <th>2</th>\n",
       "      <td>BLACK PANTHER/T'CHAL</td>\n",
       "      <td>PRINCESS ZANDA</td>\n",
       "    </tr>\n",
       "    <tr>\n",
       "      <th>3</th>\n",
       "      <td>LITTLE, ABNER</td>\n",
       "      <td>PRINCESS ZANDA</td>\n",
       "    </tr>\n",
       "    <tr>\n",
       "      <th>4</th>\n",
       "      <td>LITTLE, ABNER</td>\n",
       "      <td>BLACK PANTHER/T'CHAL</td>\n",
       "    </tr>\n",
       "    <tr>\n",
       "      <th>...</th>\n",
       "      <td>...</td>\n",
       "      <td>...</td>\n",
       "    </tr>\n",
       "    <tr>\n",
       "      <th>574462</th>\n",
       "      <td>COLOSSUS II/PETER RA</td>\n",
       "      <td>CALLISTO</td>\n",
       "    </tr>\n",
       "    <tr>\n",
       "      <th>574463</th>\n",
       "      <td>CALLISTO</td>\n",
       "      <td>ROGUE /</td>\n",
       "    </tr>\n",
       "    <tr>\n",
       "      <th>574464</th>\n",
       "      <td>CALLISTO</td>\n",
       "      <td>CALIBAN/</td>\n",
       "    </tr>\n",
       "    <tr>\n",
       "      <th>574465</th>\n",
       "      <td>CALIBAN/</td>\n",
       "      <td>ROGUE /</td>\n",
       "    </tr>\n",
       "    <tr>\n",
       "      <th>574466</th>\n",
       "      <td>HULK/DR. ROBERT BRUC</td>\n",
       "      <td>MARKS, DR. SHIELA</td>\n",
       "    </tr>\n",
       "  </tbody>\n",
       "</table>\n",
       "<p>574467 rows × 2 columns</p>\n",
       "</div>"
      ],
      "text/plain": [
       "                       hero1                 hero2\n",
       "0              LITTLE, ABNER        PRINCESS ZANDA\n",
       "1              LITTLE, ABNER  BLACK PANTHER/T'CHAL\n",
       "2       BLACK PANTHER/T'CHAL        PRINCESS ZANDA\n",
       "3              LITTLE, ABNER        PRINCESS ZANDA\n",
       "4              LITTLE, ABNER  BLACK PANTHER/T'CHAL\n",
       "...                      ...                   ...\n",
       "574462  COLOSSUS II/PETER RA              CALLISTO\n",
       "574463              CALLISTO               ROGUE /\n",
       "574464              CALLISTO              CALIBAN/\n",
       "574465              CALIBAN/               ROGUE /\n",
       "574466  HULK/DR. ROBERT BRUC     MARKS, DR. SHIELA\n",
       "\n",
       "[574467 rows x 2 columns]"
      ]
     },
     "execution_count": 4,
     "metadata": {},
     "output_type": "execute_result"
    }
   ],
   "source": [
    "hero_network = pd.read_csv('hero-network.csv')\n",
    "hero_network "
   ]
  },
  {
   "cell_type": "code",
   "execution_count": 5,
   "id": "e0aa1fb7",
   "metadata": {},
   "outputs": [
    {
     "data": {
      "text/html": [
       "<div>\n",
       "<style scoped>\n",
       "    .dataframe tbody tr th:only-of-type {\n",
       "        vertical-align: middle;\n",
       "    }\n",
       "\n",
       "    .dataframe tbody tr th {\n",
       "        vertical-align: top;\n",
       "    }\n",
       "\n",
       "    .dataframe thead th {\n",
       "        text-align: right;\n",
       "    }\n",
       "</style>\n",
       "<table border=\"1\" class=\"dataframe\">\n",
       "  <thead>\n",
       "    <tr style=\"text-align: right;\">\n",
       "      <th></th>\n",
       "      <th>node</th>\n",
       "      <th>type</th>\n",
       "    </tr>\n",
       "  </thead>\n",
       "  <tbody>\n",
       "    <tr>\n",
       "      <th>0</th>\n",
       "      <td>2001 10</td>\n",
       "      <td>comic</td>\n",
       "    </tr>\n",
       "    <tr>\n",
       "      <th>1</th>\n",
       "      <td>2001 8</td>\n",
       "      <td>comic</td>\n",
       "    </tr>\n",
       "    <tr>\n",
       "      <th>2</th>\n",
       "      <td>2001 9</td>\n",
       "      <td>comic</td>\n",
       "    </tr>\n",
       "    <tr>\n",
       "      <th>3</th>\n",
       "      <td>24-HOUR MAN/EMMANUEL</td>\n",
       "      <td>hero</td>\n",
       "    </tr>\n",
       "    <tr>\n",
       "      <th>4</th>\n",
       "      <td>3-D MAN/CHARLES CHAN</td>\n",
       "      <td>hero</td>\n",
       "    </tr>\n",
       "    <tr>\n",
       "      <th>...</th>\n",
       "      <td>...</td>\n",
       "      <td>...</td>\n",
       "    </tr>\n",
       "    <tr>\n",
       "      <th>19085</th>\n",
       "      <td>ZOTA, CARLO</td>\n",
       "      <td>hero</td>\n",
       "    </tr>\n",
       "    <tr>\n",
       "      <th>19086</th>\n",
       "      <td>ZOTA</td>\n",
       "      <td>hero</td>\n",
       "    </tr>\n",
       "    <tr>\n",
       "      <th>19087</th>\n",
       "      <td>ZURAS</td>\n",
       "      <td>hero</td>\n",
       "    </tr>\n",
       "    <tr>\n",
       "      <th>19088</th>\n",
       "      <td>ZURI</td>\n",
       "      <td>hero</td>\n",
       "    </tr>\n",
       "    <tr>\n",
       "      <th>19089</th>\n",
       "      <td>ZZZAX</td>\n",
       "      <td>hero</td>\n",
       "    </tr>\n",
       "  </tbody>\n",
       "</table>\n",
       "<p>19090 rows × 2 columns</p>\n",
       "</div>"
      ],
      "text/plain": [
       "                       node   type\n",
       "0                   2001 10  comic\n",
       "1                    2001 8  comic\n",
       "2                    2001 9  comic\n",
       "3      24-HOUR MAN/EMMANUEL   hero\n",
       "4      3-D MAN/CHARLES CHAN   hero\n",
       "...                     ...    ...\n",
       "19085           ZOTA, CARLO   hero\n",
       "19086                  ZOTA   hero\n",
       "19087                 ZURAS   hero\n",
       "19088                  ZURI   hero\n",
       "19089                 ZZZAX   hero\n",
       "\n",
       "[19090 rows x 2 columns]"
      ]
     },
     "execution_count": 5,
     "metadata": {},
     "output_type": "execute_result"
    }
   ],
   "source": [
    "nodes = pd.read_csv('nodes.csv')\n",
    "nodes"
   ]
  },
  {
   "cell_type": "markdown",
   "id": "29fbffb2",
   "metadata": {},
   "source": [
    "## LEZIONE 13_12 "
   ]
  },
  {
   "cell_type": "markdown",
   "id": "855b534b",
   "metadata": {},
   "source": [
    "### ADDING NODES\n"
   ]
  },
  {
   "cell_type": "code",
   "execution_count": null,
   "id": "108ceb3a",
   "metadata": {},
   "outputs": [],
   "source": [
    "import networkx as nx\n",
    "\n",
    "# Create a new graph\n",
    "G = nx.Graph()\n",
    "\n",
    "# Add some nodes and edges to the graph \n",
    "G.add_node(1) #we pass the label of the node \n",
    "G.add_nodes_from([2,3])\n",
    "\n",
    "G.nodes()\n",
    "# Draw the graph\n",
    "nx.draw(G)\n",
    "\n"
   ]
  },
  {
   "cell_type": "code",
   "execution_count": null,
   "id": "8470e7d8",
   "metadata": {},
   "outputs": [],
   "source": [
    "G.nodes()[1]['name'] = 'Spiderman'\n",
    "G.nodes()[1]"
   ]
  },
  {
   "cell_type": "code",
   "execution_count": null,
   "id": "faf7e3ab",
   "metadata": {},
   "outputs": [],
   "source": [
    "G.add_nodes_from([(4,{'name' :'Thor'}), (15, {'comic': 'Peter Parker'})])"
   ]
  },
  {
   "cell_type": "code",
   "execution_count": null,
   "id": "7ab4f93e",
   "metadata": {},
   "outputs": [],
   "source": [
    "G.nodes()"
   ]
  },
  {
   "cell_type": "code",
   "execution_count": null,
   "id": "da00e6d4",
   "metadata": {},
   "outputs": [],
   "source": [
    "G.remove_node(4)"
   ]
  },
  {
   "cell_type": "markdown",
   "id": "fb0d1840",
   "metadata": {},
   "source": [
    "### ADDING EDGES + ATTRIBUTES"
   ]
  },
  {
   "cell_type": "code",
   "execution_count": null,
   "id": "df74bd57",
   "metadata": {},
   "outputs": [],
   "source": [
    "G.add_edge(1,2)"
   ]
  },
  {
   "cell_type": "code",
   "execution_count": null,
   "id": "179616cb",
   "metadata": {},
   "outputs": [],
   "source": [
    "G.add_edges_from([(2,3), (1,4), (2,15)])"
   ]
  },
  {
   "cell_type": "code",
   "execution_count": null,
   "id": "29935a1a",
   "metadata": {},
   "outputs": [],
   "source": [
    "G.edges()"
   ]
  },
  {
   "cell_type": "code",
   "execution_count": null,
   "id": "a1ccb854",
   "metadata": {},
   "outputs": [],
   "source": [
    "G.edges()[(1,2)]['weight'] =0.5\n",
    "G.edges()[(1,2)]"
   ]
  },
  {
   "cell_type": "code",
   "execution_count": null,
   "id": "c8a8a52d",
   "metadata": {},
   "outputs": [],
   "source": [
    "list(G.edges)"
   ]
  },
  {
   "cell_type": "code",
   "execution_count": null,
   "id": "d056c457",
   "metadata": {},
   "outputs": [],
   "source": [
    "G.remove_edge(2,15)"
   ]
  },
  {
   "cell_type": "code",
   "execution_count": null,
   "id": "9e31a845",
   "metadata": {
    "scrolled": true
   },
   "outputs": [],
   "source": [
    "nx.draw(G)"
   ]
  },
  {
   "cell_type": "markdown",
   "id": "4d8a8d64",
   "metadata": {},
   "source": [
    "### STATS"
   ]
  },
  {
   "cell_type": "code",
   "execution_count": null,
   "id": "5879d4b6",
   "metadata": {},
   "outputs": [],
   "source": [
    "nx.info(G)"
   ]
  },
  {
   "cell_type": "code",
   "execution_count": null,
   "id": "4ad00cb4",
   "metadata": {},
   "outputs": [],
   "source": [
    "G.degree(15)"
   ]
  },
  {
   "cell_type": "markdown",
   "id": "c9f68754",
   "metadata": {},
   "source": [
    "### ADJACENCY"
   ]
  },
  {
   "cell_type": "code",
   "execution_count": null,
   "id": "8153657d",
   "metadata": {},
   "outputs": [],
   "source": [
    "G[1] #vede a chi è connesso"
   ]
  },
  {
   "cell_type": "code",
   "execution_count": null,
   "id": "3bc80c11",
   "metadata": {},
   "outputs": [],
   "source": [
    "G[2]"
   ]
  },
  {
   "cell_type": "code",
   "execution_count": null,
   "id": "4511c22d",
   "metadata": {},
   "outputs": [],
   "source": [
    "G.nodes.data()"
   ]
  },
  {
   "cell_type": "markdown",
   "id": "cbe64d56",
   "metadata": {},
   "source": [
    "### VISUALIZATION"
   ]
  },
  {
   "cell_type": "code",
   "execution_count": null,
   "id": "34f179de",
   "metadata": {},
   "outputs": [],
   "source": [
    "G.add_edge(2,15)"
   ]
  },
  {
   "cell_type": "code",
   "execution_count": null,
   "id": "8f11e8be",
   "metadata": {},
   "outputs": [],
   "source": [
    "import matplotlib.pyplot as plt\n",
    "plt.clf()\n",
    "nx.draw(G, with_labels=True, node_color= 'limegreen')\n",
    "plt.show()\n"
   ]
  },
  {
   "cell_type": "code",
   "execution_count": null,
   "id": "8d0f0e7b",
   "metadata": {},
   "outputs": [],
   "source": [
    "C= nx.complete_graph(20)\n",
    "nx.draw(C, with_labels=True, node_color= 'limegreen')"
   ]
  },
  {
   "cell_type": "code",
   "execution_count": null,
   "id": "a4d2fe5d",
   "metadata": {},
   "outputs": [],
   "source": [
    "H=nx.cycle_graph(5)\n",
    "nx.draw(H, with_labels=True, node_color= 'limegreen')"
   ]
  },
  {
   "cell_type": "code",
   "execution_count": null,
   "id": "ae9ffe70",
   "metadata": {},
   "outputs": [],
   "source": [
    "L =nx.lollipop_graph(6,3)\n",
    "nx.draw(L, with_labels=True, node_color= 'limegreen')"
   ]
  },
  {
   "cell_type": "code",
   "execution_count": null,
   "id": "5bd783fd",
   "metadata": {},
   "outputs": [],
   "source": [
    "SG = L.subgraph([6,7,8])\n",
    "nx.draw(SG, with_labels=True, node_color= 'limegreen')"
   ]
  },
  {
   "cell_type": "code",
   "execution_count": null,
   "id": "8b5bfe58",
   "metadata": {},
   "outputs": [],
   "source": [
    "HL = nx.union(H, L, rename=('H-', 'L-'))"
   ]
  },
  {
   "cell_type": "code",
   "execution_count": null,
   "id": "e3229d22",
   "metadata": {},
   "outputs": [],
   "source": [
    "nx.draw(HL, with_labels=True, node_color= 'limegreen')"
   ]
  },
  {
   "cell_type": "code",
   "execution_count": null,
   "id": "bca6735a",
   "metadata": {},
   "outputs": [],
   "source": [
    "G = nx.complete_graph(4)"
   ]
  },
  {
   "cell_type": "code",
   "execution_count": null,
   "id": "228c28fd",
   "metadata": {},
   "outputs": [],
   "source": [
    "nx.draw(G, with_labels=True, node_color= 'limegreen')"
   ]
  },
  {
   "cell_type": "code",
   "execution_count": null,
   "id": "100fab28",
   "metadata": {},
   "outputs": [],
   "source": [
    "nx.is_connected(G)"
   ]
  },
  {
   "cell_type": "markdown",
   "id": "8ec8426b",
   "metadata": {},
   "source": [
    "### GRAPH SETUP"
   ]
  },
  {
   "cell_type": "code",
   "execution_count": null,
   "id": "9ec76b38",
   "metadata": {},
   "outputs": [],
   "source": [
    "import pandas as pd \n",
    "G_hero_net = nx.MultiGraph()"
   ]
  },
  {
   "cell_type": "code",
   "execution_count": null,
   "id": "be22d424",
   "metadata": {},
   "outputs": [],
   "source": [
    "hero_network"
   ]
  },
  {
   "cell_type": "code",
   "execution_count": null,
   "id": "e7f93a30",
   "metadata": {},
   "outputs": [],
   "source": [
    "G_hero_net.add_edge(hero_network.loc[0].hero1, hero_network.loc[0].hero2)"
   ]
  },
  {
   "cell_type": "code",
   "execution_count": null,
   "id": "ce40d6a8",
   "metadata": {},
   "outputs": [],
   "source": [
    "G_hero_net.nodes"
   ]
  },
  {
   "cell_type": "code",
   "execution_count": null,
   "id": "ffde63ea",
   "metadata": {},
   "outputs": [],
   "source": [
    "hero_network.loc[0]"
   ]
  },
  {
   "cell_type": "code",
   "execution_count": null,
   "id": "cc3c56da",
   "metadata": {},
   "outputs": [],
   "source": [
    "hero_network.apply(lambda row: G_hero_net.add_edge(row['hero1'], row['hero2']), axis=1)"
   ]
  },
  {
   "cell_type": "code",
   "execution_count": null,
   "id": "d1190c6d",
   "metadata": {},
   "outputs": [],
   "source": [
    "#create a new GRAPG \n",
    "\n",
    "G_hero_2 = nx.from_pandas_edgelist(hero_network, 'hero1', 'hero2', create_using = nx.MultiGraph)"
   ]
  },
  {
   "cell_type": "code",
   "execution_count": null,
   "id": "969fc306",
   "metadata": {},
   "outputs": [],
   "source": [
    "nx.info(G_hero_2)"
   ]
  },
  {
   "cell_type": "code",
   "execution_count": null,
   "id": "6a1e703f",
   "metadata": {},
   "outputs": [],
   "source": [
    "nx.degree_centrality(G_hero_net)['PRINCESS ZANDA']"
   ]
  },
  {
   "cell_type": "code",
   "execution_count": null,
   "id": "60e111d8",
   "metadata": {},
   "outputs": [],
   "source": [
    "nx.betweenness_centrality(G_hero_net)['PRINCESS ZANDA']"
   ]
  },
  {
   "cell_type": "code",
   "execution_count": null,
   "id": "1d311451",
   "metadata": {},
   "outputs": [],
   "source": [
    "nx.node_connectivity(G_hero_net,'PRINCESS ZANDA', \"BLACK PANTHER/T'CHAL\")"
   ]
  },
  {
   "cell_type": "code",
   "execution_count": null,
   "id": "21eef946",
   "metadata": {},
   "outputs": [],
   "source": [
    "G_hero_net.nodes()"
   ]
  },
  {
   "cell_type": "markdown",
   "id": "809f4db7",
   "metadata": {},
   "source": [
    "### FINE LEZIONE "
   ]
  },
  {
   "cell_type": "markdown",
   "id": "907ffd46",
   "metadata": {},
   "source": [
    "# 1. Data"
   ]
  },
  {
   "cell_type": "markdown",
   "id": "2af5e0c7",
   "metadata": {},
   "source": [
    "### DATA PREPROCESSING\n",
    "- Some heroes' names in 'hero-netowrk.csv' have extra spaces at the end of their names compared to their names in 'edges.csv'.\n",
    "- Some heroes' names in 'hero-netowrk.csv' have an extra '/' at the end of their names compared to their names in 'edges.csv'.\n",
    "- The hero name 'SPIDER-MAN/PETER PARKER' in 'edges.csv' has been changed to 'SPIDER-MAN/PETER PAR' in 'hero-network.csv' due to a string length limit in 'hero-network.csv'.\n"
   ]
  },
  {
   "cell_type": "code",
   "execution_count": null,
   "id": "d5690867",
   "metadata": {},
   "outputs": [],
   "source": [
    "import csv\n",
    "import re\n",
    "\n",
    "# Read the hero-network.csv file\n",
    "with open('hero-network.csv', 'r') as f:\n",
    "    reader = csv.reader(f)\n",
    "    \n",
    "    # Create a new list to hold the cleaned data\n",
    "    cleaned_data = []\n",
    "    \n",
    "    # Loop through the rows in the CSV file\n",
    "    for row in reader:\n",
    "        # Use a regular expression to remove the extra spaces from the names\n",
    "        # in the row\n",
    "        cleaned_row = [re.sub(r' +', '', name) for name in row]\n",
    "        \n",
    "        \n",
    "        # Add the cleaned row to the list\n",
    "        cleaned_data.append(cleaned_row)\n",
    "\n",
    "# Write the cleaned data to a new CSV file\n",
    "with open('hero-network-cleaned.csv', 'w') as f:\n",
    "    writer = csv.writer(f)\n",
    "    writer.writerows(cleaned_data)\n",
    "\n",
    "    #questo funziona"
   ]
  },
  {
   "cell_type": "code",
   "execution_count": null,
   "id": "d7486c8d",
   "metadata": {},
   "outputs": [],
   "source": [
    "# find the names that appear in both sets of names\n",
    "import pandas as pd\n",
    "df1 = pd.read_csv('hero-network-cleaned.csv')\n",
    "\n",
    "# read the second dataset into a dataframe\n",
    "df2 = pd.read_csv('edges.csv')\n",
    "\n",
    "# create a set of hero names from the hero1 and hero2 columns in the first dataset\n",
    "hero_names1 = set(df1['hero1']) | set(df1['hero2'])\n",
    "\n",
    "# create a set of hero names from the hero column in the second dataset\n",
    "hero_names2 = set(df2['hero'])\n",
    "\n",
    "common_names = df1[df1['hero1'].isin(hero_names2) | df1['hero2'].isin(hero_names2)]\n",
    "\n",
    "# print the common names\n",
    "print(common_names)\n",
    "\n",
    "common_names.count()\n"
   ]
  },
  {
   "cell_type": "code",
   "execution_count": null,
   "id": "828aa66b",
   "metadata": {},
   "outputs": [],
   "source": [
    "# read the hero-network.csv file into a dataframe\n",
    "import pandas as pd\n",
    "hero_network_df = pd.read_csv('hero-network.csv')\n",
    "\n",
    "# read the edges.csv file into a dataframe\n",
    "edges_df = pd.read_csv('edges.csv')\n",
    "\n",
    "# create a set of hero names from the hero1 and hero2 columns in hero-network.csv\n",
    "hero_network_names = set(hero_network_df['hero1']) | set(hero_network_df['hero2'])\n",
    "\n",
    "# create a set of hero names from the hero column in edges.csv\n",
    "edges_names = set(edges_df['hero'])\n",
    "\n",
    "# find the names that appear in hero-network.csv but not in edges.csv\n",
    "# and remove any extra spaces and the extra '/' from the end of the names\n",
    "missing_names = [name.strip()[:-1] for name in hero_network_names - edges_names if name[-1] == '/']\n",
    "\n",
    "# update the names in hero-network.csv to match the names in edges.csv\n",
    "hero_network_df.loc[hero_network_df['hero1'].isin(missing_names), 'hero1'] = missing_names\n",
    "hero_network_df.loc[hero_network_df['hero2'].isin(missing_names), 'hero2'] = missing_names\n",
    "\n",
    "# write the updated dataframe to a new csv file\n",
    "hero_network_df.to_csv('hero-network-corrected.csv', index=False)\n"
   ]
  },
  {
   "cell_type": "code",
   "execution_count": null,
   "id": "6b766ca3",
   "metadata": {},
   "outputs": [],
   "source": [
    "print(missing_names)"
   ]
  },
  {
   "cell_type": "code",
   "execution_count": null,
   "id": "72b798aa",
   "metadata": {},
   "outputs": [],
   "source": [
    "hero_network_df_corrected = pd.read_csv('hero-network-corrected.csv')\n",
    "hero_network_df_corrected "
   ]
  },
  {
   "cell_type": "code",
   "execution_count": null,
   "id": "fdeb4144",
   "metadata": {},
   "outputs": [],
   "source": [
    "\n",
    "\n",
    "# load the dataset into a pandas DataFrame\n",
    "hero_network_df_corrected = pd.read_csv('hero-network.csv')\n",
    "\n",
    "# replace the string 'SPIDER-MAN/PETER PAR' with 'SPIDER-MAN/PETER PARKER' in columns 'hero1' and 'hero2'\n",
    "hero_network_df_corrected['hero1'] = hero_network_df_corrected['hero1'].replace('SPIDER-MAN/PETER PAR', 'SPIDER-MAN/PETER PARKER')\n",
    "hero_network_df_corrected['hero2'] = hero_network_df_corrected['hero2'].replace('SPIDER-MAN/PETER PAR', 'SPIDER-MAN/PETER PARKER')\n",
    "\n",
    "# save the modified DataFrame to a new CSV file\n",
    "hero_network_df_corrected.to_csv('modified-hero-network.csv', index=False)\n"
   ]
  },
  {
   "cell_type": "code",
   "execution_count": 7,
   "id": "5681659e",
   "metadata": {},
   "outputs": [
    {
     "data": {
      "text/html": [
       "<div>\n",
       "<style scoped>\n",
       "    .dataframe tbody tr th:only-of-type {\n",
       "        vertical-align: middle;\n",
       "    }\n",
       "\n",
       "    .dataframe tbody tr th {\n",
       "        vertical-align: top;\n",
       "    }\n",
       "\n",
       "    .dataframe thead th {\n",
       "        text-align: right;\n",
       "    }\n",
       "</style>\n",
       "<table border=\"1\" class=\"dataframe\">\n",
       "  <thead>\n",
       "    <tr style=\"text-align: right;\">\n",
       "      <th></th>\n",
       "      <th>hero1</th>\n",
       "      <th>hero2</th>\n",
       "    </tr>\n",
       "  </thead>\n",
       "  <tbody>\n",
       "    <tr>\n",
       "      <th>0</th>\n",
       "      <td>LITTLE, ABNER</td>\n",
       "      <td>PRINCESS ZANDA</td>\n",
       "    </tr>\n",
       "    <tr>\n",
       "      <th>1</th>\n",
       "      <td>LITTLE, ABNER</td>\n",
       "      <td>BLACK PANTHER/T'CHAL</td>\n",
       "    </tr>\n",
       "    <tr>\n",
       "      <th>2</th>\n",
       "      <td>BLACK PANTHER/T'CHAL</td>\n",
       "      <td>PRINCESS ZANDA</td>\n",
       "    </tr>\n",
       "    <tr>\n",
       "      <th>3</th>\n",
       "      <td>LITTLE, ABNER</td>\n",
       "      <td>PRINCESS ZANDA</td>\n",
       "    </tr>\n",
       "    <tr>\n",
       "      <th>4</th>\n",
       "      <td>LITTLE, ABNER</td>\n",
       "      <td>BLACK PANTHER/T'CHAL</td>\n",
       "    </tr>\n",
       "    <tr>\n",
       "      <th>...</th>\n",
       "      <td>...</td>\n",
       "      <td>...</td>\n",
       "    </tr>\n",
       "    <tr>\n",
       "      <th>574462</th>\n",
       "      <td>COLOSSUS II/PETER RA</td>\n",
       "      <td>CALLISTO</td>\n",
       "    </tr>\n",
       "    <tr>\n",
       "      <th>574463</th>\n",
       "      <td>CALLISTO</td>\n",
       "      <td>ROGUE /</td>\n",
       "    </tr>\n",
       "    <tr>\n",
       "      <th>574464</th>\n",
       "      <td>CALLISTO</td>\n",
       "      <td>CALIBAN/</td>\n",
       "    </tr>\n",
       "    <tr>\n",
       "      <th>574465</th>\n",
       "      <td>CALIBAN/</td>\n",
       "      <td>ROGUE /</td>\n",
       "    </tr>\n",
       "    <tr>\n",
       "      <th>574466</th>\n",
       "      <td>HULK/DR. ROBERT BRUC</td>\n",
       "      <td>MARKS, DR. SHIELA</td>\n",
       "    </tr>\n",
       "  </tbody>\n",
       "</table>\n",
       "<p>574467 rows × 2 columns</p>\n",
       "</div>"
      ],
      "text/plain": [
       "                       hero1                 hero2\n",
       "0              LITTLE, ABNER        PRINCESS ZANDA\n",
       "1              LITTLE, ABNER  BLACK PANTHER/T'CHAL\n",
       "2       BLACK PANTHER/T'CHAL        PRINCESS ZANDA\n",
       "3              LITTLE, ABNER        PRINCESS ZANDA\n",
       "4              LITTLE, ABNER  BLACK PANTHER/T'CHAL\n",
       "...                      ...                   ...\n",
       "574462  COLOSSUS II/PETER RA              CALLISTO\n",
       "574463              CALLISTO               ROGUE /\n",
       "574464              CALLISTO              CALIBAN/\n",
       "574465              CALIBAN/               ROGUE /\n",
       "574466  HULK/DR. ROBERT BRUC     MARKS, DR. SHIELA\n",
       "\n",
       "[574467 rows x 2 columns]"
      ]
     },
     "execution_count": 7,
     "metadata": {},
     "output_type": "execute_result"
    }
   ],
   "source": [
    "df = pd.read_csv('modified-hero-network.csv')\n",
    "df"
   ]
  },
  {
   "cell_type": "code",
   "execution_count": null,
   "id": "3e515d82",
   "metadata": {},
   "outputs": [],
   "source": [
    "df[df.hero1 == 'SPIDER-MAN/PETER PARKER']"
   ]
  },
  {
   "cell_type": "code",
   "execution_count": null,
   "id": "20f6b7e0",
   "metadata": {},
   "outputs": [],
   "source": [
    "df[df.hero2 == 'SPIDER-MAN/PETER PARKER']"
   ]
  },
  {
   "cell_type": "code",
   "execution_count": null,
   "id": "eb733871",
   "metadata": {},
   "outputs": [],
   "source": [
    "df"
   ]
  },
  {
   "cell_type": "markdown",
   "id": "61d9c88c",
   "metadata": {},
   "source": [
    "- Some entries in the 'hero-network.csv' have the same hero in both columns. In the graph, these entries form a self-loop. Because a self-loop makes no sense in this network, you can safely remove those from the dataset."
   ]
  },
  {
   "cell_type": "code",
   "execution_count": null,
   "id": "5371b5f8",
   "metadata": {},
   "outputs": [],
   "source": [
    "df_subset = df[df['hero1'] != df['hero2']]\n",
    "\n",
    "# save the new DataFrame to a new CSV file\n",
    "df_subset.to_csv('final-hero-network.csv', index=False)"
   ]
  },
  {
   "cell_type": "code",
   "execution_count": 16,
   "id": "4bf45ef8",
   "metadata": {},
   "outputs": [
    {
     "data": {
      "text/html": [
       "<div>\n",
       "<style scoped>\n",
       "    .dataframe tbody tr th:only-of-type {\n",
       "        vertical-align: middle;\n",
       "    }\n",
       "\n",
       "    .dataframe tbody tr th {\n",
       "        vertical-align: top;\n",
       "    }\n",
       "\n",
       "    .dataframe thead th {\n",
       "        text-align: right;\n",
       "    }\n",
       "</style>\n",
       "<table border=\"1\" class=\"dataframe\">\n",
       "  <thead>\n",
       "    <tr style=\"text-align: right;\">\n",
       "      <th></th>\n",
       "      <th>hero1</th>\n",
       "      <th>hero2</th>\n",
       "    </tr>\n",
       "  </thead>\n",
       "  <tbody>\n",
       "    <tr>\n",
       "      <th>0</th>\n",
       "      <td>LITTLE, ABNER</td>\n",
       "      <td>PRINCESS ZANDA</td>\n",
       "    </tr>\n",
       "    <tr>\n",
       "      <th>1</th>\n",
       "      <td>LITTLE, ABNER</td>\n",
       "      <td>BLACK PANTHER/T'CHAL</td>\n",
       "    </tr>\n",
       "    <tr>\n",
       "      <th>2</th>\n",
       "      <td>BLACK PANTHER/T'CHAL</td>\n",
       "      <td>PRINCESS ZANDA</td>\n",
       "    </tr>\n",
       "    <tr>\n",
       "      <th>3</th>\n",
       "      <td>LITTLE, ABNER</td>\n",
       "      <td>PRINCESS ZANDA</td>\n",
       "    </tr>\n",
       "    <tr>\n",
       "      <th>4</th>\n",
       "      <td>LITTLE, ABNER</td>\n",
       "      <td>BLACK PANTHER/T'CHAL</td>\n",
       "    </tr>\n",
       "    <tr>\n",
       "      <th>...</th>\n",
       "      <td>...</td>\n",
       "      <td>...</td>\n",
       "    </tr>\n",
       "    <tr>\n",
       "      <th>572230</th>\n",
       "      <td>COLOSSUS II/PETER RA</td>\n",
       "      <td>CALLISTO</td>\n",
       "    </tr>\n",
       "    <tr>\n",
       "      <th>572231</th>\n",
       "      <td>CALLISTO</td>\n",
       "      <td>ROGUE /</td>\n",
       "    </tr>\n",
       "    <tr>\n",
       "      <th>572232</th>\n",
       "      <td>CALLISTO</td>\n",
       "      <td>CALIBAN/</td>\n",
       "    </tr>\n",
       "    <tr>\n",
       "      <th>572233</th>\n",
       "      <td>CALIBAN/</td>\n",
       "      <td>ROGUE /</td>\n",
       "    </tr>\n",
       "    <tr>\n",
       "      <th>572234</th>\n",
       "      <td>HULK/DR. ROBERT BRUC</td>\n",
       "      <td>MARKS, DR. SHIELA</td>\n",
       "    </tr>\n",
       "  </tbody>\n",
       "</table>\n",
       "<p>572235 rows × 2 columns</p>\n",
       "</div>"
      ],
      "text/plain": [
       "                       hero1                 hero2\n",
       "0              LITTLE, ABNER        PRINCESS ZANDA\n",
       "1              LITTLE, ABNER  BLACK PANTHER/T'CHAL\n",
       "2       BLACK PANTHER/T'CHAL        PRINCESS ZANDA\n",
       "3              LITTLE, ABNER        PRINCESS ZANDA\n",
       "4              LITTLE, ABNER  BLACK PANTHER/T'CHAL\n",
       "...                      ...                   ...\n",
       "572230  COLOSSUS II/PETER RA              CALLISTO\n",
       "572231              CALLISTO               ROGUE /\n",
       "572232              CALLISTO              CALIBAN/\n",
       "572233              CALIBAN/               ROGUE /\n",
       "572234  HULK/DR. ROBERT BRUC     MARKS, DR. SHIELA\n",
       "\n",
       "[572235 rows x 2 columns]"
      ]
     },
     "execution_count": 16,
     "metadata": {},
     "output_type": "execute_result"
    }
   ],
   "source": [
    "df = pd.read_csv('final-hero-network.csv')\n",
    "df"
   ]
  },
  {
   "cell_type": "code",
   "execution_count": 9,
   "id": "3ed549f6",
   "metadata": {},
   "outputs": [
    {
     "name": "stdout",
     "output_type": "stream",
     "text": [
      "0\n"
     ]
    }
   ],
   "source": [
    "count = df[df['hero1'] == df['hero2']].shape[0]\n",
    "\n",
    "# print the count\n",
    "print(count)\n",
    "\n",
    "#OK IT WORKS, there's not the duplicate rows"
   ]
  },
  {
   "cell_type": "code",
   "execution_count": 17,
   "id": "eaf9ba9d",
   "metadata": {},
   "outputs": [],
   "source": [
    "df = df[df['hero1'] != df['hero2']]"
   ]
  },
  {
   "cell_type": "code",
   "execution_count": 19,
   "id": "2d525d5f",
   "metadata": {},
   "outputs": [],
   "source": [
    "df.to_csv('final-hero-network2.csv', index=False)"
   ]
  },
  {
   "cell_type": "code",
   "execution_count": 20,
   "id": "11f6fcee",
   "metadata": {},
   "outputs": [
    {
     "data": {
      "text/html": [
       "<div>\n",
       "<style scoped>\n",
       "    .dataframe tbody tr th:only-of-type {\n",
       "        vertical-align: middle;\n",
       "    }\n",
       "\n",
       "    .dataframe tbody tr th {\n",
       "        vertical-align: top;\n",
       "    }\n",
       "\n",
       "    .dataframe thead th {\n",
       "        text-align: right;\n",
       "    }\n",
       "</style>\n",
       "<table border=\"1\" class=\"dataframe\">\n",
       "  <thead>\n",
       "    <tr style=\"text-align: right;\">\n",
       "      <th></th>\n",
       "      <th>hero1</th>\n",
       "      <th>hero2</th>\n",
       "    </tr>\n",
       "  </thead>\n",
       "  <tbody>\n",
       "    <tr>\n",
       "      <th>0</th>\n",
       "      <td>LITTLE, ABNER</td>\n",
       "      <td>PRINCESS ZANDA</td>\n",
       "    </tr>\n",
       "    <tr>\n",
       "      <th>1</th>\n",
       "      <td>LITTLE, ABNER</td>\n",
       "      <td>BLACK PANTHER/T'CHAL</td>\n",
       "    </tr>\n",
       "    <tr>\n",
       "      <th>2</th>\n",
       "      <td>BLACK PANTHER/T'CHAL</td>\n",
       "      <td>PRINCESS ZANDA</td>\n",
       "    </tr>\n",
       "    <tr>\n",
       "      <th>3</th>\n",
       "      <td>LITTLE, ABNER</td>\n",
       "      <td>PRINCESS ZANDA</td>\n",
       "    </tr>\n",
       "    <tr>\n",
       "      <th>4</th>\n",
       "      <td>LITTLE, ABNER</td>\n",
       "      <td>BLACK PANTHER/T'CHAL</td>\n",
       "    </tr>\n",
       "    <tr>\n",
       "      <th>...</th>\n",
       "      <td>...</td>\n",
       "      <td>...</td>\n",
       "    </tr>\n",
       "    <tr>\n",
       "      <th>572230</th>\n",
       "      <td>COLOSSUS II/PETER RA</td>\n",
       "      <td>CALLISTO</td>\n",
       "    </tr>\n",
       "    <tr>\n",
       "      <th>572231</th>\n",
       "      <td>CALLISTO</td>\n",
       "      <td>ROGUE /</td>\n",
       "    </tr>\n",
       "    <tr>\n",
       "      <th>572232</th>\n",
       "      <td>CALLISTO</td>\n",
       "      <td>CALIBAN/</td>\n",
       "    </tr>\n",
       "    <tr>\n",
       "      <th>572233</th>\n",
       "      <td>CALIBAN/</td>\n",
       "      <td>ROGUE /</td>\n",
       "    </tr>\n",
       "    <tr>\n",
       "      <th>572234</th>\n",
       "      <td>HULK/DR. ROBERT BRUC</td>\n",
       "      <td>MARKS, DR. SHIELA</td>\n",
       "    </tr>\n",
       "  </tbody>\n",
       "</table>\n",
       "<p>572235 rows × 2 columns</p>\n",
       "</div>"
      ],
      "text/plain": [
       "                       hero1                 hero2\n",
       "0              LITTLE, ABNER        PRINCESS ZANDA\n",
       "1              LITTLE, ABNER  BLACK PANTHER/T'CHAL\n",
       "2       BLACK PANTHER/T'CHAL        PRINCESS ZANDA\n",
       "3              LITTLE, ABNER        PRINCESS ZANDA\n",
       "4              LITTLE, ABNER  BLACK PANTHER/T'CHAL\n",
       "...                      ...                   ...\n",
       "572230  COLOSSUS II/PETER RA              CALLISTO\n",
       "572231              CALLISTO               ROGUE /\n",
       "572232              CALLISTO              CALIBAN/\n",
       "572233              CALIBAN/               ROGUE /\n",
       "572234  HULK/DR. ROBERT BRUC     MARKS, DR. SHIELA\n",
       "\n",
       "[572235 rows x 2 columns]"
      ]
     },
     "execution_count": 20,
     "metadata": {},
     "output_type": "execute_result"
    }
   ],
   "source": [
    "df = pd.read_csv('final-hero-network2.csv')\n",
    "df"
   ]
  },
  {
   "cell_type": "markdown",
   "id": "7a55622a",
   "metadata": {},
   "source": [
    "#### 'final-hero-network2.csv' is the final dataset preprocessed"
   ]
  },
  {
   "cell_type": "markdown",
   "id": "0d082697",
   "metadata": {},
   "source": [
    "### Graphs setup"
   ]
  },
  {
   "cell_type": "markdown",
   "id": "50fa540a",
   "metadata": {},
   "source": [
    "**First graph** : Will be constructed using the data stored in the 'hero-network.csv' file, in which an edge between two heroes can be found if they have appeared in the same comic together. The number of edges between two heroes represents the number of times they have collaborated in different comics. The graph should be considered weighted and undirected. It is up to you to decide which metric to use to calculate the weights, but we anticipate that the cost will be lower for heroes with more collaborations. Please specify which metric you used to select the weights in the report.\n",
    "\n"
   ]
  },
  {
   "cell_type": "code",
   "execution_count": 88,
   "id": "1cb0e56e",
   "metadata": {},
   "outputs": [],
   "source": [
    "df_hero = pd.read_csv('final-hero-network2.csv')\n",
    "edge_df = df_hero.groupby(['hero1', 'hero2']).size().reset_index(name='weight')\n",
    "G = nx.from_pandas_edgelist(edge_df, 'hero1', 'hero2', edge_attr='weight', create_using = nx.MultiGraph)\n"
   ]
  },
  {
   "cell_type": "code",
   "execution_count": 44,
   "id": "261b4d2a",
   "metadata": {},
   "outputs": [
    {
     "name": "stdout",
     "output_type": "stream",
     "text": [
      "Number of nodes: 6426\n",
      "Number of edges: 224169\n"
     ]
    }
   ],
   "source": [
    "print(f'Number of nodes: {G.number_of_nodes()}')\n",
    "print(f'Number of edges: {G.number_of_edges()}')"
   ]
  },
  {
   "cell_type": "code",
   "execution_count": 46,
   "id": "ea5b1c7b",
   "metadata": {},
   "outputs": [
    {
     "data": {
      "text/plain": [
       "'MultiGraph with 6426 nodes and 224169 edges'"
      ]
     },
     "execution_count": 46,
     "metadata": {},
     "output_type": "execute_result"
    }
   ],
   "source": [
    "nx.info(G)"
   ]
  },
  {
   "cell_type": "markdown",
   "id": "3a4d2359",
   "metadata": {},
   "source": [
    "This will create a graph with the nodes and edges as specified in the 'hero-network.csv' file, with edges that have a weight attribute equal to the number of times the two heroes have collaborated in different comics. The cost of the edge will be lower for heroes with more collaborations, as requested."
   ]
  },
  {
   "cell_type": "code",
   "execution_count": 104,
   "id": "bdad040f",
   "metadata": {},
   "outputs": [
    {
     "data": {
      "image/png": "[encoded data removed]",
      "text/plain": [
       "<Figure size 432x288 with 1 Axes>"
      ]
     },
     "metadata": {
      "needs_background": "light"
     },
     "output_type": "display_data"
    }
   ],
   "source": [
    "import matplotlib.pyplot as plt\n",
    "\n",
    "# Get the edge weights from the graph\n",
    "edge_weights = nx.get_edge_attributes(G, 'weight')\n",
    "\n",
    "# Convert the edge weights to a list\n",
    "weights = list(edge_weights.values())\n",
    "\n",
    "# Plot a histogram of the edge weights\n",
    "plt.hist(weights, color = 'green', log=True, edgecolor = 'white')\n",
    "plt.xlabel('Number of collaborations')\n",
    "plt.ylabel('Frequency')\n",
    "plt.show()\n"
   ]
  },
  {
   "cell_type": "markdown",
   "id": "0f792c29",
   "metadata": {},
   "source": [
    "This will plot a histogram of the edge weights in the graph, with the x-axis representing the number of collaborations and the y-axis representing the frequency of each value. Plot to verify that the cost of the edge is lower for heroes with more collaborations."
   ]
  },
  {
   "cell_type": "markdown",
   "id": "7b67d19c",
   "metadata": {},
   "source": [
    "### SECOND GRAPH"
   ]
  },
  {
   "cell_type": "code",
   "execution_count": 90,
   "id": "74f38cde",
   "metadata": {},
   "outputs": [],
   "source": [
    "import pandas as pd\n",
    "import networkx as nx\n",
    "\n",
    "# Read the nodes data from nodes.csv into a DataFrame\n",
    "nodes_df = pd.read_csv('nodes.csv')\n",
    "\n",
    "# Read the edges data from edges.csv into a DataFrame\n",
    "edges_df = pd.read_csv('edges.csv')\n",
    "\n",
    "# Create a graph from the edges DataFrame\n",
    "G2 = nx.from_pandas_edgelist(edges_df, 'hero', 'comic')\n",
    "\n",
    "# Set the node type as an attribute of the nodes in the graph\n",
    "nodes_df = nodes_df.set_index('node')\n",
    "node_types = nodes_df['type']\n",
    "nx.set_node_attributes(G2, node_types, 'type')\n"
   ]
  },
  {
   "cell_type": "code",
   "execution_count": 91,
   "id": "7a9fa076",
   "metadata": {},
   "outputs": [
    {
     "data": {
      "text/plain": [
       "'Graph with 19090 nodes and 96104 edges'"
      ]
     },
     "execution_count": 91,
     "metadata": {},
     "output_type": "execute_result"
    }
   ],
   "source": [
    "nx.info(G2)"
   ]
  },
  {
   "cell_type": "markdown",
   "id": "7ef3c9e5",
   "metadata": {},
   "source": [
    "This code will create an undirected, unweighted graph with nodes for each hero and comic in the data, and edges between heroes and comics indicating which heroes appear in which comics. The node type (hero or comic) will be stored as an attribute of the node."
   ]
  },
  {
   "cell_type": "markdown",
   "id": "6b81ab8a",
   "metadata": {},
   "source": [
    "### Save the two graphs in a pickle files "
   ]
  },
  {
   "cell_type": "code",
   "execution_count": 93,
   "id": "f637ca6e",
   "metadata": {},
   "outputs": [],
   "source": [
    "import pickle\n",
    "\n",
    "# Save the graph to a file using pickle\n",
    "with open('graph1.pickle', 'wb') as f:\n",
    "    pickle.dump(G, f)\n",
    "    \n",
    "with open('graph2.pickle', 'wb') as f:\n",
    "    pickle.dump(G2, f)\n",
    "    "
   ]
  },
  {
   "cell_type": "code",
   "execution_count": 94,
   "id": "6d27eae8",
   "metadata": {},
   "outputs": [],
   "source": [
    "with open('graph1.pickle', 'rb') as f:\n",
    "    G1 = pickle.load(f)\n"
   ]
  },
  {
   "cell_type": "code",
   "execution_count": 96,
   "id": "c8db42e1",
   "metadata": {},
   "outputs": [
    {
     "data": {
      "text/plain": [
       "'MultiGraph with 6426 nodes and 224169 edges'"
      ]
     },
     "execution_count": 96,
     "metadata": {},
     "output_type": "execute_result"
    }
   ],
   "source": [
    "nx.info(G1)"
   ]
  },
  {
   "cell_type": "code",
   "execution_count": 97,
   "id": "75ff3d64",
   "metadata": {},
   "outputs": [],
   "source": [
    "with open('graph2.pickle', 'rb') as f:\n",
    "    G2 = pickle.load(f)"
   ]
  },
  {
   "cell_type": "markdown",
   "id": "32d7eb1c",
   "metadata": {},
   "source": [
    "## 2. Backend Implementation"
   ]
  },
  {
   "cell_type": "markdown",
   "id": "a92c7d7d",
   "metadata": {},
   "source": [
    "Definition: As the number of nodes and edges grows, we may request to work on a subset of the data to reduce computation time and improve network visualization. In this case, we will ask you only to consider the data for top N heros. We define the top N heroes as follows:\n",
    "- **Top N heroes**: The **top N heroes who have appeared in the most number of comics**. The 'edges.csv' file, which represents the comics in which each hero has appeared, can be used to filter these N heroes."
   ]
  },
  {
   "cell_type": "code",
   "execution_count": 17,
   "id": "a52b9bcb",
   "metadata": {},
   "outputs": [],
   "source": [
    "import pandas as pd"
   ]
  },
  {
   "cell_type": "code",
   "execution_count": 7,
   "id": "6896eea2",
   "metadata": {},
   "outputs": [
    {
     "data": {
      "text/html": [
       "<div>\n",
       "<style scoped>\n",
       "    .dataframe tbody tr th:only-of-type {\n",
       "        vertical-align: middle;\n",
       "    }\n",
       "\n",
       "    .dataframe tbody tr th {\n",
       "        vertical-align: top;\n",
       "    }\n",
       "\n",
       "    .dataframe thead th {\n",
       "        text-align: right;\n",
       "    }\n",
       "</style>\n",
       "<table border=\"1\" class=\"dataframe\">\n",
       "  <thead>\n",
       "    <tr style=\"text-align: right;\">\n",
       "      <th></th>\n",
       "      <th>hero</th>\n",
       "      <th>comic</th>\n",
       "    </tr>\n",
       "  </thead>\n",
       "  <tbody>\n",
       "    <tr>\n",
       "      <th>11116</th>\n",
       "      <td>CAPTAIN AMERICA</td>\n",
       "      <td>A '00</td>\n",
       "    </tr>\n",
       "    <tr>\n",
       "      <th>11117</th>\n",
       "      <td>CAPTAIN AMERICA</td>\n",
       "      <td>A 1</td>\n",
       "    </tr>\n",
       "    <tr>\n",
       "      <th>11118</th>\n",
       "      <td>CAPTAIN AMERICA</td>\n",
       "      <td>A 10</td>\n",
       "    </tr>\n",
       "    <tr>\n",
       "      <th>11119</th>\n",
       "      <td>CAPTAIN AMERICA</td>\n",
       "      <td>A 100</td>\n",
       "    </tr>\n",
       "    <tr>\n",
       "      <th>11120</th>\n",
       "      <td>CAPTAIN AMERICA</td>\n",
       "      <td>A 101</td>\n",
       "    </tr>\n",
       "    <tr>\n",
       "      <th>...</th>\n",
       "      <td>...</td>\n",
       "      <td>...</td>\n",
       "    </tr>\n",
       "    <tr>\n",
       "      <th>94166</th>\n",
       "      <td>WOLVERINE/LOGAN</td>\n",
       "      <td>XU 9</td>\n",
       "    </tr>\n",
       "    <tr>\n",
       "      <th>94167</th>\n",
       "      <td>WOLVERINE/LOGAN</td>\n",
       "      <td>XV.A 1</td>\n",
       "    </tr>\n",
       "    <tr>\n",
       "      <th>94168</th>\n",
       "      <td>WOLVERINE/LOGAN</td>\n",
       "      <td>XV.A 2</td>\n",
       "    </tr>\n",
       "    <tr>\n",
       "      <th>94169</th>\n",
       "      <td>WOLVERINE/LOGAN</td>\n",
       "      <td>XV.A 3</td>\n",
       "    </tr>\n",
       "    <tr>\n",
       "      <th>94170</th>\n",
       "      <td>WOLVERINE/LOGAN</td>\n",
       "      <td>XV.A 4</td>\n",
       "    </tr>\n",
       "  </tbody>\n",
       "</table>\n",
       "<p>10136 rows × 2 columns</p>\n",
       "</div>"
      ],
      "text/plain": [
       "                  hero   comic\n",
       "11116  CAPTAIN AMERICA   A '00\n",
       "11117  CAPTAIN AMERICA     A 1\n",
       "11118  CAPTAIN AMERICA    A 10\n",
       "11119  CAPTAIN AMERICA   A 100\n",
       "11120  CAPTAIN AMERICA   A 101\n",
       "...                ...     ...\n",
       "94166  WOLVERINE/LOGAN    XU 9\n",
       "94167  WOLVERINE/LOGAN  XV.A 1\n",
       "94168  WOLVERINE/LOGAN  XV.A 2\n",
       "94169  WOLVERINE/LOGAN  XV.A 3\n",
       "94170  WOLVERINE/LOGAN  XV.A 4\n",
       "\n",
       "[10136 rows x 2 columns]"
      ]
     },
     "metadata": {},
     "output_type": "display_data"
    }
   ],
   "source": [
    "edges_df = pd.read_csv('edges.csv')\n",
    "comic_counts = edges_df['hero'].value_counts()\n",
    "# Select the top N heroes\n",
    "N = 10\n",
    "top_heroes = comic_counts.head(N)\n",
    "# Create a new DataFrame that includes only the data for the top heroes\n",
    "top_heroes_df = edges_df[edges_df['hero'].isin(top_heroes.index)]\n",
    "\n",
    "display(top_heroes_df)\n"
   ]
  },
  {
   "cell_type": "code",
   "execution_count": 8,
   "id": "ca0c7219",
   "metadata": {},
   "outputs": [],
   "source": [
    "# save top_heroes_df in a file csv \n",
    "top_heroes_df.to_csv('top_heroes.csv', index=False)"
   ]
  },
  {
   "cell_type": "code",
   "execution_count": 12,
   "id": "fb20999c",
   "metadata": {},
   "outputs": [],
   "source": [
    "#read top_heroes_df\n",
    "top_heroes_df = pd.read_csv('top_heroes.csv')"
   ]
  },
  {
   "cell_type": "markdown",
   "id": "818d0c4f",
   "metadata": {},
   "source": [
    "The goal of this part is the implementation of a controller system that has different functionalities. The controller should take as input an identifier \"i\" and run the associated function_i applied to the graph you create from the downloaded data."
   ]
  },
  {
   "cell_type": "code",
   "execution_count": null,
   "id": "138ca04e",
   "metadata": {},
   "outputs": [],
   "source": [
    "# Define the functions for the different functionalities\n",
    "def function_1(G):\n",
    "    # Functionality 1\n",
    "    print('Functionality 1')\n",
    "\n",
    "def function_2(G):\n",
    "    # Functionality 2\n",
    "    print('Functionality 2')\n",
    "    \n",
    "    \n"
   ]
  },
  {
   "cell_type": "code",
   "execution_count": null,
   "id": "71198a6b",
   "metadata": {},
   "outputs": [],
   "source": [
    "# Create a dictionary mapping the identifier i to the function function_i\n",
    "functions = {\n",
    "    1: function_1,\n",
    "    2: function_2\n",
    "}"
   ]
  },
  {
   "cell_type": "code",
   "execution_count": null,
   "id": "cf7e18d9",
   "metadata": {},
   "outputs": [],
   "source": [
    "# Read the identifier i from the user\n",
    "i = int(input('Enter an identifier: '))\n",
    "\n",
    "# Look up the function corresponding to the identifier i\n",
    "func = functions[i]\n",
    "\n",
    "# Execute the function on the graph\n",
    "func(G)"
   ]
  },
  {
   "cell_type": "code",
   "execution_count": 18,
   "id": "b2e2ceae",
   "metadata": {},
   "outputs": [],
   "source": [
    "import pickle\n",
    "import pandas as pd\n",
    "import networkx as nx\n"
   ]
  },
  {
   "cell_type": "code",
   "execution_count": 19,
   "id": "2456bcf6",
   "metadata": {},
   "outputs": [],
   "source": [
    "# read a second graph from a pickle file\n",
    "G2 = pd.read_pickle(r'graph2.pickle')"
   ]
  },
  {
   "cell_type": "code",
   "execution_count": 163,
   "id": "8ff86fba",
   "metadata": {},
   "outputs": [],
   "source": [
    "# create 2 lists of all the heros and all the comics from the second graph\n",
    "#N = 100\n",
    "#G2_sub = nx.subgraph(G2, list(edges_df['hero'].value_counts().head(N).index) +   \n",
    "                         #list(edges_df[edges_df['hero'].isin(list(edges_df['hero'].value_counts().head(N).index))]['comic'].unique()))\n",
    "        \n",
    "G2_type = list(G2.nodes(data='type'))\n",
    "G2_h = []\n",
    "G2_c = []\n",
    "for x in G2_type:\n",
    "    if x[1] == 'hero':\n",
    "        G2_h.append(x[0])\n",
    "    else:\n",
    "        G2_c.append(x[0])\n"
   ]
  },
  {
   "cell_type": "code",
   "execution_count": 199,
   "id": "f5d8384c",
   "metadata": {},
   "outputs": [
    {
     "name": "stdout",
     "output_type": "stream",
     "text": [
      "['DREADFACE', 'SAPIR, HERSCHEL', 'HODER [ASGARDIAN]', 'SARIEL', 'JONES, RICHARD MILHO'] UNDERTAKER/CONRAD EI DISCUS\n"
     ]
    }
   ],
   "source": [
    "# create a random list of n heros from G2_h(the list of all heroes of the\n",
    "# second graph) for run the Functionality 3\n",
    "# and create h_1 and h_n random too \n",
    "import random \n",
    "random.seed(1145) #reproducibitily\n",
    "n = 5 # length of the list \n",
    "i = 0 \n",
    "h = []\n",
    "while i < n+2:\n",
    "    x = random.choice(G2_h)\n",
    "    if x not in h:\n",
    "        h.append(x)\n",
    "        i += 1\n",
    "\n",
    "\n",
    "h_1 = h[len(h)-1]\n",
    "h_n = h[len(h)-2]\n",
    "h.pop()\n",
    "h.pop()\n",
    "print(h,h_1,h_n)"
   ]
  },
  {
   "cell_type": "code",
   "execution_count": 147,
   "id": "08f9ad61",
   "metadata": {},
   "outputs": [],
   "source": [
    "# shortest walk \n",
    "def S_W(G, s, g):\n",
    "    stillvisit = [] # list of the explored nodes\n",
    "    queue = [[s]]   # list used like a queue \n",
    "    if s == g:\n",
    "        return\n",
    "    while queue:\n",
    "        path = queue.pop(0)          #remuve the last node \n",
    "        node = path[-1]              # consider the last node in the queue\n",
    "        if node not in stillvisit:   # check if the node is visited\n",
    "            #if node not in G:\n",
    "                #return None \n",
    "            #else:\n",
    "            neightbours = G[node]    # get all the neighbours of the node\n",
    "\n",
    "            for x in neightbours: \n",
    "                path_n = list(path)  \n",
    "                path_n.append(x)     # path_n is a temporary list\n",
    "                queue.append(path_n)\n",
    "\n",
    "                if x == g:\n",
    "                    return [x for x in path_n if x in G2_c] # get only the comics between heros \n",
    "\n",
    "\n",
    "\n",
    "            stillvisit.append(node)\n",
    "    return None"
   ]
  },
  {
   "cell_type": "code",
   "execution_count": 200,
   "id": "d36b1fac",
   "metadata": {},
   "outputs": [],
   "source": [
    "# function to merge a list of lists into a single list\n",
    "def flatten(l):\n",
    "    return [i for sublist in l for i in sublist]\n"
   ]
  },
  {
   "attachments": {},
   "cell_type": "markdown",
   "id": "8bc17dce",
   "metadata": {},
   "source": [
    "This function return the shortest walk between h_1 and h_n, which visit in order the nodes in h "
   ]
  },
  {
   "cell_type": "code",
   "execution_count": 161,
   "id": "86fdb65c",
   "metadata": {},
   "outputs": [],
   "source": [
    "def functionality_3(G, h_1, h_n, h, N=None):\n",
    "    if N is None:\n",
    "        G_sub = G\n",
    "    else:\n",
    "        G_sub = nx.subgraph(G, list(edges_df['hero'].value_counts().head(N).index) +   \n",
    "                         list(edges_df[edges_df['hero'].isin(list(edges_df['hero'].value_counts().head(N).index))]['comic'].unique()))\n",
    "        \n",
    "    N_S_P= True\n",
    "    final_path = []\n",
    "    if  S_W(G_sub, h_1, h[0]) != None: \n",
    "        final_path.append(S_W(G_sub, h_1, h[0]))\n",
    "    else:\n",
    "       N_S_P = False \n",
    "    for i in range(len(h)-1):\n",
    "        if  S_W(G_sub, h[i], h[i+1]) != None:\n",
    "            final_path.append(S_W(G_sub, h[i], h[i+1]))\n",
    "        else:\n",
    "            N_S_P = False\n",
    "    if  S_W(G_sub, h[len(h)-1], h_n) != None and N_S_P == True: \n",
    "        final_path.append( S_W(G_sub, h[len(h)-1], h_n))\n",
    "        f_path= [x[:-1] for x in final_path]\n",
    "        return f'the path is : {flatten(f_path)}'\n",
    "    else: \n",
    "        return 'there is no such path'\n",
    " \n"
   ]
  },
  {
   "cell_type": "code",
   "execution_count": 162,
   "id": "f12376d6",
   "metadata": {},
   "outputs": [
    {
     "data": {
      "text/plain": [
       "\"the path is : ['A 118']\""
      ]
     },
     "execution_count": 162,
     "metadata": {},
     "output_type": "execute_result"
    }
   ],
   "source": [
    "f = functionality_3(G2, h_1, h_n, h, 100 )\n",
    "f\n"
   ]
  },
  {
   "cell_type": "code",
   "execution_count": 201,
   "id": "6d4891c1",
   "metadata": {},
   "outputs": [],
   "source": [
    "def dijkstra(G, s, g):\n",
    "    S_P= {s: (None, 0)}\n",
    "    current = s\n",
    "    visited = set()\n",
    "\n",
    "    while current != g:\n",
    "        visited.add(current)\n",
    "        destinations = list(G[current])\n",
    "        dist_to_current = S_P[current][1] \n",
    "\n",
    "        for next in destinations:\n",
    "            dist = 1 + dist_to_current  \n",
    "            if next not in S_P:\n",
    "                S_P[next] = (current, dist)\n",
    "            else:\n",
    "                S_dist_current = S_P[next][1]\n",
    "                if S_dist_current > dist:\n",
    "                    S_P[next] = (current, dist)\n",
    "\n",
    "        next_destinations = {node: S_P[node] for node in S_P if node not in visited}\n",
    "        if not next_destinations: return None\n",
    "        current = min(next_destinations, key=lambda x: next_destinations[x][1])\n",
    "\n",
    "    final_P =[]\n",
    "    while current is not None:\n",
    "        final_P.append(current)\n",
    "        next = S_P[current][0]\n",
    "        current = next\n",
    "    final_P = final_P[::-1]\n",
    "    return final_P"
   ]
  },
  {
   "cell_type": "code",
   "execution_count": 207,
   "id": "fb04f965",
   "metadata": {},
   "outputs": [
    {
     "data": {
      "text/plain": [
       "['DREADFACE',\n",
       " 'FF 26',\n",
       " 'ANT-MAN/DR. HENRY J.',\n",
       " 'A 11',\n",
       " 'SPIDER-MAN/PETER PARKER',\n",
       " 'ASM 345',\n",
       " 'SAPIR, HERSCHEL']"
      ]
     },
     "execution_count": 207,
     "metadata": {},
     "output_type": "execute_result"
    }
   ],
   "source": [
    "dijkstra(G2, h[0], h[1])"
   ]
  },
  {
   "cell_type": "code",
   "execution_count": 208,
   "id": "94151688",
   "metadata": {},
   "outputs": [],
   "source": [
    "def functionality_3(G, h_1, h_n, h, N = None):\n",
    "    F_P = []\n",
    "    if N is None:\n",
    "        G_sub = G\n",
    "    else:\n",
    "        G_sub = nx.subgraph(G, list(edges_df['hero'].value_counts().head(N).index) +   \n",
    "                         list(edges_df[edges_df['hero'].isin(list(edges_df['hero'].value_counts().head(N).index))]['comic'].unique()))\n",
    "\n",
    "    if h_1 not in G_sub or h_n not in G_sub : return 'there is no such path'\n",
    "    for hero in h: \n",
    "        if hero not in G_sub : return 'there is no such path'\n",
    "    dij_1 = dijkstra(G_sub, h_1, h[0])\n",
    "    if dij_1 is None: return 'there is no such path'\n",
    "    else: F_P.append(dij_1[:-1])\n",
    "\n",
    "    for i in range(len(h)-1):\n",
    "        dij_i = dijkstra(G_sub, h[i], h[i+1])\n",
    "        if dij_i is None: return 'there is no such path'\n",
    "        else: F_P.append(dij_i[:-1])\n",
    "    \n",
    "    dij_n = dijkstra(G_sub, h[-1], h_n)\n",
    "    if dij_n is None: return 'there is no such path'\n",
    "    else: F_P.append(dij_n)\n",
    "    F_P = flatten(F_P)\n",
    "\n",
    "    F_comics_P = [x for x in F_P if x in G2_c]\n",
    "    return  F_P, F_comics_P\n",
    "\n",
    "\n",
    "    \n",
    "        "
   ]
  },
  {
   "cell_type": "code",
   "execution_count": 209,
   "id": "dce5c083",
   "metadata": {},
   "outputs": [
    {
     "data": {
      "text/plain": [
       "['AAF 16',\n",
       " 'FF 26',\n",
       " 'FF 26',\n",
       " 'A 11',\n",
       " 'SPIDER-MAN/PETER PARKER',\n",
       " 'ASM 345',\n",
       " 'ASM 345',\n",
       " 'TB 25',\n",
       " 'M/SH3 5',\n",
       " 'M/SH3 5',\n",
       " 'DAMCON2 4',\n",
       " 'PUN4 3',\n",
       " 'PUN4 3',\n",
       " 'H2 395',\n",
       " 'A 1',\n",
       " 'IM 126']"
      ]
     },
     "execution_count": 209,
     "metadata": {},
     "output_type": "execute_result"
    }
   ],
   "source": [
    "F_P, F_comics_P = functionality_3(G2, h_1, h_n, h)\n",
    "F_comics_P\n"
   ]
  },
  {
   "cell_type": "code",
   "execution_count": 210,
   "id": "97f2d254",
   "metadata": {},
   "outputs": [
    {
     "data": {
      "text/plain": [
       "['UNDERTAKER/CONRAD EI',\n",
       " 'AAF 16',\n",
       " 'HULK/DR. ROBERT BRUC',\n",
       " 'FF 26',\n",
       " 'DREADFACE',\n",
       " 'FF 26',\n",
       " 'ANT-MAN/DR. HENRY J.',\n",
       " 'A 11',\n",
       " 'SPIDER-MAN/PETER PARKER',\n",
       " 'ASM 345',\n",
       " 'SAPIR, HERSCHEL',\n",
       " 'ASM 345',\n",
       " 'BOOMERANG/FRED MYERS',\n",
       " 'TB 25',\n",
       " 'THOR/DR. DONALD BLAK',\n",
       " 'M/SH3 5',\n",
       " 'HODER [ASGARDIAN]',\n",
       " 'M/SH3 5',\n",
       " 'THOR/DR. DONALD BLAK',\n",
       " 'DAMCON2 4',\n",
       " 'PUNISHER II/FRANK CA',\n",
       " 'PUN4 3',\n",
       " 'SARIEL',\n",
       " 'PUN4 3',\n",
       " 'PUNISHER II/FRANK CA',\n",
       " 'H2 395',\n",
       " 'JONES, RICHARD MILHO',\n",
       " 'A 1',\n",
       " 'IRON MAN/TONY STARK',\n",
       " 'IM 126',\n",
       " 'DISCUS']"
      ]
     },
     "execution_count": 210,
     "metadata": {},
     "output_type": "execute_result"
    }
   ],
   "source": [
    "F_P"
   ]
  },
  {
   "cell_type": "code",
   "execution_count": 224,
   "id": "3227f27c",
   "metadata": {},
   "outputs": [
    {
     "data": {
      "text/plain": [
       "'there is no such path'"
      ]
     },
     "execution_count": 224,
     "metadata": {},
     "output_type": "execute_result"
    }
   ],
   "source": [
    "functionality_3(G2, h_1, h_n, h, 5500)"
   ]
  },
  {
   "cell_type": "code",
   "execution_count": 225,
   "id": "357df632",
   "metadata": {},
   "outputs": [
    {
     "data": {
      "image/png": "[encoded data removed]",
      "text/plain": [
       "<Figure size 640x480 with 1 Axes>"
      ]
     },
     "metadata": {},
     "output_type": "display_data"
    }
   ],
   "source": [
    "import matplotlib.pyplot as plt\n",
    "G2_sub_plot = nx.subgraph(G2, F_P)\n",
    "nx.draw(G2_sub_plot, with_labels=True, node_color= 'limegreen' )\n",
    "#nx.draw(G2, with_labels=False, node_color= 'blue' )"
   ]
  },
  {
   "cell_type": "markdown",
   "id": "9f516c4d",
   "metadata": {},
   "source": []
  }
 ],
 "metadata": {
  "kernelspec": {
   "display_name": "base",
   "language": "python",
   "name": "python3"
  },
  "language_info": {
   "codemirror_mode": {
    "name": "ipython",
    "version": 3
   },
   "file_extension": ".py",
   "mimetype": "text/x-python",
   "name": "python",
   "nbconvert_exporter": "python",
   "pygments_lexer": "ipython3",
   "version": "3.9.12"
  },
  "vscode": {
   "interpreter": {
    "hash": "0bd8366dd61484efe1154bbb10985feda2c8968ffd0237d4875eaa94b84ddc32"
   }
  }
 },
 "nbformat": 4,
 "nbformat_minor": 5
}
